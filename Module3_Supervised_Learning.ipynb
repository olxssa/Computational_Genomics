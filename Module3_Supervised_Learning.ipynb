{
 "cells": [
  {
   "cell_type": "markdown",
   "source": [
    "# Module 3: Supervised Learning\n",
    "[Computational Genomics Chapter 5](http://compgenomr.github.io/book/supervisedLearning.html)"
   ],
   "metadata": {
    "collapsed": false
   },
   "id": "91ce6f9e4059b95"
  },
  {
   "cell_type": "code",
   "execution_count": 1,
   "outputs": [],
   "source": [
    "import matplotlib.pyplot as plt\n",
    "import numpy as np\n",
    "import pandas as pd\n",
    "import rdata\n",
    "import seaborn as sns\n",
    "from scipy.ndimage import gaussian_filter1d"
   ],
   "metadata": {
    "collapsed": false,
    "ExecuteTime": {
     "end_time": "2024-11-22T16:27:26.018932Z",
     "start_time": "2024-11-22T16:27:25.847793Z"
    }
   },
   "id": "7873234f18caba52"
  },
  {
   "cell_type": "markdown",
   "source": [
    "### 3.1 How are machine learning models fitted?\n",
    "* Clustering and dimension reduction techniques can use optimization methods, but they do so without having a correct answer to predict or train with. In this case, they find patterns or structure in the data without trying to estimate a correct answer.\n",
    "* Machine learning models are optimization methods at their core. They all depend on defining a “cost” or “loss” function to minimize. For example, in linear regression the difference between the predicted and the original values are being minimized. When we have a data set with the correct answer such as original values or class labels, this is called supervised learning\n",
    "\n",
    "Basic algorithm:\n",
    "1. Define a prediction function or method $f(X)$.\n",
    "2. Devise a function (called the loss or cost function) to optimize the difference between your predictions and observed values, such as $\\sum (Y-f(X))^2$.\n",
    "3. Apply mathematical optimization methods to find the best parameter values for $f(X)$ in relation to the cost/loss function.\n",
    "\n",
    "Steps in supervised machine learning:\n",
    "1. Pre-processing data: normalization & data transformation procedures\n",
    "2. Training and test data split\n",
    "3. Training the model: “Training\" generally means your data set is used in optimization of the loss function to find parameters for $f(X)$\n",
    "4. Estimating performance of the model: Deciding which metrics to use to evaluate performance and how to calculate those metrics.\n",
    "5. Model tuning and selection: Try different parameters and select the best model."
   ],
   "metadata": {
    "collapsed": false
   },
   "id": "803b37b429b64839"
  },
  {
   "cell_type": "markdown",
   "source": [
    "### 3.2 Data preprocessing"
   ],
   "metadata": {
    "collapsed": false
   },
   "id": "7f2209f97f6139f7"
  },
  {
   "cell_type": "code",
   "execution_count": 2,
   "outputs": [
    {
     "data": {
      "text/plain": "       TCGA-CS-4941  TCGA-CS-4944  TCGA-CS-5393  TCGA-CS-5394  TCGA-CS-5395  \\\nA1BG        72.2326       24.7132       46.3789       37.9659       19.5162   \nA1CF         0.0000        0.0000        0.0000        0.0000        0.0000   \nA2BP1      524.4997      105.4092      323.5828       19.7390      299.5375   \nA2LD1      144.0856       18.0154       29.0942        7.5945      202.1231   \nA2ML1      521.3941      159.3746      164.6157       63.5664      953.4106   \n\n       TCGA-CS-5396  TCGA-CS-5397  TCGA-CS-6186  TCGA-CS-6188  TCGA-CS-6669  \\\nA1BG        90.6419      157.9335      221.6867      174.8391       58.8621   \nA1CF         0.0000        0.0000        0.0000        0.0000        0.4552   \nA2BP1       11.0438     1646.5054       18.8235       69.8011     4608.5571   \nA2LD1       17.5750       54.2608       76.0817       71.9060       33.6413   \nA2ML1       15.0318      526.5457     2173.6223       65.0995       55.5303   \n\n       ...  TCGA-TM-A84S  TCGA-TQ-A7RI  TCGA-TQ-A7RP  TCGA-TQ-A7RR  \\\nA1BG   ...      104.7671       57.8723      114.1298      140.9732   \nA1CF   ...        0.0000        0.4172        0.0000        0.0000   \nA2BP1  ...       81.6049      174.3846      284.1710      510.7475   \nA2LD1  ...       30.4386       26.4622      169.0268       40.7486   \nA2ML1  ...      301.0314      188.9862      709.3289      467.5436   \n\n       TCGA-TQ-A8XE  TCGA-VM-A8C9  TCGA-VM-A8CD  TCGA-VM-A8CF  TCGA-VW-A8FI  \\\nA1BG       114.4107      294.1675       37.9831      525.5287      149.7735   \nA1CF         0.3660        0.0000        0.0000        0.0000        0.0000   \nA2BP1       33.3089      125.4378      119.6291       21.9033       25.0298   \nA2LD1       26.8082       49.2200       56.2291       33.2477       91.8296   \nA2ML1       65.8858       16.5552      658.1315      172.2054       70.9178   \n\n       TCGA-WY-A859  \nA1BG        67.6466  \nA1CF         0.0000  \nA2BP1     2435.7939  \nA2LD1       21.7057  \nA2ML1      227.7500  \n\n[5 rows x 184 columns]",
      "text/html": "<div>\n<style scoped>\n    .dataframe tbody tr th:only-of-type {\n        vertical-align: middle;\n    }\n\n    .dataframe tbody tr th {\n        vertical-align: top;\n    }\n\n    .dataframe thead th {\n        text-align: right;\n    }\n</style>\n<table border=\"1\" class=\"dataframe\">\n  <thead>\n    <tr style=\"text-align: right;\">\n      <th></th>\n      <th>TCGA-CS-4941</th>\n      <th>TCGA-CS-4944</th>\n      <th>TCGA-CS-5393</th>\n      <th>TCGA-CS-5394</th>\n      <th>TCGA-CS-5395</th>\n      <th>TCGA-CS-5396</th>\n      <th>TCGA-CS-5397</th>\n      <th>TCGA-CS-6186</th>\n      <th>TCGA-CS-6188</th>\n      <th>TCGA-CS-6669</th>\n      <th>...</th>\n      <th>TCGA-TM-A84S</th>\n      <th>TCGA-TQ-A7RI</th>\n      <th>TCGA-TQ-A7RP</th>\n      <th>TCGA-TQ-A7RR</th>\n      <th>TCGA-TQ-A8XE</th>\n      <th>TCGA-VM-A8C9</th>\n      <th>TCGA-VM-A8CD</th>\n      <th>TCGA-VM-A8CF</th>\n      <th>TCGA-VW-A8FI</th>\n      <th>TCGA-WY-A859</th>\n    </tr>\n  </thead>\n  <tbody>\n    <tr>\n      <th>A1BG</th>\n      <td>72.2326</td>\n      <td>24.7132</td>\n      <td>46.3789</td>\n      <td>37.9659</td>\n      <td>19.5162</td>\n      <td>90.6419</td>\n      <td>157.9335</td>\n      <td>221.6867</td>\n      <td>174.8391</td>\n      <td>58.8621</td>\n      <td>...</td>\n      <td>104.7671</td>\n      <td>57.8723</td>\n      <td>114.1298</td>\n      <td>140.9732</td>\n      <td>114.4107</td>\n      <td>294.1675</td>\n      <td>37.9831</td>\n      <td>525.5287</td>\n      <td>149.7735</td>\n      <td>67.6466</td>\n    </tr>\n    <tr>\n      <th>A1CF</th>\n      <td>0.0000</td>\n      <td>0.0000</td>\n      <td>0.0000</td>\n      <td>0.0000</td>\n      <td>0.0000</td>\n      <td>0.0000</td>\n      <td>0.0000</td>\n      <td>0.0000</td>\n      <td>0.0000</td>\n      <td>0.4552</td>\n      <td>...</td>\n      <td>0.0000</td>\n      <td>0.4172</td>\n      <td>0.0000</td>\n      <td>0.0000</td>\n      <td>0.3660</td>\n      <td>0.0000</td>\n      <td>0.0000</td>\n      <td>0.0000</td>\n      <td>0.0000</td>\n      <td>0.0000</td>\n    </tr>\n    <tr>\n      <th>A2BP1</th>\n      <td>524.4997</td>\n      <td>105.4092</td>\n      <td>323.5828</td>\n      <td>19.7390</td>\n      <td>299.5375</td>\n      <td>11.0438</td>\n      <td>1646.5054</td>\n      <td>18.8235</td>\n      <td>69.8011</td>\n      <td>4608.5571</td>\n      <td>...</td>\n      <td>81.6049</td>\n      <td>174.3846</td>\n      <td>284.1710</td>\n      <td>510.7475</td>\n      <td>33.3089</td>\n      <td>125.4378</td>\n      <td>119.6291</td>\n      <td>21.9033</td>\n      <td>25.0298</td>\n      <td>2435.7939</td>\n    </tr>\n    <tr>\n      <th>A2LD1</th>\n      <td>144.0856</td>\n      <td>18.0154</td>\n      <td>29.0942</td>\n      <td>7.5945</td>\n      <td>202.1231</td>\n      <td>17.5750</td>\n      <td>54.2608</td>\n      <td>76.0817</td>\n      <td>71.9060</td>\n      <td>33.6413</td>\n      <td>...</td>\n      <td>30.4386</td>\n      <td>26.4622</td>\n      <td>169.0268</td>\n      <td>40.7486</td>\n      <td>26.8082</td>\n      <td>49.2200</td>\n      <td>56.2291</td>\n      <td>33.2477</td>\n      <td>91.8296</td>\n      <td>21.7057</td>\n    </tr>\n    <tr>\n      <th>A2ML1</th>\n      <td>521.3941</td>\n      <td>159.3746</td>\n      <td>164.6157</td>\n      <td>63.5664</td>\n      <td>953.4106</td>\n      <td>15.0318</td>\n      <td>526.5457</td>\n      <td>2173.6223</td>\n      <td>65.0995</td>\n      <td>55.5303</td>\n      <td>...</td>\n      <td>301.0314</td>\n      <td>188.9862</td>\n      <td>709.3289</td>\n      <td>467.5436</td>\n      <td>65.8858</td>\n      <td>16.5552</td>\n      <td>658.1315</td>\n      <td>172.2054</td>\n      <td>70.9178</td>\n      <td>227.7500</td>\n    </tr>\n  </tbody>\n</table>\n<p>5 rows × 184 columns</p>\n</div>"
     },
     "execution_count": 2,
     "metadata": {},
     "output_type": "execute_result"
    }
   ],
   "source": [
    "# Load the cancer rna subset dataset with CpG island methylator phenotype (CIMP)\n",
    "r_data = rdata.parser.parse_file(\"/Users/olyssa/Downloads/compGenomRData-1-2.0/inst/extdata/LGGrnaseq.rds\")\n",
    "as_dict = rdata.conversion.convert(r_data)\n",
    "gexp = pd.DataFrame(as_dict)\n",
    "gexp = gexp.set_axis(list(as_dict.dim_1.to_numpy()), axis=1)\n",
    "gexp = gexp.set_axis(list(as_dict.dim_0.to_numpy()), axis=0)\n",
    "gexp.head()"
   ],
   "metadata": {
    "collapsed": false,
    "ExecuteTime": {
     "end_time": "2024-11-22T16:27:26.647410Z",
     "start_time": "2024-11-22T16:27:26.014083Z"
    }
   },
   "id": "5d4f825796082432"
  },
  {
   "cell_type": "code",
   "execution_count": 3,
   "outputs": [
    {
     "data": {
      "text/plain": "             subtype\nTCGA-FG-8185    CIMP\nTCGA-DB-5276    CIMP\nTCGA-P5-A77X    CIMP\nTCGA-IK-8125    CIMP\nTCGA-DU-A5TR    CIMP",
      "text/html": "<div>\n<style scoped>\n    .dataframe tbody tr th:only-of-type {\n        vertical-align: middle;\n    }\n\n    .dataframe tbody tr th {\n        vertical-align: top;\n    }\n\n    .dataframe thead th {\n        text-align: right;\n    }\n</style>\n<table border=\"1\" class=\"dataframe\">\n  <thead>\n    <tr style=\"text-align: right;\">\n      <th></th>\n      <th>subtype</th>\n    </tr>\n  </thead>\n  <tbody>\n    <tr>\n      <th>TCGA-FG-8185</th>\n      <td>CIMP</td>\n    </tr>\n    <tr>\n      <th>TCGA-DB-5276</th>\n      <td>CIMP</td>\n    </tr>\n    <tr>\n      <th>TCGA-P5-A77X</th>\n      <td>CIMP</td>\n    </tr>\n    <tr>\n      <th>TCGA-IK-8125</th>\n      <td>CIMP</td>\n    </tr>\n    <tr>\n      <th>TCGA-DU-A5TR</th>\n      <td>CIMP</td>\n    </tr>\n  </tbody>\n</table>\n</div>"
     },
     "execution_count": 3,
     "metadata": {},
     "output_type": "execute_result"
    }
   ],
   "source": [
    "r_data = rdata.parser.parse_file(\"/Users/olyssa/Downloads/compGenomRData-1-2.0/inst/extdata/patient2LGGsubtypes.rds\")\n",
    "as_dict = rdata.conversion.convert(r_data)\n",
    "patient = pd.DataFrame(as_dict)\n",
    "patient.head()"
   ],
   "metadata": {
    "collapsed": false,
    "ExecuteTime": {
     "end_time": "2024-11-22T16:27:26.675003Z",
     "start_time": "2024-11-22T16:27:26.644856Z"
    }
   },
   "id": "7b7ec783741715e4"
  },
  {
   "cell_type": "markdown",
   "source": [
    "#### 3.2.1 Data normalization and transformation"
   ],
   "metadata": {
    "collapsed": false
   },
   "id": "b20fc7cf0fca612a"
  },
  {
   "cell_type": "code",
   "execution_count": 4,
   "outputs": [
    {
     "data": {
      "text/plain": "<Figure size 640x480 with 1 Axes>",
      "image/png": "[encoded data removed]"
     },
     "metadata": {},
     "output_type": "display_data"
    }
   ],
   "source": [
    "# Boxplots for the first 30 gene expression values\n",
    "\n",
    "plt.boxplot(gexp.iloc[:, :30], patch_artist=True, showfliers=False, boxprops=dict(facecolor=\"cornflowerblue\"))\n",
    "plt.show()"
   ],
   "metadata": {
    "collapsed": false,
    "ExecuteTime": {
     "end_time": "2024-11-22T16:27:26.902073Z",
     "start_time": "2024-11-22T16:27:26.661329Z"
    }
   },
   "id": "a2e7c85f938d7684"
  },
  {
   "cell_type": "code",
   "execution_count": 5,
   "outputs": [
    {
     "data": {
      "text/plain": "<Figure size 1200x500 with 2 Axes>",
      "image/png": "[encoded data removed]"
     },
     "metadata": {},
     "output_type": "display_data"
    }
   ],
   "source": [
    "#  Gene expression distribution for the 5th patient (left) & Log transformed gene expression distribution for the same patient (right)\n",
    "\n",
    "gene_expression = gexp.iloc[:, 4]  \n",
    "log_gene_expression = np.log10(gexp + 1).iloc[:, 4] # taking log10 and adding pseudo-count\n",
    "\n",
    "\n",
    "plt.figure(figsize=(12, 5)) \n",
    "\n",
    "# First histogram: Raw gene expression\n",
    "plt.subplot(1, 2, 1)\n",
    "plt.hist(gene_expression, bins=30, color=\"cornflowerblue\")\n",
    "plt.xlabel(\"Gene expression\")\n",
    "plt.title(\"\")\n",
    "\n",
    "# Second histogram: Log-transformed gene expression\n",
    "plt.subplot(1, 2, 2)\n",
    "plt.hist(log_gene_expression, bins=30, color=\"cornflowerblue\")\n",
    "plt.xlabel(\"Gene expression (log scale)\")\n",
    "plt.title(\"\")\n",
    "\n",
    "plt.tight_layout()\n",
    "plt.show()"
   ],
   "metadata": {
    "collapsed": false,
    "ExecuteTime": {
     "end_time": "2024-11-22T16:27:27.150786Z",
     "start_time": "2024-11-22T16:27:26.906762Z"
    }
   },
   "id": "d31c4f141d7b4b5f"
  },
  {
   "cell_type": "code",
   "execution_count": 6,
   "outputs": [],
   "source": [
    "# Transpose data\n",
    "gexp_t = gexp.T"
   ],
   "metadata": {
    "collapsed": false,
    "ExecuteTime": {
     "end_time": "2024-11-22T16:27:27.150898Z",
     "start_time": "2024-11-22T16:27:27.145445Z"
    }
   },
   "id": "dc2ead1752ee7708"
  },
  {
   "cell_type": "markdown",
   "source": [
    "#### 3.2.2 Data filtering and scaling"
   ],
   "metadata": {
    "collapsed": false
   },
   "id": "3447075f4a58d7c3"
  },
  {
   "cell_type": "code",
   "execution_count": 7,
   "outputs": [],
   "source": [
    "# Filter out near-zero features\n",
    "\n",
    "from sklearn.feature_selection import VarianceThreshold\n",
    "\n",
    "# Define a threshold for near-zero variance (85% of values the same)\n",
    "threshold = 0.85 * (1 - 0.85)  # Variance of a binary variable with 85% identical values\n",
    "\n",
    "# Initialize the VarianceThreshold filter\n",
    "nzv_filter = VarianceThreshold(threshold=threshold)\n",
    "\n",
    "# Apply the filter to the dataset\n",
    "gexp_t_nzv = nzv_filter.fit_transform(gexp_t)\n",
    "\n",
    "# Convert back to a pandas DataFrame\n",
    "gexp_t_nzv = pd.DataFrame(gexp_t_nzv, columns=gexp_t.columns[nzv_filter.get_support()])"
   ],
   "metadata": {
    "collapsed": false,
    "ExecuteTime": {
     "end_time": "2024-11-22T16:27:27.444919Z",
     "start_time": "2024-11-22T16:27:27.149455Z"
    }
   },
   "id": "cc0b7ad89651f3bb"
  },
  {
   "cell_type": "code",
   "execution_count": 8,
   "outputs": [],
   "source": [
    "# Selecting top 1,000 features with highest standard deviations\n",
    "\n",
    "# Calculate the standard deviation of each column\n",
    "SDs = gexp_t.std(axis=0) \n",
    "\n",
    "# Get the indices of the top 1,000 columns with the highest standard deviation\n",
    "topPreds = SDs.nlargest(1000).index\n",
    "\n",
    "# Subset the gexp_t DataFrame to include only the top 1,000 columns\n",
    "gexp_t = gexp_t[topPreds]"
   ],
   "metadata": {
    "collapsed": false,
    "ExecuteTime": {
     "end_time": "2024-11-22T16:27:27.470568Z",
     "start_time": "2024-11-22T16:27:27.444529Z"
    }
   },
   "id": "827d82decfca78ba"
  },
  {
   "cell_type": "code",
   "execution_count": 9,
   "outputs": [],
   "source": [
    "# Standardize data\n",
    "\n",
    "from sklearn.preprocessing import StandardScaler\n",
    "\n",
    "# Initialize the scaler with centering only (no scaling to unit variance)\n",
    "scaler = StandardScaler(with_mean=True, with_std=False)\n",
    "\n",
    "# Fit the scaler to the data and transform it\n",
    "gexp_t_st = scaler.fit_transform(gexp_t)\n",
    "\n",
    "# Convert back to a pandas DataFrame\n",
    "gexp_t = pd.DataFrame(gexp_t_st, columns=gexp_t.columns)"
   ],
   "metadata": {
    "collapsed": false,
    "ExecuteTime": {
     "end_time": "2024-11-22T16:27:27.477246Z",
     "start_time": "2024-11-22T16:27:27.468557Z"
    }
   },
   "id": "9208b80c02a219c6"
  },
  {
   "cell_type": "code",
   "execution_count": 10,
   "outputs": [],
   "source": [
    "# Filter out highly correlated features\n",
    "\n",
    "# Calculate the correlation matrix\n",
    "correlation_matrix = gexp_t.corr().abs()\n",
    "\n",
    "# Identify columns to drop based on the cutoff (0.9 in this case)\n",
    "upper_triangle = correlation_matrix.where(np.triu(np.ones(correlation_matrix.shape), k=1).astype(bool))\n",
    "to_drop = [column for column in upper_triangle.columns if any(upper_triangle[column] > 0.9)]\n",
    "\n",
    "# Remove the highly correlated columns\n",
    "gexp_t = gexp_t.drop(columns=to_drop)"
   ],
   "metadata": {
    "collapsed": false,
    "ExecuteTime": {
     "end_time": "2024-11-22T16:27:27.988265Z",
     "start_time": "2024-11-22T16:27:27.476852Z"
    }
   },
   "id": "6ca2ea38481587ce"
  },
  {
   "cell_type": "markdown",
   "source": [
    "#### 3.2.3 Dealing with missing values"
   ],
   "metadata": {
    "collapsed": false
   },
   "id": "d8478fb6cc15ba40"
  },
  {
   "cell_type": "code",
   "execution_count": 11,
   "outputs": [
    {
     "name": "stdout",
     "output_type": "stream",
     "text": [
      "True\n"
     ]
    }
   ],
   "source": [
    "# Check if there are NA values\n",
    "\n",
    "# Create a copy of tgexp\n",
    "missing_tgexp = gexp_t.copy()\n",
    "\n",
    "# Introduce a missing value (NA equivalent in R)\n",
    "missing_tgexp.iloc[0, 0] = np.nan  # Set the first row, first column to NaN\n",
    "\n",
    "# Check if there are any missing values\n",
    "any_missing = missing_tgexp.isnull().values.any()\n",
    "print(any_missing) "
   ],
   "metadata": {
    "collapsed": false,
    "ExecuteTime": {
     "end_time": "2024-11-22T16:27:27.991907Z",
     "start_time": "2024-11-22T16:27:27.982562Z"
    }
   },
   "id": "6bf3f5985c45b23c"
  },
  {
   "cell_type": "code",
   "execution_count": 12,
   "outputs": [],
   "source": [
    "# Remove columns that contain any missing values\n",
    "\n",
    "gexpnoNA = missing_tgexp.loc[:, missing_tgexp.isnull().sum(axis=0) == 0]"
   ],
   "metadata": {
    "collapsed": false,
    "ExecuteTime": {
     "end_time": "2024-11-22T16:27:28.001423Z",
     "start_time": "2024-11-22T16:27:27.993562Z"
    }
   },
   "id": "5cb253e524c25779"
  },
  {
   "cell_type": "code",
   "execution_count": 13,
   "outputs": [],
   "source": [
    "# Impute missing values\n",
    "\n",
    "from sklearn.impute import SimpleImputer\n",
    "\n",
    "# Create the imputer that replaces missing values with the median\n",
    "imputer = SimpleImputer(strategy='median')\n",
    "\n",
    "# Fit the imputer and transform the data\n",
    "imputedGexp = pd.DataFrame(imputer.fit_transform(missing_tgexp), columns=missing_tgexp.columns)"
   ],
   "metadata": {
    "collapsed": false,
    "ExecuteTime": {
     "end_time": "2024-11-22T16:27:28.050260Z",
     "start_time": "2024-11-22T16:27:28.000492Z"
    }
   },
   "id": "5caaee2ad176bdff"
  },
  {
   "cell_type": "code",
   "execution_count": 14,
   "outputs": [],
   "source": [
    "from sklearn.impute import KNNImputer\n",
    "\n",
    "# Create the KNN imputer with a specified number of neighbors (e.g., 5)\n",
    "knn_imputer = KNNImputer(n_neighbors=5)\n",
    "\n",
    "# Fit the KNN imputer and transform the data\n",
    "knnimputedGexp = pd.DataFrame(knn_imputer.fit_transform(missing_tgexp), columns=missing_tgexp.columns)"
   ],
   "metadata": {
    "collapsed": false,
    "ExecuteTime": {
     "end_time": "2024-11-22T16:27:28.061174Z",
     "start_time": "2024-11-22T16:27:28.025391Z"
    }
   },
   "id": "18bab0c1557029d0"
  },
  {
   "cell_type": "markdown",
   "source": [
    "### 3.3 Splitting the data"
   ],
   "metadata": {
    "collapsed": false
   },
   "id": "48835c48736d2e33"
  },
  {
   "cell_type": "markdown",
   "source": [
    "#### 3.3.1 Holdout test dataset\n",
    "\n",
    "* Gold standard: 30 % of the data as test"
   ],
   "metadata": {
    "collapsed": false
   },
   "id": "3c9934f662259ae1"
  },
  {
   "cell_type": "code",
   "execution_count": 15,
   "outputs": [
    {
     "data": {
      "text/plain": "  subtype            ID          GFAP            CLU           TTR  \\\n0    CIMP  TCGA-FG-8185 -370142.91494 -135127.268781 -13788.740185   \n1    CIMP  TCGA-DB-5276   78095.84586  -43534.461981 -13783.724185   \n2    CIMP  TCGA-P5-A77X -211127.20414  -45035.421381 -13789.641885   \n3    CIMP  TCGA-IK-8125 -178882.67394  -75892.719381 -13789.641885   \n4    CIMP  TCGA-DU-A5TR  112840.34346   46411.906419 -13770.794885   \n\n           SPARC            MBP           PLP1        CHI3L1           BCAN  \\\n0  -22574.170261  -57697.782656  -35291.313577 -18104.372229  105518.611502   \n1  -35726.542261  110587.687744  118343.211423 -17805.603329   -7427.906898   \n2  119925.391839  -25407.598256  -16695.529577 -18057.465329  -19912.825098   \n3   15390.942339  -50963.870056  -23662.847177 -17846.484629    4040.711602   \n4  -75080.222861  -20666.388356  -12088.355377 -15854.101729    3054.090002   \n\n   ...      KIF21B        SGK1        STAB1         CD68        MMP14  \\\n0  ... -262.462664  3633.22604  -482.980513 -1687.121261  -496.074264   \n1  ... -781.687764   598.79224  -562.448513   308.965439 -1337.419064   \n2  ...  454.854436 -2383.42066 -1155.473413 -1900.432161 -1696.269564   \n3  ...  759.063336 -1253.62086  -688.490513 -1473.658461 -1569.421764   \n4  ... -477.734364 -1613.72576  3474.958987  1770.509039  -206.968764   \n\n        FAM84B       CSNK1E       PPP1CB         TRIO       IQSEC1  \n0  1667.673082  4183.386124  3980.495801 -1292.878354 -2188.459333  \n1  -884.621018  -876.304276   977.009901 -1614.341954  -250.736633  \n2 -1067.854718  1523.493324  -214.219099  -814.567154  -238.921633  \n3  -105.317518   727.676124 -1095.651099   216.845846   419.122767  \n4 -1600.370318   485.332924   340.426601 -1294.462454 -1874.864233  \n\n[5 rows x 793 columns]",
      "text/html": "<div>\n<style scoped>\n    .dataframe tbody tr th:only-of-type {\n        vertical-align: middle;\n    }\n\n    .dataframe tbody tr th {\n        vertical-align: top;\n    }\n\n    .dataframe thead th {\n        text-align: right;\n    }\n</style>\n<table border=\"1\" class=\"dataframe\">\n  <thead>\n    <tr style=\"text-align: right;\">\n      <th></th>\n      <th>subtype</th>\n      <th>ID</th>\n      <th>GFAP</th>\n      <th>CLU</th>\n      <th>TTR</th>\n      <th>SPARC</th>\n      <th>MBP</th>\n      <th>PLP1</th>\n      <th>CHI3L1</th>\n      <th>BCAN</th>\n      <th>...</th>\n      <th>KIF21B</th>\n      <th>SGK1</th>\n      <th>STAB1</th>\n      <th>CD68</th>\n      <th>MMP14</th>\n      <th>FAM84B</th>\n      <th>CSNK1E</th>\n      <th>PPP1CB</th>\n      <th>TRIO</th>\n      <th>IQSEC1</th>\n    </tr>\n  </thead>\n  <tbody>\n    <tr>\n      <th>0</th>\n      <td>CIMP</td>\n      <td>TCGA-FG-8185</td>\n      <td>-370142.91494</td>\n      <td>-135127.268781</td>\n      <td>-13788.740185</td>\n      <td>-22574.170261</td>\n      <td>-57697.782656</td>\n      <td>-35291.313577</td>\n      <td>-18104.372229</td>\n      <td>105518.611502</td>\n      <td>...</td>\n      <td>-262.462664</td>\n      <td>3633.22604</td>\n      <td>-482.980513</td>\n      <td>-1687.121261</td>\n      <td>-496.074264</td>\n      <td>1667.673082</td>\n      <td>4183.386124</td>\n      <td>3980.495801</td>\n      <td>-1292.878354</td>\n      <td>-2188.459333</td>\n    </tr>\n    <tr>\n      <th>1</th>\n      <td>CIMP</td>\n      <td>TCGA-DB-5276</td>\n      <td>78095.84586</td>\n      <td>-43534.461981</td>\n      <td>-13783.724185</td>\n      <td>-35726.542261</td>\n      <td>110587.687744</td>\n      <td>118343.211423</td>\n      <td>-17805.603329</td>\n      <td>-7427.906898</td>\n      <td>...</td>\n      <td>-781.687764</td>\n      <td>598.79224</td>\n      <td>-562.448513</td>\n      <td>308.965439</td>\n      <td>-1337.419064</td>\n      <td>-884.621018</td>\n      <td>-876.304276</td>\n      <td>977.009901</td>\n      <td>-1614.341954</td>\n      <td>-250.736633</td>\n    </tr>\n    <tr>\n      <th>2</th>\n      <td>CIMP</td>\n      <td>TCGA-P5-A77X</td>\n      <td>-211127.20414</td>\n      <td>-45035.421381</td>\n      <td>-13789.641885</td>\n      <td>119925.391839</td>\n      <td>-25407.598256</td>\n      <td>-16695.529577</td>\n      <td>-18057.465329</td>\n      <td>-19912.825098</td>\n      <td>...</td>\n      <td>454.854436</td>\n      <td>-2383.42066</td>\n      <td>-1155.473413</td>\n      <td>-1900.432161</td>\n      <td>-1696.269564</td>\n      <td>-1067.854718</td>\n      <td>1523.493324</td>\n      <td>-214.219099</td>\n      <td>-814.567154</td>\n      <td>-238.921633</td>\n    </tr>\n    <tr>\n      <th>3</th>\n      <td>CIMP</td>\n      <td>TCGA-IK-8125</td>\n      <td>-178882.67394</td>\n      <td>-75892.719381</td>\n      <td>-13789.641885</td>\n      <td>15390.942339</td>\n      <td>-50963.870056</td>\n      <td>-23662.847177</td>\n      <td>-17846.484629</td>\n      <td>4040.711602</td>\n      <td>...</td>\n      <td>759.063336</td>\n      <td>-1253.62086</td>\n      <td>-688.490513</td>\n      <td>-1473.658461</td>\n      <td>-1569.421764</td>\n      <td>-105.317518</td>\n      <td>727.676124</td>\n      <td>-1095.651099</td>\n      <td>216.845846</td>\n      <td>419.122767</td>\n    </tr>\n    <tr>\n      <th>4</th>\n      <td>CIMP</td>\n      <td>TCGA-DU-A5TR</td>\n      <td>112840.34346</td>\n      <td>46411.906419</td>\n      <td>-13770.794885</td>\n      <td>-75080.222861</td>\n      <td>-20666.388356</td>\n      <td>-12088.355377</td>\n      <td>-15854.101729</td>\n      <td>3054.090002</td>\n      <td>...</td>\n      <td>-477.734364</td>\n      <td>-1613.72576</td>\n      <td>3474.958987</td>\n      <td>1770.509039</td>\n      <td>-206.968764</td>\n      <td>-1600.370318</td>\n      <td>485.332924</td>\n      <td>340.426601</td>\n      <td>-1294.462454</td>\n      <td>-1874.864233</td>\n    </tr>\n  </tbody>\n</table>\n<p>5 rows × 793 columns</p>\n</div>"
     },
     "execution_count": 15,
     "metadata": {},
     "output_type": "execute_result"
    }
   ],
   "source": [
    "# Merge patient and gexp_t dataframes\n",
    "\n",
    "patient['ID'] = patient.index\n",
    "gexp_t['ID'] = gexp.columns\n",
    "gexp_t_merged = pd.merge(patient, gexp_t, on='ID', how='left')\n",
    "gexp_t_merged.index = gexp_t_merged.index \n",
    "gexp_t_merged.head()"
   ],
   "metadata": {
    "collapsed": false,
    "ExecuteTime": {
     "end_time": "2024-11-22T16:27:28.063081Z",
     "start_time": "2024-11-22T16:27:28.042597Z"
    }
   },
   "id": "48a7dfb990084a79"
  },
  {
   "cell_type": "code",
   "execution_count": 16,
   "outputs": [],
   "source": [
    "# Split data into 30 % test and 70 % training\n",
    "\n",
    "from sklearn.model_selection import train_test_split\n",
    "\n",
    "random_seed = 3031\n",
    "\n",
    "# Split the data into training and testing sets (70% training, 30% testing)\n",
    "# The first column is the target variable (y)\n",
    "training, testing = train_test_split(gexp_t_merged, \n",
    "                                     test_size=0.3, \n",
    "                                     random_state=random_seed, \n",
    "                                     stratify=gexp_t_merged.iloc[:, 0])"
   ],
   "metadata": {
    "collapsed": false,
    "ExecuteTime": {
     "end_time": "2024-11-22T16:27:28.064373Z",
     "start_time": "2024-11-22T16:27:28.057625Z"
    }
   },
   "id": "4c16019ec225f2c3"
  },
  {
   "cell_type": "markdown",
   "source": [
    "#### 3.3.2 Cross-validation\n",
    "* When dataset is too small to set aside a significant portion of data as test a resampling-based technique like cross-validation may be useful.\n",
    "* Cross-validation works by splitting the data into randomly sampled $k$ subsets, called k-folds. \n",
    "* Each time, $k-1$ of the $k$ groups are combined and used to train the model and estimate errors. \n",
    "* In that way $k$ error estimates that can be averaged to obtain a more robust estimate of the test error.\n",
    "* Extreme case: $k$ is set equal to the number of data points, which is called the leave-one-out cross-validation (LOOCV)."
   ],
   "metadata": {
    "collapsed": false
   },
   "id": "1576116c957591c2"
  },
  {
   "cell_type": "markdown",
   "source": [
    "#### 3.3.3 Bootstrap resampling\n",
    "* It is used to estimate the variability of any statistical parameter.\n",
    "* The training set is drawn from the original set including replacement and a model is build with the bootstrap resampled set.\n",
    "*  Next, data points that are not selected for the random sample are selected and labels for them are predicted (out-of-the-bag (OOB) sample).\n",
    "* This process is repeated many times (e.g. 1000 times) and errors for the OOB samples are repeated.\n",
    "* The average of the OOB errors can be used to estimate the real test error."
   ],
   "metadata": {
    "collapsed": false
   },
   "id": "6961a9777dfd2bd3"
  },
  {
   "cell_type": "markdown",
   "source": [
    "#### 3.3.4 Training-validation-test\n",
    "* This data split strategy creates three partitions of the dataset, training, validation, and test sets. \n",
    "* In this strategy, the training set is used to train the data and the validation set is used to tune the model to the best possible model. \n",
    "* The final partition, “test”, is only used for the final test and should not be used to tune the model. \n",
    "* This is regarded as the real-world prediction error for your model. \n",
    "* This strategy works when you have a lot of data to do a three-way split."
   ],
   "metadata": {
    "collapsed": false
   },
   "id": "bba7e38dcc3d55ea"
  },
  {
   "cell_type": "markdown",
   "source": [
    "### 3.4 Predicting the subtype with k-nearest neighbors"
   ],
   "metadata": {
    "collapsed": false
   },
   "id": "e4856e1aadd40c45"
  },
  {
   "cell_type": "code",
   "execution_count": 17,
   "outputs": [
    {
     "data": {
      "text/plain": "    subtype            ID          GFAP            CLU           TTR  \\\n154  noCIMP  TCGA-HT-8110  557111.02406  -85620.501681 -13747.261785   \n140  noCIMP  TCGA-FG-A70Z   17438.83216   61023.460219 -13787.301485   \n118  noCIMP  TCGA-DU-8165 -284040.12904  -76192.401381 -13762.239485   \n117  noCIMP  TCGA-DU-8162 -272362.63104 -104385.599081 -13789.303985   \n116  noCIMP  TCGA-DU-8161 -264456.71304  295007.719119 -13789.641885   \n\n            SPARC           MBP          PLP1        CHI3L1          BCAN  \\\n154 -31628.513661 -34801.552156 -23606.675677 -10713.004129  -2385.865098   \n140 -21369.069261 -46927.515756 -34679.768577  -5963.083629  28597.963202   \n118 -69387.494661 -44480.370256 -31068.579477   -565.358929 -54187.357898   \n117 -70932.526761  47591.881644  75327.531423 -10591.073329 -51048.353698   \n116 -21123.200361 -29544.848456 -21931.804477  42288.380971 -19233.512698   \n\n     ...       KIF21B        SGK1        STAB1         CD68        MMP14  \\\n154  ...  -636.196464  2816.51594   210.150987  5245.044139  -220.892564   \n140  ... -1127.028664  -304.50206   515.548987    32.060339   123.744636   \n118  ... -1931.574764 -1956.52426  1723.985387   307.945039  3103.842936   \n117  ...   627.440636   823.60264 -1094.557913 -1255.341661 -1154.568764   \n116  ... -1131.757164   632.41614   324.395587  1283.810139  -161.117564   \n\n          FAM84B       CSNK1E       PPP1CB         TRIO       IQSEC1  \n154 -1178.484418 -2090.084476  -587.522299  -935.373754  -592.385833  \n140  -846.417418    85.279124   199.743101 -1154.912254   302.583667  \n118 -1050.994718 -1329.490376  7038.227601 -1623.285454 -1292.324933  \n117 -1012.874318 -1606.794376  -533.857799   907.648446  3499.860767  \n116  -675.696618 -2756.415676   781.063201  -212.003154   -88.119833  \n\n[5 rows x 793 columns]",
      "text/html": "<div>\n<style scoped>\n    .dataframe tbody tr th:only-of-type {\n        vertical-align: middle;\n    }\n\n    .dataframe tbody tr th {\n        vertical-align: top;\n    }\n\n    .dataframe thead th {\n        text-align: right;\n    }\n</style>\n<table border=\"1\" class=\"dataframe\">\n  <thead>\n    <tr style=\"text-align: right;\">\n      <th></th>\n      <th>subtype</th>\n      <th>ID</th>\n      <th>GFAP</th>\n      <th>CLU</th>\n      <th>TTR</th>\n      <th>SPARC</th>\n      <th>MBP</th>\n      <th>PLP1</th>\n      <th>CHI3L1</th>\n      <th>BCAN</th>\n      <th>...</th>\n      <th>KIF21B</th>\n      <th>SGK1</th>\n      <th>STAB1</th>\n      <th>CD68</th>\n      <th>MMP14</th>\n      <th>FAM84B</th>\n      <th>CSNK1E</th>\n      <th>PPP1CB</th>\n      <th>TRIO</th>\n      <th>IQSEC1</th>\n    </tr>\n  </thead>\n  <tbody>\n    <tr>\n      <th>154</th>\n      <td>noCIMP</td>\n      <td>TCGA-HT-8110</td>\n      <td>557111.02406</td>\n      <td>-85620.501681</td>\n      <td>-13747.261785</td>\n      <td>-31628.513661</td>\n      <td>-34801.552156</td>\n      <td>-23606.675677</td>\n      <td>-10713.004129</td>\n      <td>-2385.865098</td>\n      <td>...</td>\n      <td>-636.196464</td>\n      <td>2816.51594</td>\n      <td>210.150987</td>\n      <td>5245.044139</td>\n      <td>-220.892564</td>\n      <td>-1178.484418</td>\n      <td>-2090.084476</td>\n      <td>-587.522299</td>\n      <td>-935.373754</td>\n      <td>-592.385833</td>\n    </tr>\n    <tr>\n      <th>140</th>\n      <td>noCIMP</td>\n      <td>TCGA-FG-A70Z</td>\n      <td>17438.83216</td>\n      <td>61023.460219</td>\n      <td>-13787.301485</td>\n      <td>-21369.069261</td>\n      <td>-46927.515756</td>\n      <td>-34679.768577</td>\n      <td>-5963.083629</td>\n      <td>28597.963202</td>\n      <td>...</td>\n      <td>-1127.028664</td>\n      <td>-304.50206</td>\n      <td>515.548987</td>\n      <td>32.060339</td>\n      <td>123.744636</td>\n      <td>-846.417418</td>\n      <td>85.279124</td>\n      <td>199.743101</td>\n      <td>-1154.912254</td>\n      <td>302.583667</td>\n    </tr>\n    <tr>\n      <th>118</th>\n      <td>noCIMP</td>\n      <td>TCGA-DU-8165</td>\n      <td>-284040.12904</td>\n      <td>-76192.401381</td>\n      <td>-13762.239485</td>\n      <td>-69387.494661</td>\n      <td>-44480.370256</td>\n      <td>-31068.579477</td>\n      <td>-565.358929</td>\n      <td>-54187.357898</td>\n      <td>...</td>\n      <td>-1931.574764</td>\n      <td>-1956.52426</td>\n      <td>1723.985387</td>\n      <td>307.945039</td>\n      <td>3103.842936</td>\n      <td>-1050.994718</td>\n      <td>-1329.490376</td>\n      <td>7038.227601</td>\n      <td>-1623.285454</td>\n      <td>-1292.324933</td>\n    </tr>\n    <tr>\n      <th>117</th>\n      <td>noCIMP</td>\n      <td>TCGA-DU-8162</td>\n      <td>-272362.63104</td>\n      <td>-104385.599081</td>\n      <td>-13789.303985</td>\n      <td>-70932.526761</td>\n      <td>47591.881644</td>\n      <td>75327.531423</td>\n      <td>-10591.073329</td>\n      <td>-51048.353698</td>\n      <td>...</td>\n      <td>627.440636</td>\n      <td>823.60264</td>\n      <td>-1094.557913</td>\n      <td>-1255.341661</td>\n      <td>-1154.568764</td>\n      <td>-1012.874318</td>\n      <td>-1606.794376</td>\n      <td>-533.857799</td>\n      <td>907.648446</td>\n      <td>3499.860767</td>\n    </tr>\n    <tr>\n      <th>116</th>\n      <td>noCIMP</td>\n      <td>TCGA-DU-8161</td>\n      <td>-264456.71304</td>\n      <td>295007.719119</td>\n      <td>-13789.641885</td>\n      <td>-21123.200361</td>\n      <td>-29544.848456</td>\n      <td>-21931.804477</td>\n      <td>42288.380971</td>\n      <td>-19233.512698</td>\n      <td>...</td>\n      <td>-1131.757164</td>\n      <td>632.41614</td>\n      <td>324.395587</td>\n      <td>1283.810139</td>\n      <td>-161.117564</td>\n      <td>-675.696618</td>\n      <td>-2756.415676</td>\n      <td>781.063201</td>\n      <td>-212.003154</td>\n      <td>-88.119833</td>\n    </tr>\n  </tbody>\n</table>\n<p>5 rows × 793 columns</p>\n</div>"
     },
     "execution_count": 17,
     "metadata": {},
     "output_type": "execute_result"
    }
   ],
   "source": [
    "training.head()"
   ],
   "metadata": {
    "collapsed": false,
    "ExecuteTime": {
     "end_time": "2024-11-22T16:27:28.099779Z",
     "start_time": "2024-11-22T16:27:28.071435Z"
    }
   },
   "id": "b32912f5d6a208ee"
  },
  {
   "cell_type": "code",
   "execution_count": 18,
   "outputs": [],
   "source": [
    "# Predictions of training data by model trained on training data\n",
    "\n",
    "from sklearn.neighbors import KNeighborsClassifier\n",
    "\n",
    "# First column is the target variable\n",
    "X_train = np.array(training.iloc[:, 2:])  # Features (all columns except the first and second)\n",
    "y_train = np.array(training.iloc[:, 0])   # Target (the first column)\n",
    "\n",
    "# Initialize the KNN model with k=5\n",
    "knnFit = KNeighborsClassifier(n_neighbors=5)\n",
    "\n",
    "# Train the KNN model\n",
    "knnFit.fit(X_train, y_train)\n",
    "\n",
    "# Make predictions on the training set\n",
    "trainPred = knnFit.predict(X_train)"
   ],
   "metadata": {
    "collapsed": false,
    "ExecuteTime": {
     "end_time": "2024-11-22T16:27:28.154964Z",
     "start_time": "2024-11-22T16:27:28.077623Z"
    }
   },
   "id": "39b6829dad12263"
  },
  {
   "cell_type": "markdown",
   "source": [
    "### 3.5 Assessing the performance of the model"
   ],
   "metadata": {
    "collapsed": false
   },
   "id": "92cf9ee61b9cd490"
  },
  {
   "cell_type": "code",
   "execution_count": 19,
   "outputs": [
    {
     "name": "stdout",
     "output_type": "stream",
     "text": [
      "Confusion Matrix:\n",
      " [[63  1]\n",
      " [12 52]]\n",
      "\n",
      "Classification Report:\n",
      "               precision    recall  f1-score   support\n",
      "\n",
      "        CIMP       0.84      0.98      0.91        64\n",
      "      noCIMP       0.98      0.81      0.89        64\n",
      "\n",
      "    accuracy                           0.90       128\n",
      "   macro avg       0.91      0.90      0.90       128\n",
      "weighted avg       0.91      0.90      0.90       128\n"
     ]
    }
   ],
   "source": [
    "from sklearn.metrics import confusion_matrix, classification_report\n",
    "\n",
    "# Confusion matrix\n",
    "cm = confusion_matrix(y_train, trainPred)\n",
    "print(\"Confusion Matrix:\\n\", cm)\n",
    "\n",
    "# Classification report for more detailed metrics\n",
    "print(\"\\nClassification Report:\\n\", classification_report(y_train, trainPred))"
   ],
   "metadata": {
    "collapsed": false,
    "ExecuteTime": {
     "end_time": "2024-11-22T16:27:28.205226Z",
     "start_time": "2024-11-22T16:27:28.145756Z"
    }
   },
   "id": "fcdf630c26a832d8"
  },
  {
   "cell_type": "code",
   "execution_count": 20,
   "outputs": [
    {
     "name": "stdout",
     "output_type": "stream",
     "text": [
      "Confusion Matrix (Test Set):\n",
      " [[26  2]\n",
      " [ 9 19]]\n",
      "\n",
      "Classification Report (Test Set):\n",
      "               precision    recall  f1-score   support\n",
      "\n",
      "        CIMP       0.74      0.93      0.83        28\n",
      "      noCIMP       0.90      0.68      0.78        28\n",
      "\n",
      "    accuracy                           0.80        56\n",
      "   macro avg       0.82      0.80      0.80        56\n",
      "weighted avg       0.82      0.80      0.80        56\n"
     ]
    }
   ],
   "source": [
    "# Predictions of testing data by model trained on training data\n",
    "\n",
    "# First column is the target variable\n",
    "X_test = np.array(testing.iloc[:, 2:])  # Features (all columns except the first and second)\n",
    "y_test = np.array(testing.iloc[:, 0])   # Target (the first column)\n",
    "\n",
    "# Make predictions on the training set\n",
    "testPred = knnFit.predict(X_test)\n",
    "\n",
    "# Confusion matrix\n",
    "cm_test = confusion_matrix(y_test, testPred)\n",
    "print(\"Confusion Matrix (Test Set):\\n\", cm_test)\n",
    "\n",
    "# Classification report for detailed metrics\n",
    "print(\"\\nClassification Report (Test Set):\\n\", classification_report(y_test, testPred))"
   ],
   "metadata": {
    "collapsed": false,
    "ExecuteTime": {
     "end_time": "2024-11-22T16:27:28.222473Z",
     "start_time": "2024-11-22T16:27:28.162140Z"
    }
   },
   "id": "26f44994a9e70e5e"
  },
  {
   "cell_type": "code",
   "execution_count": 21,
   "outputs": [
    {
     "data": {
      "text/plain": "<Figure size 640x480 with 1 Axes>",
      "image/png": "[encoded data removed]"
     },
     "metadata": {},
     "output_type": "display_data"
    }
   ],
   "source": [
    "# Receiver Operating Characteristic (ROC) curve\n",
    "\n",
    "from sklearn.metrics import roc_curve, roc_auc_score\n",
    "\n",
    "# Get the probabilities for the positive class\n",
    "testProbs = knnFit.predict_proba(X_test)  # Predict class probabilities\n",
    "\n",
    "positive_class_index = 0\n",
    "# Binary labels for positive class\n",
    "y_test_binary = (y_test == knnFit.classes_[positive_class_index]).astype(int)  \n",
    "\n",
    "# Compute ROC curve\n",
    "fpr, tpr, thresholds = roc_curve(y_test_binary, testProbs[:, positive_class_index])\n",
    "\n",
    "# Compute AUC\n",
    "roc_auc = roc_auc_score(y_test_binary, testProbs[:, positive_class_index])\n",
    "\n",
    "# Plot the ROC curve\n",
    "plt.figure()\n",
    "plt.plot(fpr, tpr, color='darkorange', lw=2, label=f'ROC curve (area = {roc_auc:.2f})')\n",
    "plt.plot([0, 1], [0, 1], color='navy', lw=2, linestyle='--')  # Diagonal line\n",
    "plt.xlim([0.0, 1.0])\n",
    "plt.ylim([0.0, 1.05])\n",
    "plt.xlabel('False Positive Rate')\n",
    "plt.ylabel('True Positive Rate')\n",
    "plt.title('Receiver Operating Characteristic (ROC) Curve')\n",
    "plt.legend(loc=\"lower right\")\n",
    "plt.show()"
   ],
   "metadata": {
    "collapsed": false,
    "ExecuteTime": {
     "end_time": "2024-11-22T16:27:28.299111Z",
     "start_time": "2024-11-22T16:27:28.177643Z"
    }
   },
   "id": "7bd74af4161acb5c"
  },
  {
   "cell_type": "markdown",
   "source": [
    "### 3.6 Model tuning and avoiding overfitting"
   ],
   "metadata": {
    "collapsed": false
   },
   "id": "961d1614b6342192"
  },
  {
   "cell_type": "code",
   "execution_count": 22,
   "outputs": [
    {
     "data": {
      "text/plain": "array([[ 5.57111024e+05, -8.56205017e+04, -1.37472618e+04, ...,\n        -5.87522299e+02, -9.35373754e+02, -5.92385833e+02],\n       [ 1.74388322e+04,  6.10234602e+04, -1.37873015e+04, ...,\n         1.99743101e+02, -1.15491225e+03,  3.02583667e+02],\n       [-2.84040129e+05, -7.61924014e+04, -1.37622395e+04, ...,\n         7.03822760e+03, -1.62328545e+03, -1.29232493e+03],\n       ...,\n       [ 7.54819448e+05,  1.00765464e+05, -1.37876585e+04, ...,\n         7.64419501e+02, -2.62934295e+03, -1.71621493e+03],\n       [-1.06655148e+05, -2.22234430e+04, -1.37886719e+04, ...,\n        -1.53063180e+03, -1.80280765e+03,  9.58307167e+02],\n       [-2.41444538e+05, -1.08432310e+05, -1.37889227e+04, ...,\n        -1.49815460e+03, -5.45408854e+02, -6.11585233e+02]])"
     },
     "execution_count": 22,
     "metadata": {},
     "output_type": "execute_result"
    }
   ],
   "source": [
    "X_train"
   ],
   "metadata": {
    "collapsed": false,
    "ExecuteTime": {
     "end_time": "2024-11-22T16:27:28.299626Z",
     "start_time": "2024-11-22T16:27:28.290072Z"
    }
   },
   "id": "54ce7d303b48cae7"
  },
  {
   "cell_type": "code",
   "execution_count": 23,
   "outputs": [
    {
     "data": {
      "text/plain": "<Figure size 500x300 with 1 Axes>",
      "image/png": "[encoded data removed]"
     },
     "metadata": {},
     "output_type": "display_data"
    }
   ],
   "source": [
    "# Check training accuracy for different k values\n",
    "\n",
    "from sklearn.neighbors import KNeighborsClassifier\n",
    "from sklearn.metrics import confusion_matrix, accuracy_score\n",
    "from scipy.ndimage import gaussian_filter1d\n",
    "\n",
    "# Set the random seed\n",
    "np.random.seed(101)\n",
    "\n",
    "# Set k values\n",
    "k_values = np.arange(1, 13)\n",
    "\n",
    "# Training errors\n",
    "train_err = []\n",
    "\n",
    "X_train = training.iloc[:, 2:].values  # Features\n",
    "y_train = training.iloc[:, 0].values # Class labels\n",
    "\n",
    "for k in k_values:\n",
    "    # Create the k-NN model\n",
    "    knn = KNeighborsClassifier(n_neighbors=k)\n",
    "    knn.fit(X_train, y_train)\n",
    "    \n",
    "    # Predictions on the training set\n",
    "    y_pred = knn.predict(X_train)\n",
    "    \n",
    "    # Calculate training error\n",
    "    accuracy = accuracy_score(y_train, y_pred)\n",
    "    error = 1 - accuracy\n",
    "    train_err.append(error)\n",
    "\n",
    "# Plot training error vs k\n",
    "plt.figure(figsize=(5, 3))\n",
    "plt.plot(k_values, train_err, 'o-', color='#CC0000', label='Training Error', markersize=5)\n",
    "plt.xlabel('k')\n",
    "plt.ylabel('Training Error')\n",
    "plt.title('Training Error vs k')\n",
    "plt.grid(True)\n",
    "\n",
    "# Add a smooth line for the trend\n",
    "smoothed_error = gaussian_filter1d(train_err, sigma=1)  # Gaussian smoothing\n",
    "plt.plot(k_values, smoothed_error, color='#CC0000', linestyle='--', label='Smoothed Trend')\n",
    "plt.legend()\n",
    "plt.show()"
   ],
   "metadata": {
    "collapsed": false,
    "ExecuteTime": {
     "end_time": "2024-11-22T16:27:28.641081Z",
     "start_time": "2024-11-22T16:27:28.379719Z"
    }
   },
   "id": "956a6d396dc760a4"
  },
  {
   "cell_type": "code",
   "execution_count": 24,
   "outputs": [
    {
     "data": {
      "text/plain": "<Figure size 500x300 with 1 Axes>",
      "image/png": "[encoded data removed]"
     },
     "metadata": {},
     "output_type": "display_data"
    }
   ],
   "source": [
    "# Looking at training and testing data\n",
    "\n",
    "from sklearn.neighbors import KNeighborsClassifier\n",
    "from sklearn.metrics import accuracy_score\n",
    "from scipy.ndimage import gaussian_filter1d\n",
    "\n",
    "# Set random seed\n",
    "np.random.seed(31)\n",
    "\n",
    "# Define k values\n",
    "k_values = np.arange(1, 13)\n",
    "\n",
    "# Placeholder for errors\n",
    "train_err = []\n",
    "test_err = []\n",
    "\n",
    "# Split features and labels\n",
    "X_train = training.iloc[:, 2:].values\n",
    "y_train = training.iloc[:, 0].values\n",
    "X_test = testing.iloc[:, 2:].values\n",
    "y_test = testing.iloc[:, 0].values\n",
    "\n",
    "for k in k_values:\n",
    "    # Create the k-NN model\n",
    "    knn = KNeighborsClassifier(n_neighbors=k)\n",
    "    knn.fit(X_train, y_train)\n",
    "    \n",
    "    # Predictions on training set\n",
    "    y_train_pred = knn.predict(X_train)\n",
    "    train_accuracy = accuracy_score(y_train, y_train_pred)\n",
    "    train_error = 1 - train_accuracy\n",
    "    train_err.append(train_error)\n",
    "    \n",
    "    # Predictions on testing set\n",
    "    y_test_pred = knn.predict(X_test)\n",
    "    test_accuracy = accuracy_score(y_test, y_test_pred)\n",
    "    test_error = 1 - test_accuracy\n",
    "    test_err.append(test_error)\n",
    "\n",
    "# Plot training error\n",
    "plt.figure(figsize=(5, 3))\n",
    "plt.plot(k_values, train_err, 'o-', color='#CC0000', label='Training Error', markersize=5)\n",
    "plt.plot(k_values, gaussian_filter1d(train_err, sigma=1), '--', color='#CC0000', label='Training Trend')\n",
    "\n",
    "# Plot test error\n",
    "plt.plot(k_values, test_err, 'o-', color='#00CC66', label='Test Error', markersize=5)\n",
    "plt.plot(k_values, gaussian_filter1d(test_err, sigma=1), '--', color='#00CC66', label='Test Trend')\n",
    "\n",
    "# Formatting the plot\n",
    "plt.xlabel('k')\n",
    "plt.ylabel('Prediction Error (1 - Accuracy)')\n",
    "plt.title('Training and Test Errors vs k')\n",
    "plt.legend(loc='lower right')\n",
    "plt.grid(True)\n",
    "plt.show()"
   ],
   "metadata": {
    "collapsed": false,
    "ExecuteTime": {
     "end_time": "2024-11-22T16:27:28.895638Z",
     "start_time": "2024-11-22T16:27:28.638349Z"
    }
   },
   "id": "a784ca3b85d932d3"
  },
  {
   "cell_type": "code",
   "execution_count": 25,
   "outputs": [
    {
     "name": "stdout",
     "output_type": "stream",
     "text": [
      "Best k value: 9\n"
     ]
    }
   ],
   "source": [
    "# Cross-validation\n",
    "\n",
    "from sklearn.model_selection import cross_val_score, GridSearchCV\n",
    "from sklearn.neighbors import KNeighborsClassifier\n",
    "from sklearn.metrics import make_scorer, accuracy_score\n",
    "\n",
    "# Set random seed\n",
    "np.random.seed(17)\n",
    "\n",
    "# Splitting the dataset into features and target\n",
    "X_train = training.iloc[:, 2:].values # Features\n",
    "y_train = training['subtype'].values # Target labels\n",
    "\n",
    "# Defining the parameter grid for k values\n",
    "param_grid = {'n_neighbors': np.arange(1, 13)}\n",
    "\n",
    "# Creating the k-NN model\n",
    "knn = KNeighborsClassifier()\n",
    "\n",
    "# Setting up 10-fold cross-validation\n",
    "grid_search = GridSearchCV(estimator=knn, param_grid=param_grid, \n",
    "                           scoring=make_scorer(accuracy_score), \n",
    "                           cv=10, n_jobs=-1)\n",
    "\n",
    "# Fitting the model\n",
    "grid_search.fit(X_train, y_train)\n",
    "\n",
    "# Best k value by cross-validation accuracy\n",
    "best_k = grid_search.best_params_['n_neighbors']\n",
    "print(\"Best k value:\", best_k)"
   ],
   "metadata": {
    "collapsed": false,
    "ExecuteTime": {
     "end_time": "2024-11-22T16:27:31.230102Z",
     "start_time": "2024-11-22T16:27:28.899021Z"
    }
   },
   "id": "dd8ea725c33d57d5"
  },
  {
   "cell_type": "code",
   "execution_count": 26,
   "outputs": [
    {
     "data": {
      "text/plain": "<Figure size 800x600 with 1 Axes>",
      "image/png": "[encoded data removed]"
     },
     "metadata": {},
     "output_type": "display_data"
    }
   ],
   "source": [
    "# Extract results from GridSearchCV\n",
    "k_values = np.arange(1, 13)\n",
    "accuracy_scores = grid_search.cv_results_['mean_test_score']\n",
    "\n",
    "# Convert accuracy to prediction error\n",
    "prediction_errors = 1 - accuracy_scores\n",
    "\n",
    "# Plotting\n",
    "plt.figure(figsize=(8, 6))\n",
    "plt.plot(k_values, prediction_errors, 'o-', color='black', label='Prediction Error', markersize=5)\n",
    "plt.xlabel('k')\n",
    "plt.ylabel('Prediction Error (1 - Accuracy)')\n",
    "plt.title('k vs Prediction Error')\n",
    "plt.grid(True)\n",
    "\n",
    "# Add a smooth line for the trend\n",
    "smoothed_error = gaussian_filter1d(prediction_errors, sigma=1)  # Apply smoothing\n",
    "plt.plot(k_values, smoothed_error, color='#CC0000', linestyle='--', label='Smoothed Trend')\n",
    "\n",
    "plt.legend()\n",
    "plt.show()"
   ],
   "metadata": {
    "collapsed": false,
    "ExecuteTime": {
     "end_time": "2024-11-22T16:27:31.371839Z",
     "start_time": "2024-11-22T16:27:31.252283Z"
    }
   },
   "id": "4459476a2fcd08b0"
  },
  {
   "cell_type": "markdown",
   "source": [
    "### 3.7 Variable importance\n",
    "* Another important purpose of machine learning models could be to learn which variables are more important for the prediction. This information could lead to potential biological insights or could help design better data collection methods or experiments.\n",
    "* One simple method for variable importance is to correlate or apply statistical tests to test the association of the predictor variable with the response variable. Variables can be ranked based on the strength of those associations. For classification problems, ROC curves can be computed by thresholding the predictor variable, and for each variable an AUC can be computed. The variables can be ranked based on these values.\n",
    "* If a variable is important for prediction, removing that variable before model training will cause a drop in performance. With this understanding, we can remove the variables one by one and train models without them and rank them by the loss of performance. The most important variables must cause the largest loss of performance.\n",
    "* Variable dropout loss: Instead of removing the variables at training, variables are permuted at the test phase. The loss in prediction performance is calculated by comparing the labels/values from the original response variable to the labels/values obtained by running the permuted test data through the model."
   ],
   "metadata": {
    "collapsed": false
   },
   "id": "2a7524a70ff80959"
  },
  {
   "cell_type": "markdown",
   "source": [
    "### 3.8 How to deal with class imbalance\n",
    "* Refers to differing sizes if the groups that are being classified.\n",
    "* Different techniques to prevent this are:\n",
    "    * Sampling for class balance:\n",
    "        * Down-sampling: Build the classification model with same-sized samples of the data. \n",
    "        * Up-sampling: Adding similar data points via bootstrap sampling / Creating synthetic data via SMOTE.\n",
    "    * Altering case weights: Using case weights and boosting / logistic regression-based methods has an effect comparable to up-sampling the minority class.\n",
    "    * Selecting different classification score cutoffs: A prediction score cutoff minimizes the excess true positives or false positives depending on the direction of class imbalance. (e.g. using ROC curves)"
   ],
   "metadata": {
    "collapsed": false
   },
   "id": "458ac832f9844b61"
  },
  {
   "cell_type": "markdown",
   "source": [
    "### 3.9 Dealing with correlated predictors\n",
    "* We can do PCA on the training data, which creates new variables removing the collinearity between them. We can then train models on these new dimensions. The downside is that it is harder to interpret these variables. They are now linear combinations of original variables. The variable importance would be harder to interpret.\n",
    "* We can try variable filtering and reduce the number of correlated variables. However, this may not address the multicollinearity issue where linear combinations of variables might be correlated while they are not directly correlated themselves.\n",
    "* Method-specific techniques such as regularization can decrease the effects of collinearity. Regularization, as we will see in the later chapter, is a technique that is used to prevent overfitting and it can also dampen the effects of collinearity. In addition, decision-tree-based methods could suffer less from the effects of collinearity."
   ],
   "metadata": {
    "collapsed": false
   },
   "id": "52fa4f2fc8b3cdd6"
  },
  {
   "cell_type": "markdown",
   "source": [
    "### 3.10 Random forests"
   ],
   "metadata": {
    "collapsed": false
   },
   "id": "4983b242c673dfb8"
  },
  {
   "cell_type": "markdown",
   "source": [
    "#### 3.10.1 Decision trees\n",
    "* A decision tree is a series of filters on the predictor variables. \n",
    "* The series of filters end up in a class prediction. \n",
    "* Each filter is a binary yes/no question, which creates bifurcations in the series of filters thus leading to a treelike structure. \n",
    "* The filters are dependent on the type of predictor variables.\n",
    "* Every point where we filter samples based on these questions are called “decision nodes”. \n",
    "* The tree-fitting algorithm finds the best variables at decision nodes depending on how well they split the samples into classes after the application of the decision node. \n",
    "* Decision trees handle both categorical and numeric predictor variables, they are easy to interpret, and they can deal with missing variables. \n",
    "* Despite their advantages, decision trees tend to overfit if they are grown very deep and can learn irregular patterns.\n",
    "* Top down manner: They select the best variables to use in decision nodes based on how homogeneous the sample sets are after the split. \n",
    "    * Measure of homogeneity: \"Gini impurity\":\n",
    "$$I_G(p) = \\sum^K_{i=1}p_i(1-p_i) = \\sum^K_{i=1}p_i - \\sum^K_{i=1} p_i^2 = 1 - \\sum^K_{i=1} p_i^2$$\n",
    "* The \"Gini impurity\" calculations will be done for each potential variable and the split, and every node will be constructed based on gini impurity decrease. \n",
    "* If the variable is continuous, the cutoff value will be decided based on the best impurity."
   ],
   "metadata": {
    "collapsed": false
   },
   "id": "e3fcc28ccf9ba45c"
  },
  {
   "cell_type": "markdown",
   "source": [
    "#### 3.10.2 Trees to forests\n",
    "* Random forests are devised to counter the shortcomings of decision trees. \n",
    "* They are simply ensembles of decision trees. \n",
    "* Each tree is trained with a different randomly selected part of the data with randomly selected predictor variables. \n",
    "* The goal of introducing randomness is to reduce the variance of the model, so it does not overfit, at the expense of a small increase in the bias and some loss of interpretability. \n",
    "* This strategy generally boosts the performance of the final model."
   ],
   "metadata": {
    "collapsed": false
   },
   "id": "3566de7ff5ead07d"
  },
  {
   "cell_type": "code",
   "execution_count": 27,
   "outputs": [
    {
     "name": "stdout",
     "output_type": "stream",
     "text": [
      "OOB Error: 0.0625\n",
      "Feature: GFAP, Importance: 0.0\n",
      "Feature: CLU, Importance: 0.0\n",
      "Feature: TTR, Importance: 0.0\n",
      "Feature: SPARC, Importance: 0.0\n",
      "Feature: MBP, Importance: 0.0\n",
      "Feature: PLP1, Importance: 0.0\n",
      "Feature: CHI3L1, Importance: 0.0\n",
      "Feature: BCAN, Importance: 0.0\n",
      "Feature: CRYAB, Importance: 0.0\n",
      "Feature: SPARCL1, Importance: 0.0\n",
      "Feature: APOE, Importance: 0.0\n",
      "Feature: CST3, Importance: 0.0\n",
      "Feature: AQP1, Importance: 0.0\n",
      "Feature: VIM, Importance: 0.0\n",
      "Feature: AQP4, Importance: 0.0\n",
      "Feature: ACTB, Importance: 0.0\n",
      "Feature: GLUL, Importance: 0.0\n",
      "Feature: FTL, Importance: 0.0\n",
      "Feature: CD74, Importance: 0.0\n",
      "Feature: PTPRZ1, Importance: 0.0\n",
      "Feature: ATP1A2, Importance: 0.0\n",
      "Feature: SLC1A2, Importance: 0.0\n",
      "Feature: SPP1, Importance: 0.0\n",
      "Feature: EEF1A1, Importance: 0.0\n",
      "Feature: GAPDH, Importance: 0.0\n",
      "Feature: NDRG2, Importance: 0.0\n",
      "Feature: NTRK2, Importance: 0.0\n",
      "Feature: PEA15, Importance: 0.0\n",
      "Feature: FAM107A, Importance: 0.0\n",
      "Feature: OS9, Importance: 0.0\n",
      "Feature: SERPINA3, Importance: 0.0\n",
      "Feature: CPE, Importance: 0.0\n",
      "Feature: C4A, Importance: 0.0\n",
      "Feature: EEF2, Importance: 0.0\n",
      "Feature: HSPA1A, Importance: 0.0\n",
      "Feature: NCAN, Importance: 0.0\n",
      "Feature: SCD, Importance: 0.0\n",
      "Feature: EGFR, Importance: 0.0\n",
      "Feature: COL3A1, Importance: 0.0\n",
      "Feature: ACTG1, Importance: 0.0\n",
      "Feature: PSAP, Importance: 0.0\n",
      "Feature: ITM2C, Importance: 0.0\n",
      "Feature: PDGFRA, Importance: 0.0\n",
      "Feature: SLC1A3, Importance: 0.0\n",
      "Feature: FTH1, Importance: 0.0\n",
      "Feature: B2M, Importance: 0.0\n",
      "Feature: FN1, Importance: 0.0\n",
      "Feature: GJA1, Importance: 0.0\n",
      "Feature: APOD, Importance: 0.0\n",
      "Feature: CALM1, Importance: 0.0\n",
      "Feature: CNP, Importance: 0.0\n",
      "Feature: ALDOC, Importance: 0.0\n",
      "Feature: NFASC, Importance: 0.0\n",
      "Feature: PCDHGC3, Importance: 0.0\n",
      "Feature: PMP2, Importance: 0.0\n",
      "Feature: PKM2, Importance: 0.0\n",
      "Feature: TUBA1A, Importance: 0.0\n",
      "Feature: RPL3, Importance: 0.0\n",
      "Feature: C3, Importance: 0.0\n",
      "Feature: H19, Importance: 0.0\n",
      "Feature: SCD5, Importance: 0.0\n",
      "Feature: SDC3, Importance: 0.0\n",
      "Feature: TMSL3, Importance: 0.0\n",
      "Feature: IGFBP5, Importance: 0.0\n",
      "Feature: NES, Importance: 0.0\n",
      "Feature: HLA-B, Importance: 0.0\n",
      "Feature: CKB, Importance: 0.0\n",
      "Feature: PTPRB, Importance: 0.0\n",
      "Feature: LRP1, Importance: 0.0\n",
      "Feature: SOD2, Importance: 0.0\n",
      "Feature: FXYD6, Importance: 0.0\n",
      "Feature: ATP2B4, Importance: 0.0\n",
      "Feature: MT3, Importance: 0.0\n",
      "Feature: C1orf61, Importance: 0.0\n",
      "Feature: GNAS, Importance: 0.0\n",
      "Feature: UBC, Importance: 0.0\n",
      "Feature: APP, Importance: 0.0\n",
      "Feature: LTF, Importance: 0.0\n",
      "Feature: PTGDS, Importance: 0.0\n",
      "Feature: ATP1B2, Importance: 0.0\n",
      "Feature: S100B, Importance: 0.0\n",
      "Feature: CDK4, Importance: 0.0\n",
      "Feature: AGT, Importance: 0.0\n",
      "Feature: TUBA1B, Importance: 0.0\n",
      "Feature: SMOC1, Importance: 0.0\n",
      "Feature: SCG3, Importance: 0.0\n",
      "Feature: RPS6, Importance: 0.0\n",
      "Feature: SOX8, Importance: 0.0\n",
      "Feature: CHCHD2, Importance: 0.0\n",
      "Feature: C7orf41, Importance: 0.0\n",
      "Feature: VOPP1, Importance: 0.0\n",
      "Feature: TNC, Importance: 0.0\n",
      "Feature: PLEKHB1, Importance: 0.0\n",
      "Feature: AHCYL1, Importance: 0.0\n",
      "Feature: MLC1, Importance: 0.0\n",
      "Feature: TPT1, Importance: 0.0\n",
      "Feature: RHOB, Importance: 0.0\n",
      "Feature: MAP1B, Importance: 0.0\n",
      "Feature: MAP2, Importance: 0.0\n",
      "Feature: GPM6B, Importance: 0.0\n",
      "Feature: HSP90AA1, Importance: 0.0\n",
      "Feature: KIF1A, Importance: 0.0\n",
      "Feature: CTSB, Importance: 0.0\n",
      "Feature: A2M, Importance: 0.0\n",
      "Feature: DDR1, Importance: 0.0\n",
      "Feature: RPLP0, Importance: 0.0\n",
      "Feature: SEC61G, Importance: 0.0\n",
      "Feature: IGF2, Importance: 0.0\n",
      "Feature: ALDOA, Importance: 0.0\n",
      "Feature: MT2A, Importance: 0.0\n",
      "Feature: GABBR1, Importance: 0.0\n",
      "Feature: GPM6A, Importance: 0.0\n",
      "Feature: TUBB4, Importance: 0.0\n",
      "Feature: DAAM2, Importance: 0.0\n",
      "Feature: GPX3, Importance: 0.0\n",
      "Feature: CD81, Importance: 0.0\n",
      "Feature: ENO1, Importance: 0.0\n",
      "Feature: FADS2, Importance: 0.0\n",
      "Feature: LRIG1, Importance: 0.0\n",
      "Feature: DPYSL3, Importance: 0.0\n",
      "Feature: CCT6A, Importance: 0.0\n",
      "Feature: AEBP1, Importance: 0.0\n",
      "Feature: TF, Importance: 0.0\n",
      "Feature: RPS4X, Importance: 0.0\n",
      "Feature: H3F3B, Importance: 0.0\n",
      "Feature: CSRP1, Importance: 0.0\n",
      "Feature: MTSS1L, Importance: 0.0\n",
      "Feature: GPR56, Importance: 0.0\n",
      "Feature: FLNA, Importance: 0.0\n",
      "Feature: LANCL2, Importance: 0.0\n",
      "Feature: HBB, Importance: 0.0\n",
      "Feature: HTRA1, Importance: 0.0\n",
      "Feature: APLNR, Importance: 0.0\n",
      "Feature: MARCKS, Importance: 0.0\n",
      "Feature: PTN, Importance: 0.0\n",
      "Feature: OLIG1, Importance: 0.0\n",
      "Feature: XIST, Importance: 0.0\n",
      "Feature: CD44, Importance: 0.0\n",
      "Feature: KIF5A, Importance: 0.0\n",
      "Feature: RPLP1, Importance: 0.0\n",
      "Feature: RPS11, Importance: 0.0\n",
      "Feature: EGR1, Importance: 0.0\n",
      "Feature: AHNAK, Importance: 0.0\n",
      "Feature: FCGBP, Importance: 0.0\n",
      "Feature: GSN, Importance: 0.0\n",
      "Feature: TTYH1, Importance: 0.0\n",
      "Feature: TUBB2A, Importance: 0.0\n",
      "Feature: TIMP2, Importance: 0.0\n",
      "Feature: NDRG4, Importance: 0.0\n",
      "Feature: APLP1, Importance: 0.0\n",
      "Feature: GPRC5B, Importance: 0.0\n",
      "Feature: FAIM2, Importance: 0.0\n",
      "Feature: MAP4, Importance: 0.0\n",
      "Feature: HSPA8, Importance: 0.0\n",
      "Feature: QKI, Importance: 0.0\n",
      "Feature: RTN3, Importance: 0.0\n",
      "Feature: LDHB, Importance: 0.0\n",
      "Feature: FOS, Importance: 0.0\n",
      "Feature: EDNRB, Importance: 0.0\n",
      "Feature: PLTP, Importance: 0.0\n",
      "Feature: SPTBN1, Importance: 0.0\n",
      "Feature: CTSD, Importance: 0.0\n",
      "Feature: CD63, Importance: 0.0\n",
      "Feature: DTNA, Importance: 0.0\n",
      "Feature: POSTN, Importance: 0.0\n",
      "Feature: HIF1A, Importance: 0.0\n",
      "Feature: NCAM1, Importance: 0.0\n",
      "Feature: BAALC, Importance: 0.0\n",
      "Feature: HSP90AB1, Importance: 0.0\n",
      "Feature: MARCKSL1, Importance: 0.0\n",
      "Feature: COL4A2, Importance: 0.0\n",
      "Feature: TIMP3, Importance: 0.0\n",
      "Feature: ANXA5, Importance: 0.0\n",
      "Feature: PBXIP1, Importance: 0.0\n",
      "Feature: RASSF2, Importance: 0.0\n",
      "Feature: ATP1A1, Importance: 0.0\n",
      "Feature: NPTXR, Importance: 0.0\n",
      "Feature: RGMA, Importance: 0.0\n",
      "Feature: TSC22D1, Importance: 0.0\n",
      "Feature: CLSTN1, Importance: 0.0\n",
      "Feature: RTN1, Importance: 0.0\n",
      "Feature: IGFBP7, Importance: 0.0\n",
      "Feature: GPR17, Importance: 0.0\n",
      "Feature: RAB31, Importance: 0.0\n",
      "Feature: RPS8, Importance: 0.0\n",
      "Feature: UBB, Importance: 0.0\n",
      "Feature: ZC3H11A, Importance: 0.0\n",
      "Feature: IFI6, Importance: 0.0\n",
      "Feature: FGFR3, Importance: 0.0\n",
      "Feature: VCAN, Importance: 0.0\n",
      "Feature: SCRN1, Importance: 0.0\n",
      "Feature: PADI2, Importance: 0.0\n",
      "Feature: SPTAN1, Importance: 0.0\n",
      "Feature: PEBP1, Importance: 0.0\n",
      "Feature: SPOCK2, Importance: 0.0\n",
      "Feature: NRCAM, Importance: 0.0\n",
      "Feature: TSPAN7, Importance: 0.0\n",
      "Feature: HIPK2, Importance: 0.0\n",
      "Feature: MAOB, Importance: 0.0\n",
      "Feature: IGFBP2, Importance: 0.0\n",
      "Feature: SYT11, Importance: 0.0\n",
      "Feature: MSN, Importance: 0.0\n",
      "Feature: GLUD1, Importance: 0.0\n",
      "Feature: HES6, Importance: 0.0\n",
      "Feature: S100A6, Importance: 0.0\n",
      "Feature: TUBB, Importance: 0.0\n",
      "Feature: HSPB8, Importance: 0.0\n",
      "Feature: CNN3, Importance: 0.0\n",
      "Feature: DKK3, Importance: 0.0\n",
      "Feature: EFEMP1, Importance: 0.0\n",
      "Feature: ABAT, Importance: 0.0\n",
      "Feature: DST, Importance: 0.0\n",
      "Feature: CANX, Importance: 0.0\n",
      "Feature: LRRC8A, Importance: 0.0\n",
      "Feature: BCAS1, Importance: 0.0\n",
      "Feature: ITPKB, Importance: 0.0\n",
      "Feature: PLEC, Importance: 0.0\n",
      "Feature: LPL, Importance: 0.0\n",
      "Feature: CD99, Importance: 0.0\n",
      "Feature: PABPC1, Importance: 0.0\n",
      "Feature: CCND2, Importance: 0.0\n",
      "Feature: THY1, Importance: 0.0\n",
      "Feature: TMSB10, Importance: 0.0\n",
      "Feature: DPYSL2, Importance: 0.0\n",
      "Feature: KIF5C, Importance: 0.0\n",
      "Feature: ABHD2, Importance: 0.0\n",
      "Feature: DBI, Importance: 0.0\n",
      "Feature: TCF12, Importance: 0.0\n",
      "Feature: TMBIM6, Importance: 0.0\n",
      "Feature: LRP4, Importance: 0.0\n",
      "Feature: MARS, Importance: 0.0\n",
      "Feature: PSD2, Importance: 0.0\n",
      "Feature: DNER, Importance: 0.0\n",
      "Feature: PHLDA1, Importance: 0.0\n",
      "Feature: TNR, Importance: 0.0\n",
      "Feature: ITM2B, Importance: 0.0\n",
      "Feature: PAQR6, Importance: 0.0\n",
      "Feature: RND2, Importance: 0.0\n",
      "Feature: PON2, Importance: 0.0\n",
      "Feature: APLP2, Importance: 0.0\n",
      "Feature: PARP1, Importance: 0.0\n",
      "Feature: SUMF2, Importance: 0.0\n",
      "Feature: MAPT, Importance: 0.0\n",
      "Feature: C1QB, Importance: 0.0\n",
      "Feature: COL6A1, Importance: 0.0\n",
      "Feature: CALM2, Importance: 0.0\n",
      "Feature: SERPINE2, Importance: 0.0\n",
      "Feature: HNRNPA2B1, Importance: 0.0\n",
      "Feature: MX1, Importance: 0.0\n",
      "Feature: METTL7A, Importance: 0.0\n",
      "Feature: GAS7, Importance: 0.0\n",
      "Feature: TPPP, Importance: 0.0\n",
      "Feature: FLNC, Importance: 0.0\n",
      "Feature: ATP1B1, Importance: 0.0\n",
      "Feature: TNK2, Importance: 0.0\n",
      "Feature: ATP9A, Importance: 0.0\n",
      "Feature: TUBB2B, Importance: 0.0\n",
      "Feature: NFIX, Importance: 0.0\n",
      "Feature: SLC4A4, Importance: 0.0\n",
      "Feature: TTYH3, Importance: 0.0\n",
      "Feature: SIRT2, Importance: 0.0\n",
      "Feature: MET, Importance: 0.0\n",
      "Feature: TSC22D4, Importance: 0.0\n",
      "Feature: ANXA1, Importance: 0.0\n",
      "Feature: COL6A2, Importance: 0.0\n",
      "Feature: ALDH2, Importance: 0.0\n",
      "Feature: GAP43, Importance: 0.0\n",
      "Feature: CFL1, Importance: 0.0\n",
      "Feature: TSPAN3, Importance: 0.0\n",
      "Feature: TIMP1, Importance: 0.0\n",
      "Feature: DYNC1H1, Importance: 0.0\n",
      "Feature: OLFM2, Importance: 0.0\n",
      "Feature: THRA, Importance: 0.0\n",
      "Feature: OLIG2, Importance: 0.0\n",
      "Feature: DGCR2, Importance: 0.0\n",
      "Feature: CSPG5, Importance: 0.0\n",
      "Feature: LGALS3BP, Importance: 0.0\n",
      "Feature: PTMS, Importance: 0.0\n",
      "Feature: YWHAE, Importance: 0.0\n",
      "Feature: BSG, Importance: 0.0\n",
      "Feature: CALR, Importance: 0.0\n",
      "Feature: ID4, Importance: 0.0\n",
      "Feature: FGF1, Importance: 0.0\n",
      "Feature: KCNJ10, Importance: 0.0\n",
      "Feature: PTTG1IP, Importance: 0.0\n",
      "Feature: ETV1, Importance: 0.0\n",
      "Feature: TJP2, Importance: 0.0\n",
      "Feature: MYL6, Importance: 0.0\n",
      "Feature: SEPT2, Importance: 0.0\n",
      "Feature: CA4, Importance: 0.0\n",
      "Feature: SCARA3, Importance: 0.0\n",
      "Feature: CIRBP, Importance: 0.0\n",
      "Feature: HSPA5, Importance: 0.0\n",
      "Feature: CTDSP2, Importance: 0.0\n",
      "Feature: VAT1L, Importance: 0.0\n",
      "Feature: ITGB8, Importance: 0.0\n",
      "Feature: FMOD, Importance: 0.0\n",
      "Feature: RTN4, Importance: 0.0\n",
      "Feature: EIF4G2, Importance: 0.0\n",
      "Feature: VWF, Importance: 0.0\n",
      "Feature: HSPB1, Importance: 0.0\n",
      "Feature: SULF2, Importance: 0.0\n",
      "Feature: SLIT1, Importance: 0.0\n",
      "Feature: DNAJB1, Importance: 0.0\n",
      "Feature: YWHAZ, Importance: 0.0\n",
      "Feature: APC2, Importance: 0.0\n",
      "Feature: SORL1, Importance: 0.0\n",
      "Feature: PRNP, Importance: 0.0\n",
      "Feature: SEPT3, Importance: 0.0\n",
      "Feature: PHYHIPL, Importance: 0.0\n",
      "Feature: GDI1, Importance: 0.0\n",
      "Feature: TTC3, Importance: 0.0\n",
      "Feature: IFITM3, Importance: 0.0\n",
      "Feature: DLL3, Importance: 0.0\n",
      "Feature: PRDX1, Importance: 0.0\n",
      "Feature: ATP5B, Importance: 0.0\n",
      "Feature: PEG10, Importance: 0.0\n",
      "Feature: SERINC1, Importance: 0.0\n",
      "Feature: JUN, Importance: 0.0\n",
      "Feature: ALDH1L1, Importance: 0.0\n",
      "Feature: FLJ16779, Importance: 0.0\n",
      "Feature: CADM3, Importance: 0.0\n",
      "Feature: SOX2, Importance: 0.0\n",
      "Feature: SLC25A6, Importance: 0.0\n",
      "Feature: RPS2, Importance: 0.0\n",
      "Feature: CLIC4, Importance: 0.0\n",
      "Feature: ANGPTL2, Importance: 0.0\n",
      "Feature: EMP1, Importance: 0.0\n",
      "Feature: FHL1, Importance: 0.0\n",
      "Feature: HLA-E, Importance: 0.0\n",
      "Feature: SLC14A1, Importance: 0.0\n",
      "Feature: PRDX6, Importance: 0.0\n",
      "Feature: IGFBP3, Importance: 0.0\n",
      "Feature: STMN1, Importance: 0.0\n",
      "Feature: MT1X, Importance: 0.0\n",
      "Feature: RAB6B, Importance: 0.0\n",
      "Feature: ID3, Importance: 0.0\n",
      "Feature: KIF1B, Importance: 0.0\n",
      "Feature: PPP1R15B, Importance: 0.0\n",
      "Feature: FSTL1, Importance: 0.0\n",
      "Feature: C1R, Importance: 0.0\n",
      "Feature: VEGFA, Importance: 0.0\n",
      "Feature: PLEKHA6, Importance: 0.0\n",
      "Feature: SEPP1, Importance: 0.0\n",
      "Feature: MAP4K4, Importance: 0.0\n",
      "Feature: FEZ1, Importance: 0.0\n",
      "Feature: MBD6, Importance: 0.0\n",
      "Feature: SNN, Importance: 0.0\n",
      "Feature: SDC4, Importance: 0.0\n",
      "Feature: HMP19, Importance: 0.0\n",
      "Feature: ANK2, Importance: 0.0\n",
      "Feature: THBS4, Importance: 0.0\n",
      "Feature: EZR, Importance: 0.0\n",
      "Feature: CD59, Importance: 0.0\n",
      "Feature: RPS5, Importance: 0.0\n",
      "Feature: SEPT7, Importance: 0.0\n",
      "Feature: STMN2, Importance: 0.0\n",
      "Feature: CSPG4, Importance: 0.0\n",
      "Feature: RASSF4, Importance: 0.0\n",
      "Feature: HSP90B1, Importance: 0.0\n",
      "Feature: LOC647979, Importance: 0.0\n",
      "Feature: TPPP3, Importance: 0.0\n",
      "Feature: SULF1, Importance: 0.0\n",
      "Feature: DCTN2, Importance: 0.0\n",
      "Feature: MYH9, Importance: 0.0\n",
      "Feature: HIP1R, Importance: 0.0\n",
      "Feature: TAGLN2, Importance: 0.0\n",
      "Feature: CTNND2, Importance: 0.0\n",
      "Feature: ABR, Importance: 0.0\n",
      "Feature: ADAM6, Importance: 0.0\n",
      "Feature: CNTN1, Importance: 0.0\n",
      "Feature: GALNTL2, Importance: 0.0\n",
      "Feature: NEAT1, Importance: 0.0\n",
      "Feature: ATCAY, Importance: 0.0\n",
      "Feature: CLIP2, Importance: 0.0\n",
      "Feature: COTL1, Importance: 0.0\n",
      "Feature: PYGB, Importance: 0.0\n",
      "Feature: AGAP2, Importance: 0.0\n",
      "Feature: SRRM2, Importance: 0.0\n",
      "Feature: WSCD1, Importance: 0.0\n",
      "Feature: HLA-DRB1, Importance: 0.0\n",
      "Feature: CLIP3, Importance: 0.0\n",
      "Feature: SELL, Importance: 0.0\n",
      "Feature: PDZD4, Importance: 0.0\n",
      "Feature: GATM, Importance: 0.0\n",
      "Feature: NDRG1, Importance: 0.0\n",
      "Feature: PLD3, Importance: 0.0\n",
      "Feature: NUMA1, Importance: 0.0\n",
      "Feature: FSCN1, Importance: 0.0\n",
      "Feature: TXNIP, Importance: 0.0\n",
      "Feature: AES, Importance: 0.0\n",
      "Feature: CDC42EP4, Importance: 0.0\n",
      "Feature: STAT1, Importance: 0.0\n",
      "Feature: SERPING1, Importance: 0.0\n",
      "Feature: SLC22A17, Importance: 0.0\n",
      "Feature: NELF, Importance: 0.0\n",
      "Feature: HSPB6, Importance: 0.0\n",
      "Feature: C1QL1, Importance: 0.0\n",
      "Feature: SLC6A1, Importance: 0.0\n",
      "Feature: VGF, Importance: 0.0\n",
      "Feature: NKAIN4, Importance: 0.0\n",
      "Feature: LHFPL3, Importance: 0.0\n",
      "Feature: CACNG4, Importance: 0.0\n",
      "Feature: NAMPT, Importance: 0.0\n",
      "Feature: EIF4A2, Importance: 0.0\n",
      "Feature: GRIA1, Importance: 0.0\n",
      "Feature: AP2B1, Importance: 0.0\n",
      "Feature: FABP7, Importance: 0.0\n",
      "Feature: PHGDH, Importance: 0.0\n",
      "Feature: SQSTM1, Importance: 0.0\n",
      "Feature: ARNT2, Importance: 0.0\n",
      "Feature: SORBS1, Importance: 0.0\n",
      "Feature: GNAI2, Importance: 0.0\n",
      "Feature: SCG2, Importance: 0.0\n",
      "Feature: RNASE1, Importance: 0.0\n",
      "Feature: SFXN5, Importance: 0.0\n",
      "Feature: LIFR, Importance: 0.0\n",
      "Feature: PFN2, Importance: 0.0\n",
      "Feature: FKBP8, Importance: 0.0\n",
      "Feature: SERF2, Importance: 0.0\n",
      "Feature: WBP2, Importance: 0.0\n",
      "Feature: DCLK2, Importance: 0.0\n",
      "Feature: SEPT9, Importance: 0.0\n",
      "Feature: SRI, Importance: 0.0\n",
      "Feature: AP2M1, Importance: 0.0\n",
      "Feature: MAGED1, Importance: 0.0\n",
      "Feature: LOC728392, Importance: 0.0\n",
      "Feature: TMOD2, Importance: 0.0\n",
      "Feature: MDM4, Importance: 0.0\n",
      "Feature: GPX1, Importance: 0.0\n",
      "Feature: PIK3R1, Importance: 0.0\n",
      "Feature: MAT2A, Importance: 0.0\n",
      "Feature: SOX4, Importance: 0.0\n",
      "Feature: ADD3, Importance: 0.0\n",
      "Feature: SEMA5A, Importance: 0.0\n",
      "Feature: SPOCK1, Importance: 0.0\n",
      "Feature: LRRN2, Importance: 0.0\n",
      "Feature: SNRPN, Importance: 0.0\n",
      "Feature: SOX9, Importance: 0.0\n",
      "Feature: CHL1, Importance: 0.0\n",
      "Feature: EIF3CL, Importance: 0.0\n",
      "Feature: STOM, Importance: 0.0\n",
      "Feature: ZYX, Importance: 0.0\n",
      "Feature: SCAMP5, Importance: 0.0\n",
      "Feature: AGXT2L1, Importance: 0.0\n",
      "Feature: ITGAV, Importance: 0.0\n",
      "Feature: ATP2A2, Importance: 0.0\n",
      "Feature: CYFIP2, Importance: 0.0\n",
      "Feature: CHI3L2, Importance: 0.0\n",
      "Feature: PPP1R1B, Importance: 0.0\n",
      "Feature: NRXN2, Importance: 0.0\n",
      "Feature: ENHO, Importance: 0.0\n",
      "Feature: MAPK4, Importance: 0.0\n",
      "Feature: TMEM132A, Importance: 0.0\n",
      "Feature: PFKFB3, Importance: 0.0\n",
      "Feature: TNS3, Importance: 0.0\n",
      "Feature: WLS, Importance: 0.0\n",
      "Feature: SYNPO, Importance: 0.0\n",
      "Feature: AGRN, Importance: 0.0\n",
      "Feature: GPR37L1, Importance: 0.0\n",
      "Feature: BGN, Importance: 0.0\n",
      "Feature: RHOC, Importance: 0.0\n",
      "Feature: NAP1L1, Importance: 0.0\n",
      "Feature: DDX17, Importance: 0.0\n",
      "Feature: SFRP2, Importance: 0.0\n",
      "Feature: PREX1, Importance: 0.0\n",
      "Feature: ARF3, Importance: 0.0\n",
      "Feature: GTF2IP1, Importance: 0.0\n",
      "Feature: C14orf132, Importance: 0.0\n",
      "Feature: ATP5A1, Importance: 0.0\n",
      "Feature: PGK1, Importance: 0.0\n",
      "Feature: RHOBTB3, Importance: 0.0\n",
      "Feature: ZFP36L1, Importance: 0.0\n",
      "Feature: ZCCHC24, Importance: 0.0\n",
      "Feature: ITGB4, Importance: 0.0\n",
      "Feature: RAP2A, Importance: 0.0\n",
      "Feature: GOLM1, Importance: 0.0\n",
      "Feature: EPN2, Importance: 0.0\n",
      "Feature: SEPN1, Importance: 0.0\n",
      "Feature: CDK2AP1, Importance: 0.0\n",
      "Feature: PDE4DIP, Importance: 0.0\n",
      "Feature: CSF1R, Importance: 0.0\n",
      "Feature: P4HB, Importance: 0.0\n",
      "Feature: F3, Importance: 0.0\n",
      "Feature: GPC1, Importance: 0.0\n",
      "Feature: MACF1, Importance: 0.0\n",
      "Feature: SPON1, Importance: 0.0\n",
      "Feature: PNMA2, Importance: 0.0\n",
      "Feature: HOPX, Importance: 0.0\n",
      "Feature: SCARB2, Importance: 0.0\n",
      "Feature: GRIA2, Importance: 0.0\n",
      "Feature: BTG2, Importance: 0.0\n",
      "Feature: CLTC, Importance: 0.0\n",
      "Feature: PPAP2B, Importance: 0.0\n",
      "Feature: GRIK3, Importance: 0.0\n",
      "Feature: SLC1A4, Importance: 0.0\n",
      "Feature: GABARAP, Importance: 0.0\n",
      "Feature: SORT1, Importance: 0.0\n",
      "Feature: TPP1, Importance: 0.0\n",
      "Feature: PRUNE2, Importance: 0.0\n",
      "Feature: LDHA, Importance: 0.0\n",
      "Feature: SOX10, Importance: 0.0\n",
      "Feature: GNB1, Importance: 0.0\n",
      "Feature: FASN, Importance: 0.0\n",
      "Feature: SYNM, Importance: 0.0\n",
      "Feature: ATN1, Importance: 0.0\n",
      "Feature: CDKN1A, Importance: 0.0\n",
      "Feature: SIRPA, Importance: 0.0\n",
      "Feature: YWHAB, Importance: 0.0\n",
      "Feature: TRIL, Importance: 0.0\n",
      "Feature: ABLIM1, Importance: 0.0\n",
      "Feature: SERPINE1, Importance: 0.0\n",
      "Feature: C1S, Importance: 0.0\n",
      "Feature: PSAT1, Importance: 0.0\n",
      "Feature: GPI, Importance: 0.0\n",
      "Feature: AKAP12, Importance: 0.0\n",
      "Feature: TUBB2C, Importance: 0.0\n",
      "Feature: APOC1, Importance: 0.0\n",
      "Feature: ATP6V0E2, Importance: 0.0\n",
      "Feature: SEPW1, Importance: 0.0\n",
      "Feature: BAI1, Importance: 0.0\n",
      "Feature: ZFP36, Importance: 0.0\n",
      "Feature: SEC14L1, Importance: 0.0\n",
      "Feature: EPAS1, Importance: 0.0\n",
      "Feature: YBX1, Importance: 0.0\n",
      "Feature: ACTN1, Importance: 0.0\n",
      "Feature: ZMIZ1, Importance: 0.0\n",
      "Feature: FYN, Importance: 0.0\n",
      "Feature: CCND1, Importance: 0.0\n",
      "Feature: TPI1, Importance: 0.0\n",
      "Feature: SLC7A5, Importance: 0.0\n",
      "Feature: LFNG, Importance: 0.0\n",
      "Feature: PAQR8, Importance: 0.0\n",
      "Feature: ADCY1, Importance: 0.0\n",
      "Feature: PRCP, Importance: 0.0\n",
      "Feature: CA2, Importance: 0.0\n",
      "Feature: PTMA, Importance: 0.0\n",
      "Feature: DCLK1, Importance: 0.0\n",
      "Feature: TAX1BP1, Importance: 0.0\n",
      "Feature: COX4I1, Importance: 0.0\n",
      "Feature: LOC154822, Importance: 0.0\n",
      "Feature: CTGF, Importance: 0.0\n",
      "Feature: GBAS, Importance: 0.0\n",
      "Feature: EMILIN3, Importance: 0.0\n",
      "Feature: TMEM66, Importance: 0.0\n",
      "Feature: HEPACAM, Importance: 0.0\n",
      "Feature: TRIB2, Importance: 0.0\n",
      "Feature: EIF4B, Importance: 0.0\n",
      "Feature: FKBP5, Importance: 0.0\n",
      "Feature: GRINA, Importance: 0.0\n",
      "Feature: GABBR2, Importance: 0.0\n",
      "Feature: TPM4, Importance: 0.0\n",
      "Feature: ANXA2, Importance: 0.0\n",
      "Feature: DDIT4, Importance: 0.0\n",
      "Feature: CADM4, Importance: 0.0\n",
      "Feature: SLAIN1, Importance: 0.0\n",
      "Feature: EIF1, Importance: 0.0\n",
      "Feature: OAZ1, Importance: 0.0\n",
      "Feature: KIF3C, Importance: 0.0\n",
      "Feature: SLC38A1, Importance: 0.0\n",
      "Feature: RASD1, Importance: 0.0\n",
      "Feature: H1F0, Importance: 0.0\n",
      "Feature: PJA2, Importance: 0.0\n",
      "Feature: CXCL14, Importance: 0.0\n",
      "Feature: SLC44A2, Importance: 0.0\n",
      "Feature: F5, Importance: 0.0\n",
      "Feature: SCN3B, Importance: 0.0\n",
      "Feature: MRFAP1, Importance: 0.0\n",
      "Feature: NFE2L1, Importance: 0.0\n",
      "Feature: GNAO1, Importance: 0.0\n",
      "Feature: PINK1, Importance: 0.0\n",
      "Feature: QDPR, Importance: 0.0\n",
      "Feature: MCL1, Importance: 0.0\n",
      "Feature: TMEM59L, Importance: 0.0\n",
      "Feature: SEL1L3, Importance: 0.0\n",
      "Feature: DUSP1, Importance: 0.0\n",
      "Feature: LGALS1, Importance: 0.0\n",
      "Feature: MRC2, Importance: 0.0\n",
      "Feature: CD163, Importance: 0.0\n",
      "Feature: TAGLN, Importance: 0.0\n",
      "Feature: DENND5A, Importance: 0.0\n",
      "Feature: STMN3, Importance: 0.0\n",
      "Feature: SLC3A2, Importance: 0.0\n",
      "Feature: ACTN4, Importance: 0.0\n",
      "Feature: GPNMB, Importance: 0.0\n",
      "Feature: MYO5A, Importance: 0.0\n",
      "Feature: ITPK1, Importance: 0.0\n",
      "Feature: BSCL2, Importance: 0.0\n",
      "Feature: DCTN1, Importance: 0.0\n",
      "Feature: MGLL, Importance: 0.0\n",
      "Feature: MATN2, Importance: 0.0\n",
      "Feature: ZEB1, Importance: 0.0\n",
      "Feature: HBA1, Importance: 0.0\n",
      "Feature: RCAN1, Importance: 0.0\n",
      "Feature: PI16, Importance: 0.0\n",
      "Feature: ADCY2, Importance: 0.0\n",
      "Feature: LAMP2, Importance: 0.0\n",
      "Feature: SEPT14, Importance: 0.0\n",
      "Feature: LENG8, Importance: 0.0\n",
      "Feature: MYO10, Importance: 0.0\n",
      "Feature: ARL6IP1, Importance: 0.0\n",
      "Feature: HSPA2, Importance: 0.0\n",
      "Feature: BACE1, Importance: 0.0\n",
      "Feature: MT1E, Importance: 0.0\n",
      "Feature: NUCKS1, Importance: 0.0\n",
      "Feature: NEBL, Importance: 0.0\n",
      "Feature: L1CAM, Importance: 0.0\n",
      "Feature: NMB, Importance: 0.0\n",
      "Feature: CELSR2, Importance: 0.0\n",
      "Feature: PPIB, Importance: 0.0\n",
      "Feature: LTBP3, Importance: 0.0\n",
      "Feature: SSFA2, Importance: 0.0\n",
      "Feature: PLXNB1, Importance: 0.0\n",
      "Feature: GPR98, Importance: 0.0\n",
      "Feature: AIF1L, Importance: 0.0\n",
      "Feature: BASP1, Importance: 0.0\n",
      "Feature: ZNF385A, Importance: 0.0\n",
      "Feature: RPH3A, Importance: 0.0\n",
      "Feature: TIMP4, Importance: 0.0\n",
      "Feature: DAG1, Importance: 0.0\n",
      "Feature: NOTCH1, Importance: 0.0\n",
      "Feature: NDUFA4L2, Importance: 0.0\n",
      "Feature: C1QTNF1, Importance: 0.0\n",
      "Feature: BIN1, Importance: 0.0\n",
      "Feature: DDX5, Importance: 0.0\n",
      "Feature: CRKL, Importance: 0.0\n",
      "Feature: SEC61A1, Importance: 0.0\n",
      "Feature: CAPS, Importance: 0.0\n",
      "Feature: KCNJ16, Importance: 0.0\n",
      "Feature: USP11, Importance: 0.0\n",
      "Feature: WSB1, Importance: 0.0\n",
      "Feature: SNRNP200, Importance: 0.0\n",
      "Feature: TP53INP2, Importance: 0.0\n",
      "Feature: SEZ6, Importance: 0.0\n",
      "Feature: ITGA7, Importance: 0.0\n",
      "Feature: LAMP1, Importance: 0.0\n",
      "Feature: GLTSCR2, Importance: 0.0\n",
      "Feature: TNFRSF21, Importance: 0.0\n",
      "Feature: LAMB2, Importance: 0.0\n",
      "Feature: TUBB3, Importance: 0.0\n",
      "Feature: SNX1, Importance: 0.0\n",
      "Feature: BCR, Importance: 0.0\n",
      "Feature: SEZ6L, Importance: 0.0\n",
      "Feature: ACO2, Importance: 0.0\n",
      "Feature: TRIM9, Importance: 0.0\n",
      "Feature: SNTA1, Importance: 0.0\n",
      "Feature: SAT1, Importance: 0.0\n",
      "Feature: TLN1, Importance: 0.0\n",
      "Feature: ELN, Importance: 0.0\n",
      "Feature: PFN1, Importance: 0.0\n",
      "Feature: CTNNA1, Importance: 0.0\n",
      "Feature: VSTM2A, Importance: 0.0\n",
      "Feature: CALD1, Importance: 0.0\n",
      "Feature: CHGB, Importance: 0.0\n",
      "Feature: TRIM47, Importance: 0.0\n",
      "Feature: CRMP1, Importance: 0.0\n",
      "Feature: TGFBI, Importance: 0.0\n",
      "Feature: CTSH, Importance: 0.0\n",
      "Feature: SREBF2, Importance: 0.0\n",
      "Feature: PIK3C2B, Importance: 0.0\n",
      "Feature: SNX22, Importance: 0.0\n",
      "Feature: MAPK8IP1, Importance: 0.0\n",
      "Feature: PTRF, Importance: 0.0\n",
      "Feature: SLC25A23, Importance: 0.0\n",
      "Feature: PPP2R1A, Importance: 0.0\n",
      "Feature: COL20A1, Importance: 0.0\n",
      "Feature: CD9, Importance: 0.0\n",
      "Feature: MPZL1, Importance: 0.0\n",
      "Feature: MFRP, Importance: 0.0\n",
      "Feature: CYR61, Importance: 0.0\n",
      "Feature: DDAH1, Importance: 0.0\n",
      "Feature: JUNB, Importance: 0.0\n",
      "Feature: TCF4, Importance: 0.0\n",
      "Feature: NLGN3, Importance: 0.0\n",
      "Feature: TRIM67, Importance: 0.0\n",
      "Feature: BAIAP3, Importance: 0.0\n",
      "Feature: HNRNPC, Importance: 0.0\n",
      "Feature: GRIA4, Importance: 0.0\n",
      "Feature: S100A10, Importance: 0.0\n",
      "Feature: PRKCA, Importance: 0.0\n",
      "Feature: MTCH1, Importance: 0.0\n",
      "Feature: SNRNP70, Importance: 0.0\n",
      "Feature: CDK6, Importance: 0.0\n",
      "Feature: PDPN, Importance: 0.0\n",
      "Feature: MGP, Importance: 0.0\n",
      "Feature: EIF4A1, Importance: 0.0\n",
      "Feature: NOTCH2, Importance: 0.0\n",
      "Feature: DHCR24, Importance: 0.0\n",
      "Feature: NCOR2, Importance: 0.0\n",
      "Feature: BAI2, Importance: 0.0\n",
      "Feature: SLC44A1, Importance: 0.0\n",
      "Feature: NGRN, Importance: 0.0\n",
      "Feature: NCL, Importance: 0.0\n",
      "Feature: MEST, Importance: 0.0\n",
      "Feature: EXOC7, Importance: 0.0\n",
      "Feature: ARC, Importance: 0.0\n",
      "Feature: ADD1, Importance: 0.0\n",
      "Feature: ACCN4, Importance: 0.0\n",
      "Feature: LYNX1, Importance: 0.0\n",
      "Feature: NAV1, Importance: 0.0\n",
      "Feature: PRKAR1A, Importance: 0.0\n",
      "Feature: HNRNPU, Importance: 0.0\n",
      "Feature: WNK1, Importance: 0.0\n",
      "Feature: C13orf15, Importance: 0.0\n",
      "Feature: MOXD1, Importance: 0.0\n",
      "Feature: FAT1, Importance: 0.0\n",
      "Feature: BAT2L1, Importance: 0.0\n",
      "Feature: MAPK1, Importance: 0.0\n",
      "Feature: KCTD12, Importance: 0.0\n",
      "Feature: NNAT, Importance: 0.0\n",
      "Feature: NGFR, Importance: 0.0\n",
      "Feature: CRLF1, Importance: 0.0\n",
      "Feature: NELL2, Importance: 0.0\n",
      "Feature: GBP2, Importance: 0.0\n",
      "Feature: SPTBN2, Importance: 0.0\n",
      "Feature: DAZAP2, Importance: 0.0\n",
      "Feature: CCT3, Importance: 0.0\n",
      "Feature: DYNC1LI2, Importance: 0.0\n",
      "Feature: LOC643763, Importance: 0.0\n",
      "Feature: PEG3, Importance: 0.0\n",
      "Feature: SEPT8, Importance: 0.0\n",
      "Feature: ZFAND5, Importance: 0.0\n",
      "Feature: WDR1, Importance: 0.0\n",
      "Feature: GALNT13, Importance: 0.0\n",
      "Feature: PTPN11, Importance: 0.0\n",
      "Feature: B3GAT1, Importance: 0.0\n",
      "Feature: PRKACB, Importance: 0.0\n",
      "Feature: BAT2, Importance: 0.0\n",
      "Feature: NUCB1, Importance: 0.0\n",
      "Feature: HSPG2, Importance: 0.0\n",
      "Feature: PCDHGA10, Importance: 0.0\n",
      "Feature: HMOX1, Importance: 0.0\n",
      "Feature: ARPP19, Importance: 0.0\n",
      "Feature: ST13, Importance: 0.0\n",
      "Feature: PFKP, Importance: 0.0\n",
      "Feature: FCGR3A, Importance: 0.0\n",
      "Feature: SHD, Importance: 0.0\n",
      "Feature: CORO1C, Importance: 0.0\n",
      "Feature: KIF1C, Importance: 0.0\n",
      "Feature: LASS1, Importance: 0.0\n",
      "Feature: ASTN1, Importance: 0.0\n",
      "Feature: CSDE1, Importance: 0.0\n",
      "Feature: VPS13D, Importance: 0.0\n",
      "Feature: CAMK2G, Importance: 0.0\n",
      "Feature: EFHD1, Importance: 0.0\n",
      "Feature: GNA12, Importance: 0.0\n",
      "Feature: HEY1, Importance: 0.0\n",
      "Feature: SPOCD1, Importance: 0.0\n",
      "Feature: MAGED4B, Importance: 0.0\n",
      "Feature: C1orf198, Importance: 0.0\n",
      "Feature: CCDC80, Importance: 0.0\n",
      "Feature: CD14, Importance: 0.0\n",
      "Feature: S100A1, Importance: 0.0\n",
      "Feature: ANTXR1, Importance: 0.0\n",
      "Feature: MEGF8, Importance: 0.0\n",
      "Feature: GNG7, Importance: 0.0\n",
      "Feature: PLXNB2, Importance: 0.0\n",
      "Feature: ALCAM, Importance: 0.0\n",
      "Feature: ANXA6, Importance: 0.0\n",
      "Feature: ADAR, Importance: 0.0\n",
      "Feature: NRXN1, Importance: 0.0\n",
      "Feature: DNAJB2, Importance: 0.0\n",
      "Feature: NONO, Importance: 0.0\n",
      "Feature: RHOA, Importance: 0.0\n",
      "Feature: SLC6A11, Importance: 0.0\n",
      "Feature: APBB1, Importance: 0.0\n",
      "Feature: NGFRAP1, Importance: 0.0\n",
      "Feature: SOX13, Importance: 0.0\n",
      "Feature: PHLDB1, Importance: 0.0\n",
      "Feature: GRN, Importance: 0.0\n",
      "Feature: PCDHGB7, Importance: 0.0\n",
      "Feature: WASF3, Importance: 0.0\n",
      "Feature: ZDHHC22, Importance: 0.0\n",
      "Feature: THBS2, Importance: 0.0\n",
      "Feature: C16orf5, Importance: 0.0\n",
      "Feature: ASAH1, Importance: 0.0\n",
      "Feature: METRN, Importance: 0.0\n",
      "Feature: SOX2OT, Importance: 0.0\n",
      "Feature: ITGA3, Importance: 0.0\n",
      "Feature: NPDC1, Importance: 0.0\n",
      "Feature: LINGO1, Importance: 0.0\n",
      "Feature: KIF21B, Importance: 0.0\n",
      "Feature: SGK1, Importance: 0.0\n",
      "Feature: STAB1, Importance: 0.0\n",
      "Feature: CD68, Importance: 0.0\n",
      "Feature: MMP14, Importance: 0.0\n",
      "Feature: FAM84B, Importance: 0.0\n",
      "Feature: CSNK1E, Importance: 0.0\n",
      "Feature: PPP1CB, Importance: 0.0\n",
      "Feature: TRIO, Importance: 0.0\n",
      "Feature: IQSEC1, Importance: 0.0\n"
     ]
    }
   ],
   "source": [
    "from sklearn.ensemble import RandomForestClassifier\n",
    "from sklearn.model_selection import train_test_split\n",
    "\n",
    "# Set seed for reproducibility\n",
    "np.random.seed(17)\n",
    "\n",
    "# Prepare training data\n",
    "X = pd.DataFrame(training.iloc[:, 2:].values) # Features\n",
    "y = training['subtype'].values # Target labels\n",
    "\n",
    "# Train random forest with no resampling and OOB estimation\n",
    "rf_model = RandomForestClassifier(\n",
    "    n_estimators=100,         # Number of trees\n",
    "    max_features=100,         # Equivalent to `mtry` in ranger\n",
    "    min_samples_leaf=1,       # Equivalent to `min.node.size`\n",
    "    oob_score=True,           # Enable OOB error calculation\n",
    "    bootstrap=True,           # Ensure bootstrapping for OOB\n",
    "    random_state=17\n",
    ")\n",
    "rf_model.fit(X, y)\n",
    "\n",
    "# Print OOB error\n",
    "oob_error = 1 - rf_model.oob_score_\n",
    "print(f\"OOB Error: {oob_error}\")\n",
    "\n",
    "# Calculate permutation-based feature importance\n",
    "from sklearn.inspection import permutation_importance\n",
    "\n",
    "perm_importance = permutation_importance(\n",
    "    rf_model, X, y, n_repeats=10, random_state=17\n",
    ")\n",
    "\n",
    "# Display feature importance\n",
    "feature_importance = perm_importance.importances_mean\n",
    "for feature, importance in zip(training.iloc[:, 2:].columns, feature_importance):\n",
    "    print(f\"Feature: {feature}, Importance: {importance}\")"
   ],
   "metadata": {
    "collapsed": false,
    "ExecuteTime": {
     "end_time": "2024-11-22T16:28:21.895410Z",
     "start_time": "2024-11-22T16:27:31.375207Z"
    }
   },
   "id": "63899fcc1b8a05f5"
  },
  {
   "cell_type": "markdown",
   "source": [
    "#### 3.10.3 Variable importance"
   ],
   "metadata": {
    "collapsed": false
   },
   "id": "dcb4c3a497a2492b"
  },
  {
   "cell_type": "code",
   "execution_count": 28,
   "outputs": [
    {
     "data": {
      "text/plain": "<Figure size 500x300 with 1 Axes>",
      "image/png": "[encoded data removed]"
     },
     "metadata": {},
     "output_type": "display_data"
    }
   ],
   "source": [
    "# Extract feature importances from the trained random forest model\n",
    "feature_importances = rf_model.feature_importances_\n",
    "features = training.iloc[:, 2:].columns\n",
    "\n",
    "# Create a DataFrame for better visualization and sorting\n",
    "importance_df = pd.DataFrame({\n",
    "    'Feature': features,\n",
    "    'Importance': feature_importances\n",
    "})\n",
    "\n",
    "# Sort features by importance in descending order and select the top 10\n",
    "top_features = importance_df.sort_values(by='Importance', ascending=False).head(10)\n",
    "\n",
    "# Plot the top 10 features\n",
    "fig, ax = plt.subplots(figsize=(5, 3))\n",
    "plt.barh(top_features['Feature'], top_features['Importance'])\n",
    "plt.xlabel('Importance')\n",
    "plt.ylabel('Feature')\n",
    "plt.title('Top 10 Feature Importances')\n",
    "plt.gca().invert_yaxis()  # Invert y-axis to show the highest importance on top\n",
    "plt.show()"
   ],
   "metadata": {
    "collapsed": false,
    "ExecuteTime": {
     "end_time": "2024-11-22T16:28:21.986160Z",
     "start_time": "2024-11-22T16:28:21.897182Z"
    }
   },
   "id": "1f83b7a64a0262dd"
  },
  {
   "cell_type": "markdown",
   "source": [
    "### 3.11 Logistic regression and regularization\n",
    "* Logistic regression is a statistical method that is used to model a binary response variable based on predictor variables. \n",
    "* Although initially devised for two-class or binary response problems, this method can be generalized to multiclass problems.\n",
    "* Logistic regression is very similar to linear regression as a concept, and it can be thought of as a “maximum likelihood estimation” problem where we are trying to find statistical parameters that maximize the likelihood of the observed data being sampled from the statistical distribution of interest.\n",
    "* $y_i$ can only be 0 or 1, and therefore it can be realized by $p_i$ or $1-p_i$ which is why the distribution follows the Bernoulli distribution and the problem can be formulated: $p_i \\sim \\beta_0 + \\beta_1 x_i$.\n",
    "* A model that satisfies the boundary requirement is the logistic equation shown below:\n",
    "$$p_i = \\frac{e^{(\\beta_0+\\beta_1 x_i)}}{1+e^{(\\beta_0+\\beta_1 x_i}$$\n",
    "* It can be linearized:\n",
    "$$logit(p_i) = ln(\\frac{p_i}{1-p_i})) = \\beta_0 + \\beta1 x_i$$\n",
    "* Logit stands for \"logistic uni\" or log odds. \n",
    "* The maximum log-likelihood:\n",
    "* The \"log loss\" function:"
   ],
   "metadata": {
    "collapsed": false
   },
   "id": "d979eba0e7c2829f"
  },
  {
   "cell_type": "code",
   "execution_count": 29,
   "outputs": [
    {
     "name": "stderr",
     "output_type": "stream",
     "text": [
      "/Users/olyssa/opt/anaconda3/envs/ml_for_genomics/lib/python3.9/site-packages/sklearn/base.py:457: UserWarning: X has feature names, but LogisticRegression was fitted without feature names\n",
      "  warnings.warn(\n"
     ]
    },
    {
     "data": {
      "text/plain": "<Figure size 640x480 with 1 Axes>",
      "image/png": "[encoded data removed]"
     },
     "metadata": {},
     "output_type": "display_data"
    }
   ],
   "source": [
    "from sklearn.linear_model import LogisticRegression\n",
    "from sklearn.model_selection import train_test_split\n",
    "\n",
    "# Prepare data\n",
    "X = training[['PDPN']]  # Predictor variable\n",
    "y = (training['subtype'] == 'CIMP').astype(int)  # Convert subtype to binary (0 or 1)\n",
    "\n",
    "# Fit logistic regression model\n",
    "lr = LogisticRegression(solver='liblinear')  # Use 'liblinear' for binary classification\n",
    "lr.fit(X, y)\n",
    "\n",
    "# Create a range of PDPN values to plot the sigmoid curve\n",
    "newdat = pd.DataFrame({'PDPN': np.linspace(X['PDPN'].min(), X['PDPN'].max(), 100)})\n",
    "\n",
    "# Predict probabilities for the simulated data\n",
    "newdat['subtype'] = lr.predict_proba(newdat[['PDPN']])[:, 1]\n",
    "\n",
    "# Plot the training data points\n",
    "plt.scatter(training['PDPN'], y, color='red', label='Training Data', alpha=0.6)\n",
    "\n",
    "# Plot the sigmoid curve\n",
    "plt.plot(newdat['PDPN'], newdat['subtype'], color='green', linewidth=2, label='Sigmoid Curve')\n",
    "\n",
    "# Customize the plot\n",
    "plt.xlabel('PDPN expression')\n",
    "plt.ylabel('Subtype as 0 or 1')\n",
    "plt.title('Logistic Regression: PDPN vs Subtype')\n",
    "plt.legend()\n",
    "plt.grid(True)\n",
    "plt.show()"
   ],
   "metadata": {
    "collapsed": false,
    "ExecuteTime": {
     "end_time": "2024-11-22T16:28:22.106732Z",
     "start_time": "2024-11-22T16:28:21.989808Z"
    }
   },
   "id": "cbf4e5aa09f3c844"
  },
  {
   "cell_type": "code",
   "execution_count": 30,
   "outputs": [
    {
     "name": "stdout",
     "output_type": "stream",
     "text": [
      "Training:\n",
      "Confusion Matrix:\n",
      "[[53 11]\n",
      " [ 2 62]]\n",
      "Accuracy: 0.8984375\n",
      "\n",
      "Testing:\n",
      "Confusion Matrix:\n",
      "[[24  4]\n",
      " [ 1 27]]\n",
      "Accuracy: 0.9107142857142857\n"
     ]
    }
   ],
   "source": [
    "from sklearn.metrics import confusion_matrix, accuracy_score\n",
    "\n",
    "# Predict class labels for the training data\n",
    "class_res = lr.predict(training[['PDPN']])\n",
    "\n",
    "# Calculate the confusion matrix\n",
    "y = (training['subtype'] == 'CIMP').astype(int)  # Convert subtype to binary (0 or 1)\n",
    "conf_matrix = confusion_matrix(y, class_res)\n",
    "\n",
    "# Calculate overall accuracy\n",
    "accuracy = accuracy_score(y, class_res)\n",
    "\n",
    "print('Training:')\n",
    "print(f\"Confusion Matrix:\\n{conf_matrix}\")\n",
    "print(f\"Accuracy: {accuracy}\")\n",
    "\n",
    "# Predict class labels for the testing data\n",
    "class_res = lr.predict(testing[['PDPN']])\n",
    "\n",
    "# Calculate the confusion matrix\n",
    "y = (testing['subtype'] == 'CIMP').astype(int)  # Convert subtype to binary (0 or 1)\n",
    "conf_matrix = confusion_matrix(y, class_res)\n",
    "\n",
    "# Calculate overall accuracy\n",
    "accuracy = accuracy_score(y, class_res)\n",
    "\n",
    "print('\\nTesting:')\n",
    "print(f\"Confusion Matrix:\\n{conf_matrix}\")\n",
    "print(f\"Accuracy: {accuracy}\")"
   ],
   "metadata": {
    "collapsed": false,
    "ExecuteTime": {
     "end_time": "2024-11-22T16:28:22.130169Z",
     "start_time": "2024-11-22T16:28:22.112777Z"
    }
   },
   "id": "1e5a5f6960c21921"
  },
  {
   "cell_type": "code",
   "execution_count": 31,
   "outputs": [
    {
     "data": {
      "text/plain": "LogisticRegression(solver='liblinear')",
      "text/html": "<style>#sk-container-id-1 {color: black;}#sk-container-id-1 pre{padding: 0;}#sk-container-id-1 div.sk-toggleable {background-color: white;}#sk-container-id-1 label.sk-toggleable__label {cursor: pointer;display: block;width: 100%;margin-bottom: 0;padding: 0.3em;box-sizing: border-box;text-align: center;}#sk-container-id-1 label.sk-toggleable__label-arrow:before {content: \"▸\";float: left;margin-right: 0.25em;color: #696969;}#sk-container-id-1 label.sk-toggleable__label-arrow:hover:before {color: black;}#sk-container-id-1 div.sk-estimator:hover label.sk-toggleable__label-arrow:before {color: black;}#sk-container-id-1 div.sk-toggleable__content {max-height: 0;max-width: 0;overflow: hidden;text-align: left;background-color: #f0f8ff;}#sk-container-id-1 div.sk-toggleable__content pre {margin: 0.2em;color: black;border-radius: 0.25em;background-color: #f0f8ff;}#sk-container-id-1 input.sk-toggleable__control:checked~div.sk-toggleable__content {max-height: 200px;max-width: 100%;overflow: auto;}#sk-container-id-1 input.sk-toggleable__control:checked~label.sk-toggleable__label-arrow:before {content: \"▾\";}#sk-container-id-1 div.sk-estimator input.sk-toggleable__control:checked~label.sk-toggleable__label {background-color: #d4ebff;}#sk-container-id-1 div.sk-label input.sk-toggleable__control:checked~label.sk-toggleable__label {background-color: #d4ebff;}#sk-container-id-1 input.sk-hidden--visually {border: 0;clip: rect(1px 1px 1px 1px);clip: rect(1px, 1px, 1px, 1px);height: 1px;margin: -1px;overflow: hidden;padding: 0;position: absolute;width: 1px;}#sk-container-id-1 div.sk-estimator {font-family: monospace;background-color: #f0f8ff;border: 1px dotted black;border-radius: 0.25em;box-sizing: border-box;margin-bottom: 0.5em;}#sk-container-id-1 div.sk-estimator:hover {background-color: #d4ebff;}#sk-container-id-1 div.sk-parallel-item::after {content: \"\";width: 100%;border-bottom: 1px solid gray;flex-grow: 1;}#sk-container-id-1 div.sk-label:hover label.sk-toggleable__label {background-color: #d4ebff;}#sk-container-id-1 div.sk-serial::before {content: \"\";position: absolute;border-left: 1px solid gray;box-sizing: border-box;top: 0;bottom: 0;left: 50%;z-index: 0;}#sk-container-id-1 div.sk-serial {display: flex;flex-direction: column;align-items: center;background-color: white;padding-right: 0.2em;padding-left: 0.2em;position: relative;}#sk-container-id-1 div.sk-item {position: relative;z-index: 1;}#sk-container-id-1 div.sk-parallel {display: flex;align-items: stretch;justify-content: center;background-color: white;position: relative;}#sk-container-id-1 div.sk-item::before, #sk-container-id-1 div.sk-parallel-item::before {content: \"\";position: absolute;border-left: 1px solid gray;box-sizing: border-box;top: 0;bottom: 0;left: 50%;z-index: -1;}#sk-container-id-1 div.sk-parallel-item {display: flex;flex-direction: column;z-index: 1;position: relative;background-color: white;}#sk-container-id-1 div.sk-parallel-item:first-child::after {align-self: flex-end;width: 50%;}#sk-container-id-1 div.sk-parallel-item:last-child::after {align-self: flex-start;width: 50%;}#sk-container-id-1 div.sk-parallel-item:only-child::after {width: 0;}#sk-container-id-1 div.sk-dashed-wrapped {border: 1px dashed gray;margin: 0 0.4em 0.5em 0.4em;box-sizing: border-box;padding-bottom: 0.4em;background-color: white;}#sk-container-id-1 div.sk-label label {font-family: monospace;font-weight: bold;display: inline-block;line-height: 1.2em;}#sk-container-id-1 div.sk-label-container {text-align: center;}#sk-container-id-1 div.sk-container {/* jupyter's `normalize.less` sets `[hidden] { display: none; }` but bootstrap.min.css set `[hidden] { display: none !important; }` so we also need the `!important` here to be able to override the default hidden behavior on the sphinx rendered scikit-learn.org. See: https://github.com/scikit-learn/scikit-learn/issues/21755 */display: inline-block !important;position: relative;}#sk-container-id-1 div.sk-text-repr-fallback {display: none;}</style><div id=\"sk-container-id-1\" class=\"sk-top-container\"><div class=\"sk-text-repr-fallback\"><pre>LogisticRegression(solver=&#x27;liblinear&#x27;)</pre><b>In a Jupyter environment, please rerun this cell to show the HTML representation or trust the notebook. <br />On GitHub, the HTML representation is unable to render, please try loading this page with nbviewer.org.</b></div><div class=\"sk-container\" hidden><div class=\"sk-item\"><div class=\"sk-estimator sk-toggleable\"><input class=\"sk-toggleable__control sk-hidden--visually\" id=\"sk-estimator-id-1\" type=\"checkbox\" checked><label for=\"sk-estimator-id-1\" class=\"sk-toggleable__label sk-toggleable__label-arrow\">LogisticRegression</label><div class=\"sk-toggleable__content\"><pre>LogisticRegression(solver=&#x27;liblinear&#x27;)</pre></div></div></div></div></div>"
     },
     "execution_count": 31,
     "metadata": {},
     "output_type": "execute_result"
    }
   ],
   "source": [
    "# Use all genes as predictor variables\n",
    "\n",
    "from sklearn.metrics import confusion_matrix, accuracy_score\n",
    "from sklearn.linear_model import LogisticRegression\n",
    "\n",
    "# Prepare data: all predictors and the target\n",
    "X_train = training.iloc[:, 2:]  # All features except the target\n",
    "y_train = (training['subtype'] == 'CIMP').astype(int)  # Convert target to binary\n",
    "\n",
    "# Train logistic regression model\n",
    "lr2 = LogisticRegression(solver='liblinear')  # Use 'liblinear' for small datasets or binary classification\n",
    "lr2.fit(X_train, y_train)"
   ],
   "metadata": {
    "collapsed": false,
    "ExecuteTime": {
     "end_time": "2024-11-22T16:28:22.228460Z",
     "start_time": "2024-11-22T16:28:22.132430Z"
    }
   },
   "id": "ba2dfa938ab21393"
  },
  {
   "cell_type": "code",
   "execution_count": 32,
   "outputs": [
    {
     "name": "stdout",
     "output_type": "stream",
     "text": [
      "Training:\n",
      "Confusion Matrix (Training Data):\n",
      "[[64  0]\n",
      " [ 0 64]]\n",
      "Training Accuracy: 1.0\n",
      "\n",
      "Testing:\n",
      "Confusion Matrix (Testing Data):\n",
      "[[28  0]\n",
      " [ 2 26]]\n",
      "Testing Accuracy: 0.9642857142857143\n"
     ]
    }
   ],
   "source": [
    "# Predict on the training data\n",
    "class_res_train = lr2.predict(X_train)\n",
    "conf_matrix_train = confusion_matrix(y_train, class_res_train)\n",
    "train_accuracy = accuracy_score(y_train, class_res_train)\n",
    "\n",
    "print('Training:')\n",
    "print(f\"Confusion Matrix (Training Data):\\n{conf_matrix_train}\")\n",
    "print(f\"Training Accuracy: {train_accuracy}\")\n",
    "\n",
    "# Predict on the testing data\n",
    "X_test = testing.iloc[:, 2:]  # All features except the target\n",
    "y_test = (testing['subtype'] == 'CIMP').astype(int)  # Convert target to binary\n",
    "class_res_test = lr2.predict(X_test)\n",
    "conf_matrix_test = confusion_matrix(y_test, class_res_test)\n",
    "test_accuracy = accuracy_score(y_test, class_res_test)\n",
    "\n",
    "print('\\nTesting:')\n",
    "print(f\"Confusion Matrix (Testing Data):\\n{conf_matrix_test}\")\n",
    "print(f\"Testing Accuracy: {test_accuracy}\")"
   ],
   "metadata": {
    "collapsed": false,
    "ExecuteTime": {
     "end_time": "2024-11-22T16:28:22.229043Z",
     "start_time": "2024-11-22T16:28:22.177755Z"
    }
   },
   "id": "9a01d3de5ca00e60"
  },
  {
   "cell_type": "markdown",
   "source": [
    "### 3.12 Other supervised algorithms"
   ],
   "metadata": {
    "collapsed": false
   },
   "id": "c0562cb2e2321835"
  },
  {
   "cell_type": "markdown",
   "source": [
    "#### 3.12.1 Gradient boosting\n",
    "* Gradient boosting is a prediction model that uses an ensemble of decision trees similar to random forest. \n",
    "* However, the decision trees are added sequentially, which is why these models are also called “Multiple Additive Regression Trees (MART)”.\n",
    "* Generally, “boosting” refers to an iterative learning approach where each new model tries to focus on data points where the previous ensemble of simple models did not predict well. \n",
    "* Gradient boosting is an improvement over that, where each new model tries to focus on the residual errors (prediction error for the current ensemble of models) of the previous model. "
   ],
   "metadata": {
    "collapsed": false
   },
   "id": "e609fb1e71e7d0eb"
  },
  {
   "cell_type": "code",
   "execution_count": 40,
   "outputs": [
    {
     "name": "stdout",
     "output_type": "stream",
     "text": [
      "Fitting 5 folds for each of 3 candidates, totalling 15 fits\n"
     ]
    },
    {
     "name": "stderr",
     "output_type": "stream",
     "text": [
      "/Users/olyssa/opt/anaconda3/envs/ml_for_genomics/lib/python3.9/site-packages/xgboost/core.py:158: UserWarning: [17:31:09] WARNING: /var/folders/c_/qfmhj66j0tn016nkx_th4hxm0000gp/T/abs_b6qk1lz_ug/croot/xgboost-split_1724073748391/work/src/learner.cc:740: \n",
      "Parameters: { \"use_label_encoder\" } are not used.\n",
      "\n",
      "  warnings.warn(smsg, UserWarning)\n",
      "/Users/olyssa/opt/anaconda3/envs/ml_for_genomics/lib/python3.9/site-packages/xgboost/core.py:158: UserWarning: [17:31:09] WARNING: /var/folders/c_/qfmhj66j0tn016nkx_th4hxm0000gp/T/abs_b6qk1lz_ug/croot/xgboost-split_1724073748391/work/src/learner.cc:740: \n",
      "Parameters: { \"use_label_encoder\" } are not used.\n",
      "\n",
      "  warnings.warn(smsg, UserWarning)\n",
      "/Users/olyssa/opt/anaconda3/envs/ml_for_genomics/lib/python3.9/site-packages/xgboost/core.py:158: UserWarning: [17:31:09] WARNING: /var/folders/c_/qfmhj66j0tn016nkx_th4hxm0000gp/T/abs_b6qk1lz_ug/croot/xgboost-split_1724073748391/work/src/learner.cc:740: \n",
      "Parameters: { \"use_label_encoder\" } are not used.\n",
      "\n",
      "  warnings.warn(smsg, UserWarning)\n",
      "/Users/olyssa/opt/anaconda3/envs/ml_for_genomics/lib/python3.9/site-packages/xgboost/core.py:158: UserWarning: [17:31:09] WARNING: /var/folders/c_/qfmhj66j0tn016nkx_th4hxm0000gp/T/abs_b6qk1lz_ug/croot/xgboost-split_1724073748391/work/src/learner.cc:740: \n",
      "Parameters: { \"use_label_encoder\" } are not used.\n",
      "\n",
      "  warnings.warn(smsg, UserWarning)\n",
      "/Users/olyssa/opt/anaconda3/envs/ml_for_genomics/lib/python3.9/site-packages/xgboost/core.py:158: UserWarning: [17:31:09] WARNING: /var/folders/c_/qfmhj66j0tn016nkx_th4hxm0000gp/T/abs_b6qk1lz_ug/croot/xgboost-split_1724073748391/work/src/learner.cc:740: \n",
      "Parameters: { \"use_label_encoder\" } are not used.\n",
      "\n",
      "  warnings.warn(smsg, UserWarning)\n",
      "/Users/olyssa/opt/anaconda3/envs/ml_for_genomics/lib/python3.9/site-packages/xgboost/core.py:158: UserWarning: [17:31:09] WARNING: /var/folders/c_/qfmhj66j0tn016nkx_th4hxm0000gp/T/abs_b6qk1lz_ug/croot/xgboost-split_1724073748391/work/src/learner.cc:740: \n",
      "Parameters: { \"use_label_encoder\" } are not used.\n",
      "\n",
      "  warnings.warn(smsg, UserWarning)\n",
      "/Users/olyssa/opt/anaconda3/envs/ml_for_genomics/lib/python3.9/site-packages/xgboost/core.py:158: UserWarning: [17:31:09] WARNING: /var/folders/c_/qfmhj66j0tn016nkx_th4hxm0000gp/T/abs_b6qk1lz_ug/croot/xgboost-split_1724073748391/work/src/learner.cc:740: \n",
      "Parameters: { \"use_label_encoder\" } are not used.\n",
      "\n",
      "  warnings.warn(smsg, UserWarning)\n",
      "/Users/olyssa/opt/anaconda3/envs/ml_for_genomics/lib/python3.9/site-packages/xgboost/core.py:158: UserWarning: [17:31:09] WARNING: /var/folders/c_/qfmhj66j0tn016nkx_th4hxm0000gp/T/abs_b6qk1lz_ug/croot/xgboost-split_1724073748391/work/src/learner.cc:740: \n",
      "Parameters: { \"use_label_encoder\" } are not used.\n",
      "\n",
      "  warnings.warn(smsg, UserWarning)\n",
      "/Users/olyssa/opt/anaconda3/envs/ml_for_genomics/lib/python3.9/site-packages/xgboost/core.py:158: UserWarning: [17:31:09] WARNING: /var/folders/c_/qfmhj66j0tn016nkx_th4hxm0000gp/T/abs_b6qk1lz_ug/croot/xgboost-split_1724073748391/work/src/learner.cc:740: \n",
      "Parameters: { \"use_label_encoder\" } are not used.\n",
      "\n",
      "  warnings.warn(smsg, UserWarning)\n",
      "/Users/olyssa/opt/anaconda3/envs/ml_for_genomics/lib/python3.9/site-packages/xgboost/core.py:158: UserWarning: [17:31:09] WARNING: /var/folders/c_/qfmhj66j0tn016nkx_th4hxm0000gp/T/abs_b6qk1lz_ug/croot/xgboost-split_1724073748391/work/src/learner.cc:740: \n",
      "Parameters: { \"use_label_encoder\" } are not used.\n",
      "\n",
      "  warnings.warn(smsg, UserWarning)\n",
      "/Users/olyssa/opt/anaconda3/envs/ml_for_genomics/lib/python3.9/site-packages/xgboost/core.py:158: UserWarning: [17:31:09] WARNING: /var/folders/c_/qfmhj66j0tn016nkx_th4hxm0000gp/T/abs_b6qk1lz_ug/croot/xgboost-split_1724073748391/work/src/learner.cc:740: \n",
      "Parameters: { \"use_label_encoder\" } are not used.\n",
      "\n",
      "  warnings.warn(smsg, UserWarning)\n",
      "/Users/olyssa/opt/anaconda3/envs/ml_for_genomics/lib/python3.9/site-packages/xgboost/core.py:158: UserWarning: [17:31:09] WARNING: /var/folders/c_/qfmhj66j0tn016nkx_th4hxm0000gp/T/abs_b6qk1lz_ug/croot/xgboost-split_1724073748391/work/src/learner.cc:740: \n",
      "Parameters: { \"use_label_encoder\" } are not used.\n",
      "\n",
      "  warnings.warn(smsg, UserWarning)\n",
      "/Users/olyssa/opt/anaconda3/envs/ml_for_genomics/lib/python3.9/site-packages/xgboost/core.py:158: UserWarning: [17:31:09] WARNING: /var/folders/c_/qfmhj66j0tn016nkx_th4hxm0000gp/T/abs_b6qk1lz_ug/croot/xgboost-split_1724073748391/work/src/learner.cc:740: \n",
      "Parameters: { \"use_label_encoder\" } are not used.\n",
      "\n",
      "  warnings.warn(smsg, UserWarning)\n",
      "/Users/olyssa/opt/anaconda3/envs/ml_for_genomics/lib/python3.9/site-packages/xgboost/core.py:158: UserWarning: [17:31:09] WARNING: /var/folders/c_/qfmhj66j0tn016nkx_th4hxm0000gp/T/abs_b6qk1lz_ug/croot/xgboost-split_1724073748391/work/src/learner.cc:740: \n",
      "Parameters: { \"use_label_encoder\" } are not used.\n",
      "\n",
      "  warnings.warn(smsg, UserWarning)\n",
      "/Users/olyssa/opt/anaconda3/envs/ml_for_genomics/lib/python3.9/site-packages/xgboost/core.py:158: UserWarning: [17:31:09] WARNING: /var/folders/c_/qfmhj66j0tn016nkx_th4hxm0000gp/T/abs_b6qk1lz_ug/croot/xgboost-split_1724073748391/work/src/learner.cc:740: \n",
      "Parameters: { \"use_label_encoder\" } are not used.\n",
      "\n",
      "  warnings.warn(smsg, UserWarning)\n",
      "/Users/olyssa/opt/anaconda3/envs/ml_for_genomics/lib/python3.9/site-packages/xgboost/core.py:158: UserWarning: [17:31:09] WARNING: /var/folders/c_/qfmhj66j0tn016nkx_th4hxm0000gp/T/abs_b6qk1lz_ug/croot/xgboost-split_1724073748391/work/src/learner.cc:740: \n",
      "Parameters: { \"use_label_encoder\" } are not used.\n",
      "\n",
      "  warnings.warn(smsg, UserWarning)\n"
     ]
    },
    {
     "name": "stdout",
     "output_type": "stream",
     "text": [
      "Best Parameters: {'eta': 0.05, 'max_depth': 4, 'n_estimators': 200}\n",
      "Best CV Accuracy: 0.9612307692307691\n"
     ]
    }
   ],
   "source": [
    "import xgboost as xgb\n",
    "from sklearn.model_selection import GridSearchCV\n",
    "from sklearn.metrics import accuracy_score\n",
    "\n",
    "# Prepare data\n",
    "X_train = np.array(training.iloc[:, 2:])  # All predictors\n",
    "y_train = np.array((training['subtype'] == 'CIMP').astype(int))  # Convert target to binary\n",
    "\n",
    "# Set up the XGBoost classifier\n",
    "xgb_model = xgb.XGBClassifier(\n",
    "    objective='binary:logistic',\n",
    "    eval_metric='logloss',\n",
    "    use_label_encoder=False,\n",
    "    colsample_bytree=1,\n",
    "    subsample=0.5,\n",
    "    gamma=0,\n",
    "    min_child_weight=1,\n",
    "    random_state=17\n",
    ")\n",
    "\n",
    "# Define the grid of hyperparameters to search\n",
    "param_grid = {\n",
    "    'n_estimators': [200],  # Corresponds to nrounds\n",
    "    'eta': [0.05, 0.1, 0.3],  # Learning rate\n",
    "    'max_depth': [4]  # Tree depth\n",
    "}\n",
    "\n",
    "# Set up 5-fold cross-validation\n",
    "grid_search = GridSearchCV(\n",
    "    estimator=xgb_model,\n",
    "    param_grid=param_grid,\n",
    "    scoring='accuracy',\n",
    "    cv=5,\n",
    "    verbose=1,\n",
    "    n_jobs=-1\n",
    ")\n",
    "\n",
    "# Perform the grid search\n",
    "grid_search.fit(X_train, y_train)\n",
    "\n",
    "# Best parameters found by cross-validation\n",
    "best_params = grid_search.best_params_\n",
    "print(f\"Best Parameters: {best_params}\")\n",
    "\n",
    "# Best model accuracy on cross-validation\n",
    "best_score = grid_search.best_score_\n",
    "print(f\"Best CV Accuracy: {best_score}\")"
   ],
   "metadata": {
    "collapsed": false,
    "ExecuteTime": {
     "end_time": "2024-11-22T16:31:10.038401Z",
     "start_time": "2024-11-22T16:31:09.055454Z"
    }
   },
   "id": "6a0f91f031466013"
  },
  {
   "cell_type": "markdown",
   "source": [
    "#### 3.12.2 Support Vector Machines\n",
    "* The algorithm works by identifying the optimal decision boundary that separates the data points into different groups (or classes), and then predicts the class of new observations based on this separation boundary. \n",
    "* Depending on the situation, the different groups might be separable by a linear straight line or by a non-linear boundary line or plane.\n",
    "* First, SVM can map the data to higher dimensions where the decision boundary can be linear. This is achieved by applying certain mathematical functions, called “kernel functions”, to the predictor variable space.\n",
    "* Second, SVM not only tries to find a decision boundary, but tries to find the boundary with the largest buffer zone on the sides of the boundary.\n",
    "* Another important feature of the algorithm is that SVM decides on the decision boundary by only relying on the “landmark” data points, formally known as “support vectors”. These are points that are closest to the decision boundary and harder to classify. By keeping track of such points only for decision boundary creation, the computational complexity of the algorithm is reduced."
   ],
   "metadata": {
    "collapsed": false
   },
   "id": "a0efe216e1ae971"
  },
  {
   "cell_type": "code",
   "execution_count": 41,
   "outputs": [
    {
     "name": "stdout",
     "output_type": "stream",
     "text": [
      "Fitting 5 folds for each of 3 candidates, totalling 15 fits\n",
      "Best Parameters: {'C': 0.25, 'gamma': 1}\n",
      "Best CV Accuracy: 0.492\n"
     ]
    }
   ],
   "source": [
    "from sklearn.svm import SVC\n",
    "from sklearn.model_selection import GridSearchCV\n",
    "from sklearn.metrics import accuracy_score\n",
    "\n",
    "# Prepare data\n",
    "X_train = np.array(training.iloc[:, 2:])  # All predictors\n",
    "y_train = np.array((training['subtype'] == 'CIMP').astype(int))  # Convert target to binary\n",
    "\n",
    "# Set up the SVM model\n",
    "svm_model = SVC(kernel='rbf', probability=True, random_state=17)\n",
    "\n",
    "# Define the grid of hyperparameters to search\n",
    "param_grid = {\n",
    "    'C': [0.25, 0.5, 1],   # Regularization parameter\n",
    "    'gamma': [1]           # Gamma corresponds to sigma in R (1 / (2*sigma^2))\n",
    "}\n",
    "\n",
    "# Set up 5-fold cross-validation\n",
    "grid_search = GridSearchCV(\n",
    "    estimator=svm_model,\n",
    "    param_grid=param_grid,\n",
    "    scoring='accuracy',\n",
    "    cv=5,\n",
    "    verbose=1,\n",
    "    n_jobs=-1\n",
    ")\n",
    "\n",
    "# Perform the grid search\n",
    "grid_search.fit(X_train, y_train)\n",
    "\n",
    "# Best parameters found by cross-validation\n",
    "best_params = grid_search.best_params_\n",
    "print(f\"Best Parameters: {best_params}\")\n",
    "\n",
    "# Best model accuracy on cross-validation\n",
    "best_score = grid_search.best_score_\n",
    "print(f\"Best CV Accuracy: {best_score}\")"
   ],
   "metadata": {
    "collapsed": false,
    "ExecuteTime": {
     "end_time": "2024-11-22T16:35:46.979690Z",
     "start_time": "2024-11-22T16:35:46.865938Z"
    }
   },
   "id": "665a15fa45c2aa4a"
  },
  {
   "cell_type": "markdown",
   "source": [
    "#### 3.12.3 Neural networks and deep versions of it"
   ],
   "metadata": {
    "collapsed": false
   },
   "id": "418bde3f30c78dfe"
  },
  {
   "cell_type": "code",
   "execution_count": 42,
   "outputs": [
    {
     "name": "stdout",
     "output_type": "stream",
     "text": [
      "Fitting 5 folds for each of 2 candidates, totalling 10 fits\n",
      "Best Parameters: {'alpha': 0, 'hidden_layer_sizes': (1,)}\n",
      "Best CV Accuracy: 0.8347692307692307\n"
     ]
    }
   ],
   "source": [
    "from sklearn.neural_network import MLPClassifier\n",
    "from sklearn.model_selection import GridSearchCV\n",
    "from sklearn.metrics import accuracy_score\n",
    "\n",
    "# Prepare data\n",
    "X_train = np.array(training.iloc[:, 2:])  # All predictors\n",
    "y_train = np.array((training['subtype'] == 'CIMP').astype(int))  # Convert target to binary\n",
    "\n",
    "# Set up the MLPClassifier (multi-layer perceptron)\n",
    "mlp_model = MLPClassifier(\n",
    "    max_iter=2000,  # Maximum number of iterations for training\n",
    "    random_state=17\n",
    ")\n",
    "\n",
    "# Define the grid of hyperparameters to search\n",
    "param_grid = {\n",
    "    'hidden_layer_sizes': [(1,), (2,)],  # Corresponds to size=1:2 in R\n",
    "    'alpha': [0]  # Corresponds to decay=0 in R (regularization parameter)\n",
    "}\n",
    "\n",
    "# Set up 5-fold cross-validation\n",
    "grid_search = GridSearchCV(\n",
    "    estimator=mlp_model,\n",
    "    param_grid=param_grid,\n",
    "    scoring='accuracy',\n",
    "    cv=5,\n",
    "    verbose=1,\n",
    "    n_jobs=-1\n",
    ")\n",
    "\n",
    "# Perform the grid search\n",
    "grid_search.fit(X_train, y_train)\n",
    "\n",
    "# Best parameters found by cross-validation\n",
    "best_params = grid_search.best_params_\n",
    "print(f\"Best Parameters: {best_params}\")\n",
    "\n",
    "# Best model accuracy on cross-validation\n",
    "best_score = grid_search.best_score_\n",
    "print(f\"Best CV Accuracy: {best_score}\")"
   ],
   "metadata": {
    "collapsed": false,
    "ExecuteTime": {
     "end_time": "2024-11-22T16:38:20.047525Z",
     "start_time": "2024-11-22T16:38:19.699874Z"
    }
   },
   "id": "dbdd986f2130031f"
  },
  {
   "cell_type": "markdown",
   "source": [
    "#### 3.12.4 Ensemble learning\n",
    "* Ensemble learning models are combinations of different machine learning models."
   ],
   "metadata": {
    "collapsed": false
   },
   "id": "a6991f436b3665f4"
  },
  {
   "cell_type": "code",
   "execution_count": 50,
   "outputs": [
    {
     "name": "stdout",
     "output_type": "stream",
     "text": [
      "Voting Accuracy: 0.9464285714285714\n",
      "Confusion Matrix:\n",
      "[[27  1]\n",
      " [ 2 26]]\n"
     ]
    },
    {
     "name": "stderr",
     "output_type": "stream",
     "text": [
      "/Users/olyssa/opt/anaconda3/envs/ml_for_genomics/lib/python3.9/site-packages/sklearn/linear_model/_coordinate_descent.py:628: ConvergenceWarning: Objective did not converge. You might want to increase the number of iterations, check the scale of the features or consider increasing regularisation. Duality gap: 4.149e-02, tolerance: 3.200e-03\n",
      "  model = cd_fast.enet_coordinate_descent(\n"
     ]
    }
   ],
   "source": [
    "from sklearn.metrics import confusion_matrix, accuracy_score\n",
    "from scipy.stats import mode\n",
    "from sklearn.neighbors import KNeighborsClassifier\n",
    "from sklearn.linear_model import ElasticNet\n",
    "from sklearn.ensemble import RandomForestClassifier\n",
    "\n",
    "# Define models\n",
    "knn = KNeighborsClassifier()\n",
    "enet = ElasticNet()\n",
    "rf = RandomForestClassifier()\n",
    "\n",
    "# Define training data\n",
    "X_train = np.array(training.iloc[:, 2:])  # All predictors\n",
    "y_train = np.array((training['subtype'] == 'CIMP').astype(int))  # Convert target to binary\n",
    "\n",
    "# Train models\n",
    "knn.fit(X_train, y_train)\n",
    "enet.fit(X_train, y_train)\n",
    "rf.fit(X_train, y_train)\n",
    "\n",
    "# Prepare data\n",
    "X_test = np.array(testing.iloc[:, 2:])  # All predictors\n",
    "y_test = np.array((testing['subtype'] == 'CIMP').astype(int))  # Convert target to binary\n",
    "\n",
    "# Predict with k-NN model\n",
    "knn_predictions = knn.predict(X_test)\n",
    "\n",
    "# Predict with Elastic Net model\n",
    "enet_predictions = enet.predict(X_test)\n",
    "\n",
    "# Predict with Random Forest model\n",
    "rf_predictions = rf.predict(X_test)\n",
    "\n",
    "# Combine predictions for voting\n",
    "predictions_combined = np.vstack([knn_predictions, enet_predictions, rf_predictions]).T\n",
    "\n",
    "# Perform majority voting\n",
    "voting_predictions = mode(predictions_combined, axis=1).mode.flatten().astype(int)\n",
    "\n",
    "# Calculate accuracy\n",
    "accuracy = accuracy_score(y_test, voting_predictions)\n",
    "\n",
    "# Display results\n",
    "print(f\"Voting Accuracy: {accuracy}\")\n",
    "conf_matrix = confusion_matrix(y_test, voting_predictions)\n",
    "print(f\"Confusion Matrix:\\n{conf_matrix}\")"
   ],
   "metadata": {
    "collapsed": false,
    "ExecuteTime": {
     "end_time": "2024-11-22T16:48:06.009151Z",
     "start_time": "2024-11-22T16:48:05.799898Z"
    }
   },
   "id": "aa67c10db74fcdff"
  },
  {
   "cell_type": "markdown",
   "source": [
    "### 3.13 Predicting continuous variables: Regression with machine learning\n",
    "* Optimize the prediction error which is usually in the form of the sum of squared errors (SSE):\n",
    "$$SSE = \\sum(Y-f(X))^2$$"
   ],
   "metadata": {
    "collapsed": false
   },
   "id": "c6ad53d6d843b9ac"
  },
  {
   "cell_type": "code",
   "execution_count": 50,
   "outputs": [],
   "source": [],
   "metadata": {
    "collapsed": false,
    "ExecuteTime": {
     "end_time": "2024-11-22T16:48:10.884834Z",
     "start_time": "2024-11-22T16:48:10.859309Z"
    }
   },
   "id": "3b8c22ccd0fc9698"
  },
  {
   "cell_type": "code",
   "execution_count": null,
   "outputs": [],
   "source": [],
   "metadata": {
    "collapsed": false,
    "ExecuteTime": {
     "start_time": "2024-11-22T16:28:22.242556Z"
    }
   },
   "id": "be8c2c6f771fa25b"
  },
  {
   "cell_type": "code",
   "execution_count": null,
   "outputs": [],
   "source": [],
   "metadata": {
    "collapsed": false,
    "ExecuteTime": {
     "start_time": "2024-11-22T16:28:22.245163Z"
    }
   },
   "id": "3ed940a7fc7551b"
  },
  {
   "cell_type": "markdown",
   "source": [
    "### 3.14 Exercises"
   ],
   "metadata": {
    "collapsed": false
   },
   "id": "e99452949d4c46b1"
  },
  {
   "cell_type": "code",
   "execution_count": null,
   "outputs": [],
   "source": [],
   "metadata": {
    "collapsed": false,
    "ExecuteTime": {
     "start_time": "2024-11-22T16:28:22.247085Z"
    }
   },
   "id": "ca0192bef58af2f4"
  },
  {
   "cell_type": "code",
   "execution_count": null,
   "outputs": [],
   "source": [],
   "metadata": {
    "collapsed": false,
    "ExecuteTime": {
     "start_time": "2024-11-22T16:28:22.250426Z"
    }
   },
   "id": "47a8f8fd4aeeb9e5"
  },
  {
   "cell_type": "code",
   "execution_count": null,
   "outputs": [],
   "source": [],
   "metadata": {
    "collapsed": false,
    "ExecuteTime": {
     "start_time": "2024-11-22T16:28:22.257496Z"
    }
   },
   "id": "6e8c4b9a630f545e"
  },
  {
   "cell_type": "code",
   "execution_count": null,
   "outputs": [],
   "source": [],
   "metadata": {
    "collapsed": false,
    "ExecuteTime": {
     "start_time": "2024-11-22T16:28:22.259383Z"
    }
   },
   "id": "2a04ec00ed540f69"
  },
  {
   "cell_type": "code",
   "execution_count": null,
   "outputs": [],
   "source": [],
   "metadata": {
    "collapsed": false,
    "ExecuteTime": {
     "start_time": "2024-11-22T16:28:22.260597Z"
    }
   },
   "id": "431cd54c1ae604b8"
  },
  {
   "cell_type": "code",
   "execution_count": null,
   "outputs": [],
   "source": [],
   "metadata": {
    "collapsed": false,
    "ExecuteTime": {
     "start_time": "2024-11-22T16:28:22.262674Z"
    }
   },
   "id": "187fd8587617f539"
  }
 ],
 "metadata": {
  "kernelspec": {
   "display_name": "Python 3",
   "language": "python",
   "name": "python3"
  },
  "language_info": {
   "codemirror_mode": {
    "name": "ipython",
    "version": 2
   },
   "file_extension": ".py",
   "mimetype": "text/x-python",
   "name": "python",
   "nbconvert_exporter": "python",
   "pygments_lexer": "ipython2",
   "version": "2.7.6"
  }
 },
 "nbformat": 4,
 "nbformat_minor": 5
}
