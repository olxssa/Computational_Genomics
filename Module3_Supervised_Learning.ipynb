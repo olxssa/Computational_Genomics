{
 "cells": [
  {
   "cell_type": "markdown",
   "source": [
    "# Module 3: Supervised Learning\n",
    "[Computational Genomics Chapter 5](http://compgenomr.github.io/book/supervisedLearning.html)"
   ],
   "metadata": {
    "collapsed": false
   },
   "id": "91ce6f9e4059b95"
  },
  {
   "cell_type": "code",
   "execution_count": 1,
   "outputs": [],
   "source": [
    "import matplotlib.pyplot as plt\n",
    "import numpy as np\n",
    "import pandas as pd\n",
    "import rdata\n",
    "import seaborn as sns"
   ],
   "metadata": {
    "collapsed": false,
    "ExecuteTime": {
     "end_time": "2024-11-22T09:03:43.349873Z",
     "start_time": "2024-11-22T09:03:43.252339Z"
    }
   },
   "id": "7873234f18caba52"
  },
  {
   "cell_type": "markdown",
   "source": [
    "### 3.1 How are machine learning models fitted?\n",
    "* Clustering and dimension reduction techniques can use optimization methods, but they do so without having a correct answer to predict or train with. In this case, they find patterns or structure in the data without trying to estimate a correct answer.\n",
    "* Machine learning models are optimization methods at their core. They all depend on defining a “cost” or “loss” function to minimize. For example, in linear regression the difference between the predicted and the original values are being minimized. When we have a data set with the correct answer such as original values or class labels, this is called supervised learning\n",
    "\n",
    "Basic algorithm:\n",
    "1. Define a prediction function or method $f(X)$.\n",
    "2. Devise a function (called the loss or cost function) to optimize the difference between your predictions and observed values, such as $\\sum (Y-f(X))^2$.\n",
    "3. Apply mathematical optimization methods to find the best parameter values for $f(X)$ in relation to the cost/loss function.\n",
    "\n",
    "Steps in supervised machine learning:\n",
    "1. Pre-processing data: normalization & data transformation procedures\n",
    "2. Training and test data split\n",
    "3. Training the model: “Training\" generally means your data set is used in optimization of the loss function to find parameters for $f(X)$\n",
    "4. Estimating performance of the model: Deciding which metrics to use to evaluate performance and how to calculate those metrics.\n",
    "5. Model tuning and selection: Try different parameters and select the best model."
   ],
   "metadata": {
    "collapsed": false
   },
   "id": "803b37b429b64839"
  },
  {
   "cell_type": "markdown",
   "source": [
    "### 3.2 Data preprocessing"
   ],
   "metadata": {
    "collapsed": false
   },
   "id": "7f2209f97f6139f7"
  },
  {
   "cell_type": "code",
   "execution_count": 2,
   "outputs": [
    {
     "data": {
      "text/plain": "       TCGA-CS-4941  TCGA-CS-4944  TCGA-CS-5393  TCGA-CS-5394  TCGA-CS-5395  \\\nA1BG        72.2326       24.7132       46.3789       37.9659       19.5162   \nA1CF         0.0000        0.0000        0.0000        0.0000        0.0000   \nA2BP1      524.4997      105.4092      323.5828       19.7390      299.5375   \nA2LD1      144.0856       18.0154       29.0942        7.5945      202.1231   \nA2ML1      521.3941      159.3746      164.6157       63.5664      953.4106   \n\n       TCGA-CS-5396  TCGA-CS-5397  TCGA-CS-6186  TCGA-CS-6188  TCGA-CS-6669  \\\nA1BG        90.6419      157.9335      221.6867      174.8391       58.8621   \nA1CF         0.0000        0.0000        0.0000        0.0000        0.4552   \nA2BP1       11.0438     1646.5054       18.8235       69.8011     4608.5571   \nA2LD1       17.5750       54.2608       76.0817       71.9060       33.6413   \nA2ML1       15.0318      526.5457     2173.6223       65.0995       55.5303   \n\n       ...  TCGA-TM-A84S  TCGA-TQ-A7RI  TCGA-TQ-A7RP  TCGA-TQ-A7RR  \\\nA1BG   ...      104.7671       57.8723      114.1298      140.9732   \nA1CF   ...        0.0000        0.4172        0.0000        0.0000   \nA2BP1  ...       81.6049      174.3846      284.1710      510.7475   \nA2LD1  ...       30.4386       26.4622      169.0268       40.7486   \nA2ML1  ...      301.0314      188.9862      709.3289      467.5436   \n\n       TCGA-TQ-A8XE  TCGA-VM-A8C9  TCGA-VM-A8CD  TCGA-VM-A8CF  TCGA-VW-A8FI  \\\nA1BG       114.4107      294.1675       37.9831      525.5287      149.7735   \nA1CF         0.3660        0.0000        0.0000        0.0000        0.0000   \nA2BP1       33.3089      125.4378      119.6291       21.9033       25.0298   \nA2LD1       26.8082       49.2200       56.2291       33.2477       91.8296   \nA2ML1       65.8858       16.5552      658.1315      172.2054       70.9178   \n\n       TCGA-WY-A859  \nA1BG        67.6466  \nA1CF         0.0000  \nA2BP1     2435.7939  \nA2LD1       21.7057  \nA2ML1      227.7500  \n\n[5 rows x 184 columns]",
      "text/html": "<div>\n<style scoped>\n    .dataframe tbody tr th:only-of-type {\n        vertical-align: middle;\n    }\n\n    .dataframe tbody tr th {\n        vertical-align: top;\n    }\n\n    .dataframe thead th {\n        text-align: right;\n    }\n</style>\n<table border=\"1\" class=\"dataframe\">\n  <thead>\n    <tr style=\"text-align: right;\">\n      <th></th>\n      <th>TCGA-CS-4941</th>\n      <th>TCGA-CS-4944</th>\n      <th>TCGA-CS-5393</th>\n      <th>TCGA-CS-5394</th>\n      <th>TCGA-CS-5395</th>\n      <th>TCGA-CS-5396</th>\n      <th>TCGA-CS-5397</th>\n      <th>TCGA-CS-6186</th>\n      <th>TCGA-CS-6188</th>\n      <th>TCGA-CS-6669</th>\n      <th>...</th>\n      <th>TCGA-TM-A84S</th>\n      <th>TCGA-TQ-A7RI</th>\n      <th>TCGA-TQ-A7RP</th>\n      <th>TCGA-TQ-A7RR</th>\n      <th>TCGA-TQ-A8XE</th>\n      <th>TCGA-VM-A8C9</th>\n      <th>TCGA-VM-A8CD</th>\n      <th>TCGA-VM-A8CF</th>\n      <th>TCGA-VW-A8FI</th>\n      <th>TCGA-WY-A859</th>\n    </tr>\n  </thead>\n  <tbody>\n    <tr>\n      <th>A1BG</th>\n      <td>72.2326</td>\n      <td>24.7132</td>\n      <td>46.3789</td>\n      <td>37.9659</td>\n      <td>19.5162</td>\n      <td>90.6419</td>\n      <td>157.9335</td>\n      <td>221.6867</td>\n      <td>174.8391</td>\n      <td>58.8621</td>\n      <td>...</td>\n      <td>104.7671</td>\n      <td>57.8723</td>\n      <td>114.1298</td>\n      <td>140.9732</td>\n      <td>114.4107</td>\n      <td>294.1675</td>\n      <td>37.9831</td>\n      <td>525.5287</td>\n      <td>149.7735</td>\n      <td>67.6466</td>\n    </tr>\n    <tr>\n      <th>A1CF</th>\n      <td>0.0000</td>\n      <td>0.0000</td>\n      <td>0.0000</td>\n      <td>0.0000</td>\n      <td>0.0000</td>\n      <td>0.0000</td>\n      <td>0.0000</td>\n      <td>0.0000</td>\n      <td>0.0000</td>\n      <td>0.4552</td>\n      <td>...</td>\n      <td>0.0000</td>\n      <td>0.4172</td>\n      <td>0.0000</td>\n      <td>0.0000</td>\n      <td>0.3660</td>\n      <td>0.0000</td>\n      <td>0.0000</td>\n      <td>0.0000</td>\n      <td>0.0000</td>\n      <td>0.0000</td>\n    </tr>\n    <tr>\n      <th>A2BP1</th>\n      <td>524.4997</td>\n      <td>105.4092</td>\n      <td>323.5828</td>\n      <td>19.7390</td>\n      <td>299.5375</td>\n      <td>11.0438</td>\n      <td>1646.5054</td>\n      <td>18.8235</td>\n      <td>69.8011</td>\n      <td>4608.5571</td>\n      <td>...</td>\n      <td>81.6049</td>\n      <td>174.3846</td>\n      <td>284.1710</td>\n      <td>510.7475</td>\n      <td>33.3089</td>\n      <td>125.4378</td>\n      <td>119.6291</td>\n      <td>21.9033</td>\n      <td>25.0298</td>\n      <td>2435.7939</td>\n    </tr>\n    <tr>\n      <th>A2LD1</th>\n      <td>144.0856</td>\n      <td>18.0154</td>\n      <td>29.0942</td>\n      <td>7.5945</td>\n      <td>202.1231</td>\n      <td>17.5750</td>\n      <td>54.2608</td>\n      <td>76.0817</td>\n      <td>71.9060</td>\n      <td>33.6413</td>\n      <td>...</td>\n      <td>30.4386</td>\n      <td>26.4622</td>\n      <td>169.0268</td>\n      <td>40.7486</td>\n      <td>26.8082</td>\n      <td>49.2200</td>\n      <td>56.2291</td>\n      <td>33.2477</td>\n      <td>91.8296</td>\n      <td>21.7057</td>\n    </tr>\n    <tr>\n      <th>A2ML1</th>\n      <td>521.3941</td>\n      <td>159.3746</td>\n      <td>164.6157</td>\n      <td>63.5664</td>\n      <td>953.4106</td>\n      <td>15.0318</td>\n      <td>526.5457</td>\n      <td>2173.6223</td>\n      <td>65.0995</td>\n      <td>55.5303</td>\n      <td>...</td>\n      <td>301.0314</td>\n      <td>188.9862</td>\n      <td>709.3289</td>\n      <td>467.5436</td>\n      <td>65.8858</td>\n      <td>16.5552</td>\n      <td>658.1315</td>\n      <td>172.2054</td>\n      <td>70.9178</td>\n      <td>227.7500</td>\n    </tr>\n  </tbody>\n</table>\n<p>5 rows × 184 columns</p>\n</div>"
     },
     "execution_count": 2,
     "metadata": {},
     "output_type": "execute_result"
    }
   ],
   "source": [
    "# Load the cancer rna subset dataset with CpG island methylator phenotype (CIMP)\n",
    "r_data = rdata.parser.parse_file(\"/Users/olyssa/Downloads/compGenomRData-1-2.0/inst/extdata/LGGrnaseq.rds\")\n",
    "as_dict = rdata.conversion.convert(r_data)\n",
    "gexp = pd.DataFrame(as_dict)\n",
    "gexp = gexp.set_axis(list(as_dict.dim_1.to_numpy()), axis=1)\n",
    "gexp = gexp.set_axis(list(as_dict.dim_0.to_numpy()), axis=0)\n",
    "gexp.head()"
   ],
   "metadata": {
    "collapsed": false,
    "ExecuteTime": {
     "end_time": "2024-11-22T09:03:43.911228Z",
     "start_time": "2024-11-22T09:03:43.351131Z"
    }
   },
   "id": "5d4f825796082432"
  },
  {
   "cell_type": "code",
   "execution_count": 3,
   "outputs": [
    {
     "data": {
      "text/plain": "             subtype\nTCGA-FG-8185    CIMP\nTCGA-DB-5276    CIMP\nTCGA-P5-A77X    CIMP\nTCGA-IK-8125    CIMP\nTCGA-DU-A5TR    CIMP",
      "text/html": "<div>\n<style scoped>\n    .dataframe tbody tr th:only-of-type {\n        vertical-align: middle;\n    }\n\n    .dataframe tbody tr th {\n        vertical-align: top;\n    }\n\n    .dataframe thead th {\n        text-align: right;\n    }\n</style>\n<table border=\"1\" class=\"dataframe\">\n  <thead>\n    <tr style=\"text-align: right;\">\n      <th></th>\n      <th>subtype</th>\n    </tr>\n  </thead>\n  <tbody>\n    <tr>\n      <th>TCGA-FG-8185</th>\n      <td>CIMP</td>\n    </tr>\n    <tr>\n      <th>TCGA-DB-5276</th>\n      <td>CIMP</td>\n    </tr>\n    <tr>\n      <th>TCGA-P5-A77X</th>\n      <td>CIMP</td>\n    </tr>\n    <tr>\n      <th>TCGA-IK-8125</th>\n      <td>CIMP</td>\n    </tr>\n    <tr>\n      <th>TCGA-DU-A5TR</th>\n      <td>CIMP</td>\n    </tr>\n  </tbody>\n</table>\n</div>"
     },
     "execution_count": 3,
     "metadata": {},
     "output_type": "execute_result"
    }
   ],
   "source": [
    "r_data = rdata.parser.parse_file(\"/Users/olyssa/Downloads/compGenomRData-1-2.0/inst/extdata/patient2LGGsubtypes.rds\")\n",
    "as_dict = rdata.conversion.convert(r_data)\n",
    "patient = pd.DataFrame(as_dict)\n",
    "patient.head()"
   ],
   "metadata": {
    "collapsed": false,
    "ExecuteTime": {
     "end_time": "2024-11-22T09:03:43.920590Z",
     "start_time": "2024-11-22T09:03:43.907588Z"
    }
   },
   "id": "7b7ec783741715e4"
  },
  {
   "cell_type": "markdown",
   "source": [
    "#### 3.2.1 Data normalization and transformation"
   ],
   "metadata": {
    "collapsed": false
   },
   "id": "b20fc7cf0fca612a"
  },
  {
   "cell_type": "code",
   "execution_count": 4,
   "outputs": [
    {
     "data": {
      "text/plain": "<Figure size 640x480 with 1 Axes>",
      "image/png": "[encoded data removed]"
     },
     "metadata": {},
     "output_type": "display_data"
    }
   ],
   "source": [
    "# Boxplots for the first 30 gene expression values\n",
    "\n",
    "plt.boxplot(gexp.iloc[:, :30], patch_artist=True, showfliers=False, boxprops=dict(facecolor=\"cornflowerblue\"))\n",
    "plt.show()"
   ],
   "metadata": {
    "collapsed": false,
    "ExecuteTime": {
     "end_time": "2024-11-22T09:03:44.537165Z",
     "start_time": "2024-11-22T09:03:43.921316Z"
    }
   },
   "id": "a2e7c85f938d7684"
  },
  {
   "cell_type": "code",
   "execution_count": 5,
   "outputs": [
    {
     "data": {
      "text/plain": "<Figure size 1200x500 with 2 Axes>",
      "image/png": "[encoded data removed]"
     },
     "metadata": {},
     "output_type": "display_data"
    }
   ],
   "source": [
    "#  Gene expression distribution for the 5th patient (left) & Log transformed gene expression distribution for the same patient (right)\n",
    "\n",
    "gene_expression = gexp.iloc[:, 4]  \n",
    "log_gene_expression = np.log10(gexp + 1).iloc[:, 4] # taking log10 and adding pseudo-count\n",
    "\n",
    "\n",
    "plt.figure(figsize=(12, 5)) \n",
    "\n",
    "# First histogram: Raw gene expression\n",
    "plt.subplot(1, 2, 1)\n",
    "plt.hist(gene_expression, bins=30, color=\"cornflowerblue\")\n",
    "plt.xlabel(\"Gene expression\")\n",
    "plt.title(\"\")\n",
    "\n",
    "# Second histogram: Log-transformed gene expression\n",
    "plt.subplot(1, 2, 2)\n",
    "plt.hist(log_gene_expression, bins=30, color=\"cornflowerblue\")\n",
    "plt.xlabel(\"Gene expression (log scale)\")\n",
    "plt.title(\"\")\n",
    "\n",
    "plt.tight_layout()\n",
    "plt.show()"
   ],
   "metadata": {
    "collapsed": false,
    "ExecuteTime": {
     "end_time": "2024-11-22T09:03:44.772577Z",
     "start_time": "2024-11-22T09:03:44.540761Z"
    }
   },
   "id": "d31c4f141d7b4b5f"
  },
  {
   "cell_type": "code",
   "execution_count": 6,
   "outputs": [],
   "source": [
    "# Transpose data\n",
    "gexp_t = gexp.T"
   ],
   "metadata": {
    "collapsed": false,
    "ExecuteTime": {
     "end_time": "2024-11-22T09:03:44.779166Z",
     "start_time": "2024-11-22T09:03:44.772861Z"
    }
   },
   "id": "dc2ead1752ee7708"
  },
  {
   "cell_type": "markdown",
   "source": [
    "#### 3.2.2 Data filtering and scaling"
   ],
   "metadata": {
    "collapsed": false
   },
   "id": "3447075f4a58d7c3"
  },
  {
   "cell_type": "code",
   "execution_count": 7,
   "outputs": [],
   "source": [
    "# Filter out near-zero features\n",
    "\n",
    "from sklearn.feature_selection import VarianceThreshold\n",
    "\n",
    "# Define a threshold for near-zero variance (85% of values the same)\n",
    "threshold = 0.85 * (1 - 0.85)  # Variance of a binary variable with 85% identical values\n",
    "\n",
    "# Initialize the VarianceThreshold filter\n",
    "nzv_filter = VarianceThreshold(threshold=threshold)\n",
    "\n",
    "# Apply the filter to the dataset\n",
    "gexp_t_nzv = nzv_filter.fit_transform(gexp_t)\n",
    "\n",
    "# Convert back to a pandas DataFrame\n",
    "gexp_t_nzv = pd.DataFrame(gexp_t_nzv, columns=gexp_t.columns[nzv_filter.get_support()])"
   ],
   "metadata": {
    "collapsed": false,
    "ExecuteTime": {
     "end_time": "2024-11-22T09:03:50.813618Z",
     "start_time": "2024-11-22T09:03:44.776828Z"
    }
   },
   "id": "cc0b7ad89651f3bb"
  },
  {
   "cell_type": "code",
   "execution_count": 8,
   "outputs": [],
   "source": [
    "# Selecting top 1,000 features with highest standard deviations\n",
    "\n",
    "# Calculate the standard deviation of each column\n",
    "SDs = gexp_t.std(axis=0) \n",
    "\n",
    "# Get the indices of the top 1,000 columns with the highest standard deviation\n",
    "topPreds = SDs.nlargest(1000).index\n",
    "\n",
    "# Subset the gexp_t DataFrame to include only the top 1,000 columns\n",
    "gexp_t = gexp_t[topPreds]"
   ],
   "metadata": {
    "collapsed": false,
    "ExecuteTime": {
     "end_time": "2024-11-22T09:03:50.834740Z",
     "start_time": "2024-11-22T09:03:50.817229Z"
    }
   },
   "id": "827d82decfca78ba"
  },
  {
   "cell_type": "code",
   "execution_count": 9,
   "outputs": [],
   "source": [
    "# Standardize data\n",
    "\n",
    "from sklearn.preprocessing import StandardScaler\n",
    "\n",
    "# Initialize the scaler with centering only (no scaling to unit variance)\n",
    "scaler = StandardScaler(with_mean=True, with_std=False)\n",
    "\n",
    "# Fit the scaler to the data and transform it\n",
    "gexp_t_st = scaler.fit_transform(gexp_t)\n",
    "\n",
    "# Convert back to a pandas DataFrame\n",
    "gexp_t = pd.DataFrame(gexp_t_st, columns=gexp_t.columns)"
   ],
   "metadata": {
    "collapsed": false,
    "ExecuteTime": {
     "end_time": "2024-11-22T09:03:50.848349Z",
     "start_time": "2024-11-22T09:03:50.840667Z"
    }
   },
   "id": "9208b80c02a219c6"
  },
  {
   "cell_type": "code",
   "execution_count": 10,
   "outputs": [],
   "source": [
    "# Filter out highly correlated features\n",
    "\n",
    "# Calculate the correlation matrix\n",
    "correlation_matrix = gexp_t.corr().abs()\n",
    "\n",
    "# Identify columns to drop based on the cutoff (0.9 in this case)\n",
    "upper_triangle = correlation_matrix.where(np.triu(np.ones(correlation_matrix.shape), k=1).astype(bool))\n",
    "to_drop = [column for column in upper_triangle.columns if any(upper_triangle[column] > 0.9)]\n",
    "\n",
    "# Remove the highly correlated columns\n",
    "gexp_t = gexp_t.drop(columns=to_drop)"
   ],
   "metadata": {
    "collapsed": false,
    "ExecuteTime": {
     "end_time": "2024-11-22T09:03:51.221647Z",
     "start_time": "2024-11-22T09:03:50.848016Z"
    }
   },
   "id": "6ca2ea38481587ce"
  },
  {
   "cell_type": "markdown",
   "source": [
    "#### 3.2.3 Dealing with missing values"
   ],
   "metadata": {
    "collapsed": false
   },
   "id": "d8478fb6cc15ba40"
  },
  {
   "cell_type": "code",
   "execution_count": 11,
   "outputs": [
    {
     "name": "stdout",
     "output_type": "stream",
     "text": [
      "True\n"
     ]
    }
   ],
   "source": [
    "# Check if there are NA values\n",
    "\n",
    "# Create a copy of tgexp\n",
    "missing_tgexp = gexp_t.copy()\n",
    "\n",
    "# Introduce a missing value (NA equivalent in R)\n",
    "missing_tgexp.iloc[0, 0] = np.nan  # Set the first row, first column to NaN\n",
    "\n",
    "# Check if there are any missing values\n",
    "any_missing = missing_tgexp.isnull().values.any()\n",
    "print(any_missing) "
   ],
   "metadata": {
    "collapsed": false,
    "ExecuteTime": {
     "end_time": "2024-11-22T09:03:51.227552Z",
     "start_time": "2024-11-22T09:03:51.223065Z"
    }
   },
   "id": "6bf3f5985c45b23c"
  },
  {
   "cell_type": "code",
   "execution_count": 12,
   "outputs": [],
   "source": [
    "# Remove columns that contain any missing values\n",
    "\n",
    "gexpnoNA = missing_tgexp.loc[:, missing_tgexp.isnull().sum(axis=0) == 0]"
   ],
   "metadata": {
    "collapsed": false,
    "ExecuteTime": {
     "end_time": "2024-11-22T09:03:51.229696Z",
     "start_time": "2024-11-22T09:03:51.226827Z"
    }
   },
   "id": "5cb253e524c25779"
  },
  {
   "cell_type": "code",
   "execution_count": 13,
   "outputs": [],
   "source": [
    "# Impute missing values\n",
    "\n",
    "from sklearn.impute import SimpleImputer\n",
    "\n",
    "# Create the imputer that replaces missing values with the median\n",
    "imputer = SimpleImputer(strategy='median')\n",
    "\n",
    "# Fit the imputer and transform the data\n",
    "imputedGexp = pd.DataFrame(imputer.fit_transform(missing_tgexp), columns=missing_tgexp.columns)"
   ],
   "metadata": {
    "collapsed": false,
    "ExecuteTime": {
     "end_time": "2024-11-22T09:03:51.262722Z",
     "start_time": "2024-11-22T09:03:51.230947Z"
    }
   },
   "id": "5caaee2ad176bdff"
  },
  {
   "cell_type": "code",
   "execution_count": 14,
   "outputs": [],
   "source": [
    "from sklearn.impute import KNNImputer\n",
    "\n",
    "# Create the KNN imputer with a specified number of neighbors (e.g., 5)\n",
    "knn_imputer = KNNImputer(n_neighbors=5)\n",
    "\n",
    "# Fit the KNN imputer and transform the data\n",
    "knnimputedGexp = pd.DataFrame(knn_imputer.fit_transform(missing_tgexp), columns=missing_tgexp.columns)"
   ],
   "metadata": {
    "collapsed": false,
    "ExecuteTime": {
     "end_time": "2024-11-22T09:03:51.270633Z",
     "start_time": "2024-11-22T09:03:51.252966Z"
    }
   },
   "id": "18bab0c1557029d0"
  },
  {
   "cell_type": "markdown",
   "source": [
    "### 3.3 Splitting the data"
   ],
   "metadata": {
    "collapsed": false
   },
   "id": "48835c48736d2e33"
  },
  {
   "cell_type": "markdown",
   "source": [
    "#### 3.3.1 Holdout test dataset\n",
    "\n",
    "* Gold standard: 30 % of the data as test"
   ],
   "metadata": {
    "collapsed": false
   },
   "id": "3c9934f662259ae1"
  },
  {
   "cell_type": "code",
   "execution_count": 15,
   "outputs": [
    {
     "data": {
      "text/plain": "  subtype            ID          GFAP            CLU           TTR  \\\n0    CIMP  TCGA-FG-8185 -370142.91494 -135127.268781 -13788.740185   \n1    CIMP  TCGA-DB-5276   78095.84586  -43534.461981 -13783.724185   \n2    CIMP  TCGA-P5-A77X -211127.20414  -45035.421381 -13789.641885   \n3    CIMP  TCGA-IK-8125 -178882.67394  -75892.719381 -13789.641885   \n4    CIMP  TCGA-DU-A5TR  112840.34346   46411.906419 -13770.794885   \n\n           SPARC            MBP           PLP1        CHI3L1           BCAN  \\\n0  -22574.170261  -57697.782656  -35291.313577 -18104.372229  105518.611502   \n1  -35726.542261  110587.687744  118343.211423 -17805.603329   -7427.906898   \n2  119925.391839  -25407.598256  -16695.529577 -18057.465329  -19912.825098   \n3   15390.942339  -50963.870056  -23662.847177 -17846.484629    4040.711602   \n4  -75080.222861  -20666.388356  -12088.355377 -15854.101729    3054.090002   \n\n   ...      KIF21B        SGK1        STAB1         CD68        MMP14  \\\n0  ... -262.462664  3633.22604  -482.980513 -1687.121261  -496.074264   \n1  ... -781.687764   598.79224  -562.448513   308.965439 -1337.419064   \n2  ...  454.854436 -2383.42066 -1155.473413 -1900.432161 -1696.269564   \n3  ...  759.063336 -1253.62086  -688.490513 -1473.658461 -1569.421764   \n4  ... -477.734364 -1613.72576  3474.958987  1770.509039  -206.968764   \n\n        FAM84B       CSNK1E       PPP1CB         TRIO       IQSEC1  \n0  1667.673082  4183.386124  3980.495801 -1292.878354 -2188.459333  \n1  -884.621018  -876.304276   977.009901 -1614.341954  -250.736633  \n2 -1067.854718  1523.493324  -214.219099  -814.567154  -238.921633  \n3  -105.317518   727.676124 -1095.651099   216.845846   419.122767  \n4 -1600.370318   485.332924   340.426601 -1294.462454 -1874.864233  \n\n[5 rows x 793 columns]",
      "text/html": "<div>\n<style scoped>\n    .dataframe tbody tr th:only-of-type {\n        vertical-align: middle;\n    }\n\n    .dataframe tbody tr th {\n        vertical-align: top;\n    }\n\n    .dataframe thead th {\n        text-align: right;\n    }\n</style>\n<table border=\"1\" class=\"dataframe\">\n  <thead>\n    <tr style=\"text-align: right;\">\n      <th></th>\n      <th>subtype</th>\n      <th>ID</th>\n      <th>GFAP</th>\n      <th>CLU</th>\n      <th>TTR</th>\n      <th>SPARC</th>\n      <th>MBP</th>\n      <th>PLP1</th>\n      <th>CHI3L1</th>\n      <th>BCAN</th>\n      <th>...</th>\n      <th>KIF21B</th>\n      <th>SGK1</th>\n      <th>STAB1</th>\n      <th>CD68</th>\n      <th>MMP14</th>\n      <th>FAM84B</th>\n      <th>CSNK1E</th>\n      <th>PPP1CB</th>\n      <th>TRIO</th>\n      <th>IQSEC1</th>\n    </tr>\n  </thead>\n  <tbody>\n    <tr>\n      <th>0</th>\n      <td>CIMP</td>\n      <td>TCGA-FG-8185</td>\n      <td>-370142.91494</td>\n      <td>-135127.268781</td>\n      <td>-13788.740185</td>\n      <td>-22574.170261</td>\n      <td>-57697.782656</td>\n      <td>-35291.313577</td>\n      <td>-18104.372229</td>\n      <td>105518.611502</td>\n      <td>...</td>\n      <td>-262.462664</td>\n      <td>3633.22604</td>\n      <td>-482.980513</td>\n      <td>-1687.121261</td>\n      <td>-496.074264</td>\n      <td>1667.673082</td>\n      <td>4183.386124</td>\n      <td>3980.495801</td>\n      <td>-1292.878354</td>\n      <td>-2188.459333</td>\n    </tr>\n    <tr>\n      <th>1</th>\n      <td>CIMP</td>\n      <td>TCGA-DB-5276</td>\n      <td>78095.84586</td>\n      <td>-43534.461981</td>\n      <td>-13783.724185</td>\n      <td>-35726.542261</td>\n      <td>110587.687744</td>\n      <td>118343.211423</td>\n      <td>-17805.603329</td>\n      <td>-7427.906898</td>\n      <td>...</td>\n      <td>-781.687764</td>\n      <td>598.79224</td>\n      <td>-562.448513</td>\n      <td>308.965439</td>\n      <td>-1337.419064</td>\n      <td>-884.621018</td>\n      <td>-876.304276</td>\n      <td>977.009901</td>\n      <td>-1614.341954</td>\n      <td>-250.736633</td>\n    </tr>\n    <tr>\n      <th>2</th>\n      <td>CIMP</td>\n      <td>TCGA-P5-A77X</td>\n      <td>-211127.20414</td>\n      <td>-45035.421381</td>\n      <td>-13789.641885</td>\n      <td>119925.391839</td>\n      <td>-25407.598256</td>\n      <td>-16695.529577</td>\n      <td>-18057.465329</td>\n      <td>-19912.825098</td>\n      <td>...</td>\n      <td>454.854436</td>\n      <td>-2383.42066</td>\n      <td>-1155.473413</td>\n      <td>-1900.432161</td>\n      <td>-1696.269564</td>\n      <td>-1067.854718</td>\n      <td>1523.493324</td>\n      <td>-214.219099</td>\n      <td>-814.567154</td>\n      <td>-238.921633</td>\n    </tr>\n    <tr>\n      <th>3</th>\n      <td>CIMP</td>\n      <td>TCGA-IK-8125</td>\n      <td>-178882.67394</td>\n      <td>-75892.719381</td>\n      <td>-13789.641885</td>\n      <td>15390.942339</td>\n      <td>-50963.870056</td>\n      <td>-23662.847177</td>\n      <td>-17846.484629</td>\n      <td>4040.711602</td>\n      <td>...</td>\n      <td>759.063336</td>\n      <td>-1253.62086</td>\n      <td>-688.490513</td>\n      <td>-1473.658461</td>\n      <td>-1569.421764</td>\n      <td>-105.317518</td>\n      <td>727.676124</td>\n      <td>-1095.651099</td>\n      <td>216.845846</td>\n      <td>419.122767</td>\n    </tr>\n    <tr>\n      <th>4</th>\n      <td>CIMP</td>\n      <td>TCGA-DU-A5TR</td>\n      <td>112840.34346</td>\n      <td>46411.906419</td>\n      <td>-13770.794885</td>\n      <td>-75080.222861</td>\n      <td>-20666.388356</td>\n      <td>-12088.355377</td>\n      <td>-15854.101729</td>\n      <td>3054.090002</td>\n      <td>...</td>\n      <td>-477.734364</td>\n      <td>-1613.72576</td>\n      <td>3474.958987</td>\n      <td>1770.509039</td>\n      <td>-206.968764</td>\n      <td>-1600.370318</td>\n      <td>485.332924</td>\n      <td>340.426601</td>\n      <td>-1294.462454</td>\n      <td>-1874.864233</td>\n    </tr>\n  </tbody>\n</table>\n<p>5 rows × 793 columns</p>\n</div>"
     },
     "execution_count": 15,
     "metadata": {},
     "output_type": "execute_result"
    }
   ],
   "source": [
    "# Merge patient and gexp_t dataframes\n",
    "\n",
    "patient['ID'] = patient.index\n",
    "gexp_t['ID'] = gexp.columns\n",
    "gexp_t_merged = pd.merge(patient, gexp_t, on='ID', how='left')\n",
    "gexp_t_merged.index = gexp_t_merged.index \n",
    "gexp_t_merged.head()"
   ],
   "metadata": {
    "collapsed": false,
    "ExecuteTime": {
     "end_time": "2024-11-22T09:03:51.282551Z",
     "start_time": "2024-11-22T09:03:51.267048Z"
    }
   },
   "id": "48a7dfb990084a79"
  },
  {
   "cell_type": "code",
   "execution_count": 16,
   "outputs": [],
   "source": [
    "# Split data into 30 % test and 70 % training\n",
    "\n",
    "from sklearn.model_selection import train_test_split\n",
    "\n",
    "random_seed = 3031\n",
    "\n",
    "# Split the data into training and testing sets (70% training, 30% testing)\n",
    "# The first column is the target variable (y)\n",
    "training, testing = train_test_split(gexp_t_merged, \n",
    "                                     test_size=0.3, \n",
    "                                     random_state=random_seed, \n",
    "                                     stratify=gexp_t_merged.iloc[:, 0])"
   ],
   "metadata": {
    "collapsed": false,
    "ExecuteTime": {
     "end_time": "2024-11-22T09:03:51.294015Z",
     "start_time": "2024-11-22T09:03:51.284696Z"
    }
   },
   "id": "4c16019ec225f2c3"
  },
  {
   "cell_type": "markdown",
   "source": [
    "#### 3.3.2 Cross-validation\n",
    "* When dataset is too small to set aside a significant portion of data as test a resampling-based technique like cross-validation may be useful.\n",
    "* Cross-validation works by splitting the data into randomly sampled $k$ subsets, called k-folds. \n",
    "* Each time, $k-1$ of the $k$ groups are combined and used to train the model and estimate errors. \n",
    "* In that way $k$ error estimates that can be averaged to obtain a more robust estimate of the test error.\n",
    "* Extreme case: $k$ is set equal to the number of data points, which is called the leave-one-out cross-validation (LOOCV)."
   ],
   "metadata": {
    "collapsed": false
   },
   "id": "1576116c957591c2"
  },
  {
   "cell_type": "markdown",
   "source": [
    "#### 3.3.3 Bootstrap resampling\n",
    "* It is used to estimate the variability of any statistical parameter.\n",
    "* The training set is drawn from the original set including replacement and a model is build with the bootstrap resampled set.\n",
    "*  Next, data points that are not selected for the random sample are selected and labels for them are predicted (out-of-the-bag (OOB) sample).\n",
    "* This process is repeated many times (e.g. 1000 times) and errors for the OOB samples are repeated.\n",
    "* The average of the OOB errors can be used to estimate the real test error."
   ],
   "metadata": {
    "collapsed": false
   },
   "id": "6961a9777dfd2bd3"
  },
  {
   "cell_type": "markdown",
   "source": [
    "### 3.4 Predicting the subtype with k-nearest neighbors"
   ],
   "metadata": {
    "collapsed": false
   },
   "id": "e4856e1aadd40c45"
  },
  {
   "cell_type": "code",
   "execution_count": 17,
   "outputs": [
    {
     "data": {
      "text/plain": "    subtype            ID          GFAP            CLU           TTR  \\\n154  noCIMP  TCGA-HT-8110  557111.02406  -85620.501681 -13747.261785   \n140  noCIMP  TCGA-FG-A70Z   17438.83216   61023.460219 -13787.301485   \n118  noCIMP  TCGA-DU-8165 -284040.12904  -76192.401381 -13762.239485   \n117  noCIMP  TCGA-DU-8162 -272362.63104 -104385.599081 -13789.303985   \n116  noCIMP  TCGA-DU-8161 -264456.71304  295007.719119 -13789.641885   \n\n            SPARC           MBP          PLP1        CHI3L1          BCAN  \\\n154 -31628.513661 -34801.552156 -23606.675677 -10713.004129  -2385.865098   \n140 -21369.069261 -46927.515756 -34679.768577  -5963.083629  28597.963202   \n118 -69387.494661 -44480.370256 -31068.579477   -565.358929 -54187.357898   \n117 -70932.526761  47591.881644  75327.531423 -10591.073329 -51048.353698   \n116 -21123.200361 -29544.848456 -21931.804477  42288.380971 -19233.512698   \n\n     ...       KIF21B        SGK1        STAB1         CD68        MMP14  \\\n154  ...  -636.196464  2816.51594   210.150987  5245.044139  -220.892564   \n140  ... -1127.028664  -304.50206   515.548987    32.060339   123.744636   \n118  ... -1931.574764 -1956.52426  1723.985387   307.945039  3103.842936   \n117  ...   627.440636   823.60264 -1094.557913 -1255.341661 -1154.568764   \n116  ... -1131.757164   632.41614   324.395587  1283.810139  -161.117564   \n\n          FAM84B       CSNK1E       PPP1CB         TRIO       IQSEC1  \n154 -1178.484418 -2090.084476  -587.522299  -935.373754  -592.385833  \n140  -846.417418    85.279124   199.743101 -1154.912254   302.583667  \n118 -1050.994718 -1329.490376  7038.227601 -1623.285454 -1292.324933  \n117 -1012.874318 -1606.794376  -533.857799   907.648446  3499.860767  \n116  -675.696618 -2756.415676   781.063201  -212.003154   -88.119833  \n\n[5 rows x 793 columns]",
      "text/html": "<div>\n<style scoped>\n    .dataframe tbody tr th:only-of-type {\n        vertical-align: middle;\n    }\n\n    .dataframe tbody tr th {\n        vertical-align: top;\n    }\n\n    .dataframe thead th {\n        text-align: right;\n    }\n</style>\n<table border=\"1\" class=\"dataframe\">\n  <thead>\n    <tr style=\"text-align: right;\">\n      <th></th>\n      <th>subtype</th>\n      <th>ID</th>\n      <th>GFAP</th>\n      <th>CLU</th>\n      <th>TTR</th>\n      <th>SPARC</th>\n      <th>MBP</th>\n      <th>PLP1</th>\n      <th>CHI3L1</th>\n      <th>BCAN</th>\n      <th>...</th>\n      <th>KIF21B</th>\n      <th>SGK1</th>\n      <th>STAB1</th>\n      <th>CD68</th>\n      <th>MMP14</th>\n      <th>FAM84B</th>\n      <th>CSNK1E</th>\n      <th>PPP1CB</th>\n      <th>TRIO</th>\n      <th>IQSEC1</th>\n    </tr>\n  </thead>\n  <tbody>\n    <tr>\n      <th>154</th>\n      <td>noCIMP</td>\n      <td>TCGA-HT-8110</td>\n      <td>557111.02406</td>\n      <td>-85620.501681</td>\n      <td>-13747.261785</td>\n      <td>-31628.513661</td>\n      <td>-34801.552156</td>\n      <td>-23606.675677</td>\n      <td>-10713.004129</td>\n      <td>-2385.865098</td>\n      <td>...</td>\n      <td>-636.196464</td>\n      <td>2816.51594</td>\n      <td>210.150987</td>\n      <td>5245.044139</td>\n      <td>-220.892564</td>\n      <td>-1178.484418</td>\n      <td>-2090.084476</td>\n      <td>-587.522299</td>\n      <td>-935.373754</td>\n      <td>-592.385833</td>\n    </tr>\n    <tr>\n      <th>140</th>\n      <td>noCIMP</td>\n      <td>TCGA-FG-A70Z</td>\n      <td>17438.83216</td>\n      <td>61023.460219</td>\n      <td>-13787.301485</td>\n      <td>-21369.069261</td>\n      <td>-46927.515756</td>\n      <td>-34679.768577</td>\n      <td>-5963.083629</td>\n      <td>28597.963202</td>\n      <td>...</td>\n      <td>-1127.028664</td>\n      <td>-304.50206</td>\n      <td>515.548987</td>\n      <td>32.060339</td>\n      <td>123.744636</td>\n      <td>-846.417418</td>\n      <td>85.279124</td>\n      <td>199.743101</td>\n      <td>-1154.912254</td>\n      <td>302.583667</td>\n    </tr>\n    <tr>\n      <th>118</th>\n      <td>noCIMP</td>\n      <td>TCGA-DU-8165</td>\n      <td>-284040.12904</td>\n      <td>-76192.401381</td>\n      <td>-13762.239485</td>\n      <td>-69387.494661</td>\n      <td>-44480.370256</td>\n      <td>-31068.579477</td>\n      <td>-565.358929</td>\n      <td>-54187.357898</td>\n      <td>...</td>\n      <td>-1931.574764</td>\n      <td>-1956.52426</td>\n      <td>1723.985387</td>\n      <td>307.945039</td>\n      <td>3103.842936</td>\n      <td>-1050.994718</td>\n      <td>-1329.490376</td>\n      <td>7038.227601</td>\n      <td>-1623.285454</td>\n      <td>-1292.324933</td>\n    </tr>\n    <tr>\n      <th>117</th>\n      <td>noCIMP</td>\n      <td>TCGA-DU-8162</td>\n      <td>-272362.63104</td>\n      <td>-104385.599081</td>\n      <td>-13789.303985</td>\n      <td>-70932.526761</td>\n      <td>47591.881644</td>\n      <td>75327.531423</td>\n      <td>-10591.073329</td>\n      <td>-51048.353698</td>\n      <td>...</td>\n      <td>627.440636</td>\n      <td>823.60264</td>\n      <td>-1094.557913</td>\n      <td>-1255.341661</td>\n      <td>-1154.568764</td>\n      <td>-1012.874318</td>\n      <td>-1606.794376</td>\n      <td>-533.857799</td>\n      <td>907.648446</td>\n      <td>3499.860767</td>\n    </tr>\n    <tr>\n      <th>116</th>\n      <td>noCIMP</td>\n      <td>TCGA-DU-8161</td>\n      <td>-264456.71304</td>\n      <td>295007.719119</td>\n      <td>-13789.641885</td>\n      <td>-21123.200361</td>\n      <td>-29544.848456</td>\n      <td>-21931.804477</td>\n      <td>42288.380971</td>\n      <td>-19233.512698</td>\n      <td>...</td>\n      <td>-1131.757164</td>\n      <td>632.41614</td>\n      <td>324.395587</td>\n      <td>1283.810139</td>\n      <td>-161.117564</td>\n      <td>-675.696618</td>\n      <td>-2756.415676</td>\n      <td>781.063201</td>\n      <td>-212.003154</td>\n      <td>-88.119833</td>\n    </tr>\n  </tbody>\n</table>\n<p>5 rows × 793 columns</p>\n</div>"
     },
     "execution_count": 17,
     "metadata": {},
     "output_type": "execute_result"
    }
   ],
   "source": [
    "training.head()"
   ],
   "metadata": {
    "collapsed": false,
    "ExecuteTime": {
     "end_time": "2024-11-22T09:03:51.339879Z",
     "start_time": "2024-11-22T09:03:51.298086Z"
    }
   },
   "id": "b32912f5d6a208ee"
  },
  {
   "cell_type": "code",
   "execution_count": 18,
   "outputs": [],
   "source": [
    "# Predictions of training data by model trained on training data\n",
    "\n",
    "from sklearn.neighbors import KNeighborsClassifier\n",
    "\n",
    "# First column is the target variable\n",
    "X_train = np.array(training.iloc[:, 2:])  # Features (all columns except the first and second)\n",
    "y_train = np.array(training.iloc[:, 0])   # Target (the first column)\n",
    "\n",
    "# Initialize the KNN model with k=5\n",
    "knnFit = KNeighborsClassifier(n_neighbors=5)\n",
    "\n",
    "# Train the KNN model\n",
    "knnFit.fit(X_train, y_train)\n",
    "\n",
    "# Make predictions on the training set\n",
    "trainPred = knnFit.predict(X_train)"
   ],
   "metadata": {
    "collapsed": false,
    "ExecuteTime": {
     "end_time": "2024-11-22T09:03:51.518669Z",
     "start_time": "2024-11-22T09:03:51.302729Z"
    }
   },
   "id": "39b6829dad12263"
  },
  {
   "cell_type": "markdown",
   "source": [
    "### 3.5 Assessing the performance of the model"
   ],
   "metadata": {
    "collapsed": false
   },
   "id": "92cf9ee61b9cd490"
  },
  {
   "cell_type": "code",
   "execution_count": 19,
   "outputs": [
    {
     "name": "stdout",
     "output_type": "stream",
     "text": [
      "Confusion Matrix:\n",
      " [[63  1]\n",
      " [12 52]]\n",
      "\n",
      "Classification Report:\n",
      "               precision    recall  f1-score   support\n",
      "\n",
      "        CIMP       0.84      0.98      0.91        64\n",
      "      noCIMP       0.98      0.81      0.89        64\n",
      "\n",
      "    accuracy                           0.90       128\n",
      "   macro avg       0.91      0.90      0.90       128\n",
      "weighted avg       0.91      0.90      0.90       128\n"
     ]
    }
   ],
   "source": [
    "from sklearn.metrics import confusion_matrix, classification_report\n",
    "\n",
    "# Confusion matrix\n",
    "cm = confusion_matrix(y_train, trainPred)\n",
    "print(\"Confusion Matrix:\\n\", cm)\n",
    "\n",
    "# Classification report for more detailed metrics\n",
    "print(\"\\nClassification Report:\\n\", classification_report(y_train, trainPred))"
   ],
   "metadata": {
    "collapsed": false,
    "ExecuteTime": {
     "end_time": "2024-11-22T09:03:51.534962Z",
     "start_time": "2024-11-22T09:03:51.523594Z"
    }
   },
   "id": "fcdf630c26a832d8"
  },
  {
   "cell_type": "code",
   "execution_count": 20,
   "outputs": [
    {
     "name": "stdout",
     "output_type": "stream",
     "text": [
      "Confusion Matrix (Test Set):\n",
      " [[26  2]\n",
      " [ 9 19]]\n",
      "\n",
      "Classification Report (Test Set):\n",
      "               precision    recall  f1-score   support\n",
      "\n",
      "        CIMP       0.74      0.93      0.83        28\n",
      "      noCIMP       0.90      0.68      0.78        28\n",
      "\n",
      "    accuracy                           0.80        56\n",
      "   macro avg       0.82      0.80      0.80        56\n",
      "weighted avg       0.82      0.80      0.80        56\n"
     ]
    }
   ],
   "source": [
    "# Predictions of testing data by model trained on training data\n",
    "\n",
    "# First column is the target variable\n",
    "X_test = np.array(testing.iloc[:, 2:])  # Features (all columns except the first and second)\n",
    "y_test = np.array(testing.iloc[:, 0])   # Target (the first column)\n",
    "\n",
    "# Make predictions on the training set\n",
    "testPred = knnFit.predict(X_test)\n",
    "\n",
    "# Confusion matrix\n",
    "cm_test = confusion_matrix(y_test, testPred)\n",
    "print(\"Confusion Matrix (Test Set):\\n\", cm_test)\n",
    "\n",
    "# Classification report for detailed metrics\n",
    "print(\"\\nClassification Report (Test Set):\\n\", classification_report(y_test, testPred))"
   ],
   "metadata": {
    "collapsed": false,
    "ExecuteTime": {
     "end_time": "2024-11-22T09:03:51.567321Z",
     "start_time": "2024-11-22T09:03:51.533727Z"
    }
   },
   "id": "26f44994a9e70e5e"
  },
  {
   "cell_type": "code",
   "execution_count": 21,
   "outputs": [
    {
     "data": {
      "text/plain": "<Figure size 640x480 with 1 Axes>",
      "image/png": "[encoded data removed]"
     },
     "metadata": {},
     "output_type": "display_data"
    }
   ],
   "source": [
    "# Receiver Operating Characteristic (ROC) curve\n",
    "\n",
    "from sklearn.metrics import roc_curve, roc_auc_score\n",
    "\n",
    "# Get the probabilities for the positive class\n",
    "testProbs = knnFit.predict_proba(X_test)  # Predict class probabilities\n",
    "\n",
    "positive_class_index = 0\n",
    "# Binary labels for positive class\n",
    "y_test_binary = (y_test == knnFit.classes_[positive_class_index]).astype(int)  \n",
    "\n",
    "# Compute ROC curve\n",
    "fpr, tpr, thresholds = roc_curve(y_test_binary, testProbs[:, positive_class_index])\n",
    "\n",
    "# Compute AUC\n",
    "roc_auc = roc_auc_score(y_test_binary, testProbs[:, positive_class_index])\n",
    "\n",
    "# Plot the ROC curve\n",
    "plt.figure()\n",
    "plt.plot(fpr, tpr, color='darkorange', lw=2, label=f'ROC curve (area = {roc_auc:.2f})')\n",
    "plt.plot([0, 1], [0, 1], color='navy', lw=2, linestyle='--')  # Diagonal line\n",
    "plt.xlim([0.0, 1.0])\n",
    "plt.ylim([0.0, 1.05])\n",
    "plt.xlabel('False Positive Rate')\n",
    "plt.ylabel('True Positive Rate')\n",
    "plt.title('Receiver Operating Characteristic (ROC) Curve')\n",
    "plt.legend(loc=\"lower right\")\n",
    "plt.show()"
   ],
   "metadata": {
    "collapsed": false,
    "ExecuteTime": {
     "end_time": "2024-11-22T09:03:51.660516Z",
     "start_time": "2024-11-22T09:03:51.551318Z"
    }
   },
   "id": "7bd74af4161acb5c"
  },
  {
   "cell_type": "markdown",
   "source": [
    "### 3.6 Model tuning and avoiding overfitting"
   ],
   "metadata": {
    "collapsed": false
   },
   "id": "961d1614b6342192"
  },
  {
   "cell_type": "code",
   "execution_count": 21,
   "outputs": [],
   "source": [],
   "metadata": {
    "collapsed": false,
    "ExecuteTime": {
     "end_time": "2024-11-22T09:03:51.665686Z",
     "start_time": "2024-11-22T09:03:51.661792Z"
    }
   },
   "id": "956a6d396dc760a4"
  },
  {
   "cell_type": "code",
   "execution_count": 21,
   "outputs": [],
   "source": [],
   "metadata": {
    "collapsed": false,
    "ExecuteTime": {
     "end_time": "2024-11-22T09:03:51.666900Z",
     "start_time": "2024-11-22T09:03:51.663750Z"
    }
   },
   "id": "a784ca3b85d932d3"
  },
  {
   "cell_type": "code",
   "execution_count": 21,
   "outputs": [],
   "source": [],
   "metadata": {
    "collapsed": false,
    "ExecuteTime": {
     "end_time": "2024-11-22T09:03:51.672006Z",
     "start_time": "2024-11-22T09:03:51.667516Z"
    }
   },
   "id": "90d810736979a7fe"
  },
  {
   "cell_type": "markdown",
   "source": [
    "### 3.7 Variable importance"
   ],
   "metadata": {
    "collapsed": false
   },
   "id": "2a7524a70ff80959"
  },
  {
   "cell_type": "code",
   "execution_count": 21,
   "outputs": [],
   "source": [],
   "metadata": {
    "collapsed": false,
    "ExecuteTime": {
     "end_time": "2024-11-22T09:03:51.672218Z",
     "start_time": "2024-11-22T09:03:51.669584Z"
    }
   },
   "id": "f014e683ffaef714"
  },
  {
   "cell_type": "code",
   "execution_count": 21,
   "outputs": [],
   "source": [],
   "metadata": {
    "collapsed": false,
    "ExecuteTime": {
     "end_time": "2024-11-22T09:03:51.677632Z",
     "start_time": "2024-11-22T09:03:51.672317Z"
    }
   },
   "id": "c5ba4b6891630c9"
  },
  {
   "cell_type": "code",
   "execution_count": 21,
   "outputs": [],
   "source": [],
   "metadata": {
    "collapsed": false,
    "ExecuteTime": {
     "end_time": "2024-11-22T09:03:51.677980Z",
     "start_time": "2024-11-22T09:03:51.675752Z"
    }
   },
   "id": "c985a89a56e5326a"
  },
  {
   "cell_type": "markdown",
   "source": [
    "### 3.8 How to deal with class imbalance"
   ],
   "metadata": {
    "collapsed": false
   },
   "id": "458ac832f9844b61"
  },
  {
   "cell_type": "markdown",
   "source": [
    "### 3.9 Dealing with correlated predictors"
   ],
   "metadata": {
    "collapsed": false
   },
   "id": "52fa4f2fc8b3cdd6"
  },
  {
   "cell_type": "code",
   "execution_count": 21,
   "outputs": [],
   "source": [],
   "metadata": {
    "collapsed": false,
    "ExecuteTime": {
     "end_time": "2024-11-22T09:03:51.721286Z",
     "start_time": "2024-11-22T09:03:51.678679Z"
    }
   },
   "id": "4316dbf76c783873"
  },
  {
   "cell_type": "code",
   "execution_count": 21,
   "outputs": [],
   "source": [],
   "metadata": {
    "collapsed": false,
    "ExecuteTime": {
     "end_time": "2024-11-22T09:03:51.721713Z",
     "start_time": "2024-11-22T09:03:51.681849Z"
    }
   },
   "id": "33320b9dc03c736e"
  },
  {
   "cell_type": "code",
   "execution_count": 21,
   "outputs": [],
   "source": [],
   "metadata": {
    "collapsed": false,
    "ExecuteTime": {
     "end_time": "2024-11-22T09:03:51.721860Z",
     "start_time": "2024-11-22T09:03:51.684495Z"
    }
   },
   "id": "477adb1c6ebfbd6f"
  },
  {
   "cell_type": "markdown",
   "source": [
    "### 3.10 Random forests"
   ],
   "metadata": {
    "collapsed": false
   },
   "id": "4983b242c673dfb8"
  },
  {
   "cell_type": "code",
   "execution_count": 21,
   "outputs": [],
   "source": [],
   "metadata": {
    "collapsed": false,
    "ExecuteTime": {
     "end_time": "2024-11-22T09:03:51.721933Z",
     "start_time": "2024-11-22T09:03:51.686122Z"
    }
   },
   "id": "e0353a0425c4d850"
  },
  {
   "cell_type": "code",
   "execution_count": 21,
   "outputs": [],
   "source": [],
   "metadata": {
    "collapsed": false,
    "ExecuteTime": {
     "end_time": "2024-11-22T09:03:51.722007Z",
     "start_time": "2024-11-22T09:03:51.689324Z"
    }
   },
   "id": "1f83b7a64a0262dd"
  },
  {
   "cell_type": "markdown",
   "source": [
    "### 3.11 Logistic regression and regularization"
   ],
   "metadata": {
    "collapsed": false
   },
   "id": "d979eba0e7c2829f"
  },
  {
   "cell_type": "markdown",
   "source": [
    "### 3.12 Other supervised algorithms"
   ],
   "metadata": {
    "collapsed": false
   },
   "id": "c0562cb2e2321835"
  },
  {
   "cell_type": "markdown",
   "source": [
    "### 3.13 Predicting continuous variables: Regression with machine learning"
   ],
   "metadata": {
    "collapsed": false
   },
   "id": "c6ad53d6d843b9ac"
  },
  {
   "cell_type": "code",
   "execution_count": 21,
   "outputs": [],
   "source": [],
   "metadata": {
    "collapsed": false,
    "ExecuteTime": {
     "end_time": "2024-11-22T09:03:51.722073Z",
     "start_time": "2024-11-22T09:03:51.691894Z"
    }
   },
   "id": "3b8c22ccd0fc9698"
  },
  {
   "cell_type": "code",
   "execution_count": 21,
   "outputs": [],
   "source": [],
   "metadata": {
    "collapsed": false,
    "ExecuteTime": {
     "end_time": "2024-11-22T09:03:51.722139Z",
     "start_time": "2024-11-22T09:03:51.694542Z"
    }
   },
   "id": "be8c2c6f771fa25b"
  },
  {
   "cell_type": "code",
   "execution_count": 21,
   "outputs": [],
   "source": [],
   "metadata": {
    "collapsed": false,
    "ExecuteTime": {
     "end_time": "2024-11-22T09:03:51.722210Z",
     "start_time": "2024-11-22T09:03:51.702514Z"
    }
   },
   "id": "3ed940a7fc7551b"
  },
  {
   "cell_type": "markdown",
   "source": [
    "### 3.14 Exercises"
   ],
   "metadata": {
    "collapsed": false
   },
   "id": "e99452949d4c46b1"
  },
  {
   "cell_type": "code",
   "execution_count": 21,
   "outputs": [],
   "source": [],
   "metadata": {
    "collapsed": false,
    "ExecuteTime": {
     "end_time": "2024-11-22T09:03:51.722273Z",
     "start_time": "2024-11-22T09:03:51.704134Z"
    }
   },
   "id": "ca0192bef58af2f4"
  },
  {
   "cell_type": "code",
   "execution_count": 21,
   "outputs": [],
   "source": [],
   "metadata": {
    "collapsed": false,
    "ExecuteTime": {
     "end_time": "2024-11-22T09:03:51.722544Z",
     "start_time": "2024-11-22T09:03:51.707475Z"
    }
   },
   "id": "47a8f8fd4aeeb9e5"
  },
  {
   "cell_type": "code",
   "execution_count": 21,
   "outputs": [],
   "source": [],
   "metadata": {
    "collapsed": false,
    "ExecuteTime": {
     "end_time": "2024-11-22T09:03:51.722618Z",
     "start_time": "2024-11-22T09:03:51.709453Z"
    }
   },
   "id": "6e8c4b9a630f545e"
  },
  {
   "cell_type": "code",
   "execution_count": 21,
   "outputs": [],
   "source": [],
   "metadata": {
    "collapsed": false,
    "ExecuteTime": {
     "end_time": "2024-11-22T09:03:51.722679Z",
     "start_time": "2024-11-22T09:03:51.712856Z"
    }
   },
   "id": "2a04ec00ed540f69"
  },
  {
   "cell_type": "code",
   "execution_count": 21,
   "outputs": [],
   "source": [],
   "metadata": {
    "collapsed": false,
    "ExecuteTime": {
     "end_time": "2024-11-22T09:03:51.722743Z",
     "start_time": "2024-11-22T09:03:51.715818Z"
    }
   },
   "id": "431cd54c1ae604b8"
  },
  {
   "cell_type": "code",
   "execution_count": 21,
   "outputs": [],
   "source": [],
   "metadata": {
    "collapsed": false,
    "ExecuteTime": {
     "end_time": "2024-11-22T09:03:51.722806Z",
     "start_time": "2024-11-22T09:03:51.717326Z"
    }
   },
   "id": "187fd8587617f539"
  }
 ],
 "metadata": {
  "kernelspec": {
   "display_name": "Python 3",
   "language": "python",
   "name": "python3"
  },
  "language_info": {
   "codemirror_mode": {
    "name": "ipython",
    "version": 2
   },
   "file_extension": ".py",
   "mimetype": "text/x-python",
   "name": "python",
   "nbconvert_exporter": "python",
   "pygments_lexer": "ipython2",
   "version": "2.7.6"
  }
 },
 "nbformat": 4,
 "nbformat_minor": 5
}
