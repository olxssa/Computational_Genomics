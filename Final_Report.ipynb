{
 "cells": [
  {
   "cell_type": "markdown",
   "source": [
    "# Computational Genetics: Statistics, Supervised and Unsupervised Learning\n",
    "### Final Report (using Python)\n",
    "Olyssa Sperling (614143)\n",
    "olyssa.sperling@student.hu-berlin.de\n",
    "[https://github.com/olxssa/Computational_Genomics](https://github.com/olxssa/Computational_Genomics)\n",
    "Module: Systems Biology: Computational Analysis and Interpretation of High-throughput Data"
   ],
   "metadata": {
    "collapsed": false
   },
   "id": "31a2da9a7158bfb1"
  },
  {
   "cell_type": "markdown",
   "source": [
    "#### Background\n",
    "##### 1) CpG methylation data:\n",
    "CpG methylation data refers to information about the methylation status of cytosine-guanine dinucleotides (CpG sites) in DNA. DNA methylation is an epigenetic modification where a methyl group is added to the 5th carbon of the cytosine ring, primarily at CpG sites. Methylation patterns are crucial for normal development and cellular differentiation. CpG methylation data is often presented as a table with rows as CpG sites and columns as samples.\n",
    "\n",
    "#####\n",
    "##### 2) CpG methylation influenced by age:\n",
    "With age, CpG methylation undergoes a combination of global hypomethylation, localized hypermethylation, and epigenetic drift. These patterns are not just markers of aging but also play active roles in age-related diseases. By studying these changes, researchers can better understand the molecular basis of aging and develop interventions to promote healthy aging.\n",
    "\n",
    "Key aspects are:\n",
    "* **Global Hypomethylation**: As individuals age, there is a general loss of methylation across the genome, particularly in repetitive elements and intergenic regions. Hypomethylation in these regions can lead to genomic instability, activation of transposable elements, and inappropriate gene expression\n",
    "\n",
    "\n",
    "* **Local Hypermethylation**: While global hypomethylation occurs, some specific CpG sites, especially in promoter regions of certain genes, become hypermethylated with age. Hypermethylation often occurs in tumor suppressor genes and pathways involved in cell cycle regulation, contributing to age-related diseases, including cancer.\n",
    "\n",
    "* **Epigenetic drift**: Epigenetic drift refers to the stochastic (random) changes in DNA methylation patterns that accumulate with age, leading to increased inter-individual variability in methylation profiles over time. This drift is influenced by both genetic and environmental factors, such as diet, smoking, and exposure to pollutants.\n",
    "\n",
    "* **Age-Associated Differentially Methylated Positions (aDMPs)**: Certain CpG sites show predictable changes in methylation with age, known as age-associated differentially methylated positions (aDMPs). These aDMPs are often enriched in regulatory regions and genes involved in development, such as those in the HOX gene family.\n",
    "\n",
    "*  **Impact on Health**: \n",
    "    * *Cancer*: Age-related methylation changes can lead to hypermethylation of tumor suppressor genes and hypomethylation of oncogenes.\n",
    "    * *Neurodegeneration*: Methylation changes in genes involved in neuronal function and inflammation contribute to conditions like Alzheimer's disease.\n",
    "    * *Immune System Decline*: Age-related methylation patterns in immune-related genes contribute to immunosenescence (decline of immune function)."
   ],
   "metadata": {
    "collapsed": false
   },
   "id": "8c30831465b99105"
  },
  {
   "cell_type": "markdown",
   "source": [
    "#### The dataset\n",
    "The dataset contains CpG methylation values per CpG and per individual as a table (“metRmOlWithDbgapId.txt”). Each column is an individual and each row is a CpG, values in the table are methylation values. The subject/sample/individual ids are on the first row. “subjects.txt” has information on the individuals/samples/subjects. The most important attribute here is age. The ids (db gap ids) in this table should match the columns in the first table. There are other attributes such as sex and race."
   ],
   "metadata": {
    "collapsed": false
   },
   "id": "278d49ba2b82f590"
  },
  {
   "cell_type": "markdown",
   "source": [
    "#### The problem\n",
    "The main question is what is the relationship between age and methylation? We explore this with the following tasks. "
   ],
   "metadata": {
    "collapsed": false
   },
   "id": "f0065e9aba858fe9"
  },
  {
   "cell_type": "code",
   "execution_count": 11,
   "outputs": [],
   "source": [
    "import pandas as pd\n",
    "import numpy as np\n",
    "import matplotlib.pyplot as plt\n",
    "import seaborn as sns"
   ],
   "metadata": {
    "collapsed": false,
    "ExecuteTime": {
     "end_time": "2024-11-21T16:19:04.122716Z",
     "start_time": "2024-11-21T16:19:04.106554Z"
    }
   },
   "id": "57552df217c8792f"
  },
  {
   "cell_type": "markdown",
   "source": [
    "##### Task 0\n",
    "Read tables and merge them or organize them so that you have an age value for each sample/subject. Your predictive variables are CpG methylation values per sample. Ignore other covariates in “subjects.txt” for simplicity, we only care about age. Age can have minus values if the individual is not born yet. "
   ],
   "metadata": {
    "collapsed": false
   },
   "id": "6ff8773b23e9dec9"
  },
  {
   "cell_type": "code",
   "execution_count": 2,
   "outputs": [
    {
     "data": {
      "text/plain": "   ID  dbGaP ID        Age sex  Race\n0   1        34  63.000000   M  CAUC\n1   2        35  26.531506   F  CAUC\n2   3        37  51.479452   F    AA\n3   4        39  75.572602   F  CAUC\n4   5        40   0.482191   F    AA",
      "text/html": "<div>\n<style scoped>\n    .dataframe tbody tr th:only-of-type {\n        vertical-align: middle;\n    }\n\n    .dataframe tbody tr th {\n        vertical-align: top;\n    }\n\n    .dataframe thead th {\n        text-align: right;\n    }\n</style>\n<table border=\"1\" class=\"dataframe\">\n  <thead>\n    <tr style=\"text-align: right;\">\n      <th></th>\n      <th>ID</th>\n      <th>dbGaP ID</th>\n      <th>Age</th>\n      <th>sex</th>\n      <th>Race</th>\n    </tr>\n  </thead>\n  <tbody>\n    <tr>\n      <th>0</th>\n      <td>1</td>\n      <td>34</td>\n      <td>63.000000</td>\n      <td>M</td>\n      <td>CAUC</td>\n    </tr>\n    <tr>\n      <th>1</th>\n      <td>2</td>\n      <td>35</td>\n      <td>26.531506</td>\n      <td>F</td>\n      <td>CAUC</td>\n    </tr>\n    <tr>\n      <th>2</th>\n      <td>3</td>\n      <td>37</td>\n      <td>51.479452</td>\n      <td>F</td>\n      <td>AA</td>\n    </tr>\n    <tr>\n      <th>3</th>\n      <td>4</td>\n      <td>39</td>\n      <td>75.572602</td>\n      <td>F</td>\n      <td>CAUC</td>\n    </tr>\n    <tr>\n      <th>4</th>\n      <td>5</td>\n      <td>40</td>\n      <td>0.482191</td>\n      <td>F</td>\n      <td>AA</td>\n    </tr>\n  </tbody>\n</table>\n</div>"
     },
     "execution_count": 2,
     "metadata": {},
     "output_type": "execute_result"
    }
   ],
   "source": [
    "# First look into subject data\n",
    "\n",
    "subjects = pd.read_csv('subjects.txt', sep='\\t')\n",
    "subjects.head()"
   ],
   "metadata": {
    "collapsed": false,
    "ExecuteTime": {
     "end_time": "2024-11-21T14:42:30.578565Z",
     "start_time": "2024-11-21T14:42:30.559547Z"
    }
   },
   "id": "c4ff99e12760d6d7"
  },
  {
   "cell_type": "code",
   "execution_count": 3,
   "outputs": [
    {
     "data": {
      "text/plain": "dbGapSubjctId cg26211698 cg03790787 cg04672450 cg14324200 cg04485075  \\\n34              0.018852   0.068036   0.009639   0.204592   0.010062   \n35              0.023741   0.081941   0.013243   0.064252   0.015012   \n37              0.023376   0.103914   0.010931   0.133139   0.012881   \n39              0.037224   0.051119   0.022289   0.059606   0.047412   \n40              0.018712    0.10411   0.012151   0.092799   0.017496   \n\ndbGapSubjctId cg19923810 cg21832150 cg02397514 cg08122545 cg20022511  ...  \\\n34              0.800023   0.462352   0.010359   0.014241   0.024511  ...   \n35              0.757389    0.12447    0.00959   0.010681   0.023458  ...   \n37              0.739141    0.37957   0.010761   0.011507   0.019871  ...   \n39              0.689842   0.157468   0.011589   0.021806   0.018534  ...   \n40               0.71269   0.129949   0.016549   0.021869   0.035068  ...   \n\ndbGapSubjctId cg26059632 cg08555657 cg00152644 cg17761453 cg27626424  \\\n34              0.649459   0.880427   0.953906   0.899846   0.914899   \n35              0.662764   0.846363   0.915651   0.891078   0.922358   \n37              0.676834   0.888116   0.941563   0.891146   0.898969   \n39              0.467848   0.864944   0.925617   0.838163   0.903046   \n40              0.514251   0.851653   0.911592   0.858332    0.92962   \n\ndbGapSubjctId cg09448880 cg06275635 cg07039113 cg03165378 cg16139316  \n34              0.868774   0.834703   0.901589   0.888041   0.831972  \n35              0.834874   0.804161   0.868203   0.861794   0.890119  \n37              0.907648   0.793032   0.891126   0.862654   0.839239  \n39              0.726393   0.655513   0.862524   0.815818   0.851132  \n40              0.804251   0.748435   0.863736   0.843227   0.855469  \n\n[5 rows x 1798 columns]",
      "text/html": "<div>\n<style scoped>\n    .dataframe tbody tr th:only-of-type {\n        vertical-align: middle;\n    }\n\n    .dataframe tbody tr th {\n        vertical-align: top;\n    }\n\n    .dataframe thead th {\n        text-align: right;\n    }\n</style>\n<table border=\"1\" class=\"dataframe\">\n  <thead>\n    <tr style=\"text-align: right;\">\n      <th>dbGapSubjctId</th>\n      <th>cg26211698</th>\n      <th>cg03790787</th>\n      <th>cg04672450</th>\n      <th>cg14324200</th>\n      <th>cg04485075</th>\n      <th>cg19923810</th>\n      <th>cg21832150</th>\n      <th>cg02397514</th>\n      <th>cg08122545</th>\n      <th>cg20022511</th>\n      <th>...</th>\n      <th>cg26059632</th>\n      <th>cg08555657</th>\n      <th>cg00152644</th>\n      <th>cg17761453</th>\n      <th>cg27626424</th>\n      <th>cg09448880</th>\n      <th>cg06275635</th>\n      <th>cg07039113</th>\n      <th>cg03165378</th>\n      <th>cg16139316</th>\n    </tr>\n  </thead>\n  <tbody>\n    <tr>\n      <th>34</th>\n      <td>0.018852</td>\n      <td>0.068036</td>\n      <td>0.009639</td>\n      <td>0.204592</td>\n      <td>0.010062</td>\n      <td>0.800023</td>\n      <td>0.462352</td>\n      <td>0.010359</td>\n      <td>0.014241</td>\n      <td>0.024511</td>\n      <td>...</td>\n      <td>0.649459</td>\n      <td>0.880427</td>\n      <td>0.953906</td>\n      <td>0.899846</td>\n      <td>0.914899</td>\n      <td>0.868774</td>\n      <td>0.834703</td>\n      <td>0.901589</td>\n      <td>0.888041</td>\n      <td>0.831972</td>\n    </tr>\n    <tr>\n      <th>35</th>\n      <td>0.023741</td>\n      <td>0.081941</td>\n      <td>0.013243</td>\n      <td>0.064252</td>\n      <td>0.015012</td>\n      <td>0.757389</td>\n      <td>0.12447</td>\n      <td>0.00959</td>\n      <td>0.010681</td>\n      <td>0.023458</td>\n      <td>...</td>\n      <td>0.662764</td>\n      <td>0.846363</td>\n      <td>0.915651</td>\n      <td>0.891078</td>\n      <td>0.922358</td>\n      <td>0.834874</td>\n      <td>0.804161</td>\n      <td>0.868203</td>\n      <td>0.861794</td>\n      <td>0.890119</td>\n    </tr>\n    <tr>\n      <th>37</th>\n      <td>0.023376</td>\n      <td>0.103914</td>\n      <td>0.010931</td>\n      <td>0.133139</td>\n      <td>0.012881</td>\n      <td>0.739141</td>\n      <td>0.37957</td>\n      <td>0.010761</td>\n      <td>0.011507</td>\n      <td>0.019871</td>\n      <td>...</td>\n      <td>0.676834</td>\n      <td>0.888116</td>\n      <td>0.941563</td>\n      <td>0.891146</td>\n      <td>0.898969</td>\n      <td>0.907648</td>\n      <td>0.793032</td>\n      <td>0.891126</td>\n      <td>0.862654</td>\n      <td>0.839239</td>\n    </tr>\n    <tr>\n      <th>39</th>\n      <td>0.037224</td>\n      <td>0.051119</td>\n      <td>0.022289</td>\n      <td>0.059606</td>\n      <td>0.047412</td>\n      <td>0.689842</td>\n      <td>0.157468</td>\n      <td>0.011589</td>\n      <td>0.021806</td>\n      <td>0.018534</td>\n      <td>...</td>\n      <td>0.467848</td>\n      <td>0.864944</td>\n      <td>0.925617</td>\n      <td>0.838163</td>\n      <td>0.903046</td>\n      <td>0.726393</td>\n      <td>0.655513</td>\n      <td>0.862524</td>\n      <td>0.815818</td>\n      <td>0.851132</td>\n    </tr>\n    <tr>\n      <th>40</th>\n      <td>0.018712</td>\n      <td>0.10411</td>\n      <td>0.012151</td>\n      <td>0.092799</td>\n      <td>0.017496</td>\n      <td>0.71269</td>\n      <td>0.129949</td>\n      <td>0.016549</td>\n      <td>0.021869</td>\n      <td>0.035068</td>\n      <td>...</td>\n      <td>0.514251</td>\n      <td>0.851653</td>\n      <td>0.911592</td>\n      <td>0.858332</td>\n      <td>0.92962</td>\n      <td>0.804251</td>\n      <td>0.748435</td>\n      <td>0.863736</td>\n      <td>0.843227</td>\n      <td>0.855469</td>\n    </tr>\n  </tbody>\n</table>\n<p>5 rows × 1798 columns</p>\n</div>"
     },
     "execution_count": 3,
     "metadata": {},
     "output_type": "execute_result"
    }
   ],
   "source": [
    "# First look into methylation data\n",
    "\n",
    "data = pd.read_csv('metRmOlWithDbgapId.txt', sep='\\t')\n",
    "data = data.T\n",
    "data.columns = data.iloc[0]\n",
    "data = data[1:]\n",
    "data.head()"
   ],
   "metadata": {
    "collapsed": false,
    "ExecuteTime": {
     "end_time": "2024-11-21T14:42:32.057118Z",
     "start_time": "2024-11-21T14:42:31.999191Z"
    }
   },
   "id": "f0f4456e40c43c6d"
  },
  {
   "cell_type": "code",
   "execution_count": 4,
   "outputs": [
    {
     "name": "stdout",
     "output_type": "stream",
     "text": [
      "Number of patients: 108\n",
      "Number of CpG methylation sites: 1798\n"
     ]
    },
    {
     "data": {
      "text/plain": "   ID dbGaP ID        Age sex  Race cg26211698 cg03790787 cg04672450  \\\n0   1       34  63.000000   M  CAUC   0.018852   0.068036   0.009639   \n1   2       35  26.531506   F  CAUC   0.023741   0.081941   0.013243   \n2   3       37  51.479452   F    AA   0.023376   0.103914   0.010931   \n3   4       39  75.572602   F  CAUC   0.037224   0.051119   0.022289   \n4   5       40   0.482191   F    AA   0.018712    0.10411   0.012151   \n\n  cg14324200 cg04485075  ... cg26059632 cg08555657 cg00152644 cg17761453  \\\n0   0.204592   0.010062  ...   0.649459   0.880427   0.953906   0.899846   \n1   0.064252   0.015012  ...   0.662764   0.846363   0.915651   0.891078   \n2   0.133139   0.012881  ...   0.676834   0.888116   0.941563   0.891146   \n3   0.059606   0.047412  ...   0.467848   0.864944   0.925617   0.838163   \n4   0.092799   0.017496  ...   0.514251   0.851653   0.911592   0.858332   \n\n  cg27626424 cg09448880 cg06275635 cg07039113 cg03165378 cg16139316  \n0   0.914899   0.868774   0.834703   0.901589   0.888041   0.831972  \n1   0.922358   0.834874   0.804161   0.868203   0.861794   0.890119  \n2   0.898969   0.907648   0.793032   0.891126   0.862654   0.839239  \n3   0.903046   0.726393   0.655513   0.862524   0.815818   0.851132  \n4    0.92962   0.804251   0.748435   0.863736   0.843227   0.855469  \n\n[5 rows x 1803 columns]",
      "text/html": "<div>\n<style scoped>\n    .dataframe tbody tr th:only-of-type {\n        vertical-align: middle;\n    }\n\n    .dataframe tbody tr th {\n        vertical-align: top;\n    }\n\n    .dataframe thead th {\n        text-align: right;\n    }\n</style>\n<table border=\"1\" class=\"dataframe\">\n  <thead>\n    <tr style=\"text-align: right;\">\n      <th></th>\n      <th>ID</th>\n      <th>dbGaP ID</th>\n      <th>Age</th>\n      <th>sex</th>\n      <th>Race</th>\n      <th>cg26211698</th>\n      <th>cg03790787</th>\n      <th>cg04672450</th>\n      <th>cg14324200</th>\n      <th>cg04485075</th>\n      <th>...</th>\n      <th>cg26059632</th>\n      <th>cg08555657</th>\n      <th>cg00152644</th>\n      <th>cg17761453</th>\n      <th>cg27626424</th>\n      <th>cg09448880</th>\n      <th>cg06275635</th>\n      <th>cg07039113</th>\n      <th>cg03165378</th>\n      <th>cg16139316</th>\n    </tr>\n  </thead>\n  <tbody>\n    <tr>\n      <th>0</th>\n      <td>1</td>\n      <td>34</td>\n      <td>63.000000</td>\n      <td>M</td>\n      <td>CAUC</td>\n      <td>0.018852</td>\n      <td>0.068036</td>\n      <td>0.009639</td>\n      <td>0.204592</td>\n      <td>0.010062</td>\n      <td>...</td>\n      <td>0.649459</td>\n      <td>0.880427</td>\n      <td>0.953906</td>\n      <td>0.899846</td>\n      <td>0.914899</td>\n      <td>0.868774</td>\n      <td>0.834703</td>\n      <td>0.901589</td>\n      <td>0.888041</td>\n      <td>0.831972</td>\n    </tr>\n    <tr>\n      <th>1</th>\n      <td>2</td>\n      <td>35</td>\n      <td>26.531506</td>\n      <td>F</td>\n      <td>CAUC</td>\n      <td>0.023741</td>\n      <td>0.081941</td>\n      <td>0.013243</td>\n      <td>0.064252</td>\n      <td>0.015012</td>\n      <td>...</td>\n      <td>0.662764</td>\n      <td>0.846363</td>\n      <td>0.915651</td>\n      <td>0.891078</td>\n      <td>0.922358</td>\n      <td>0.834874</td>\n      <td>0.804161</td>\n      <td>0.868203</td>\n      <td>0.861794</td>\n      <td>0.890119</td>\n    </tr>\n    <tr>\n      <th>2</th>\n      <td>3</td>\n      <td>37</td>\n      <td>51.479452</td>\n      <td>F</td>\n      <td>AA</td>\n      <td>0.023376</td>\n      <td>0.103914</td>\n      <td>0.010931</td>\n      <td>0.133139</td>\n      <td>0.012881</td>\n      <td>...</td>\n      <td>0.676834</td>\n      <td>0.888116</td>\n      <td>0.941563</td>\n      <td>0.891146</td>\n      <td>0.898969</td>\n      <td>0.907648</td>\n      <td>0.793032</td>\n      <td>0.891126</td>\n      <td>0.862654</td>\n      <td>0.839239</td>\n    </tr>\n    <tr>\n      <th>3</th>\n      <td>4</td>\n      <td>39</td>\n      <td>75.572602</td>\n      <td>F</td>\n      <td>CAUC</td>\n      <td>0.037224</td>\n      <td>0.051119</td>\n      <td>0.022289</td>\n      <td>0.059606</td>\n      <td>0.047412</td>\n      <td>...</td>\n      <td>0.467848</td>\n      <td>0.864944</td>\n      <td>0.925617</td>\n      <td>0.838163</td>\n      <td>0.903046</td>\n      <td>0.726393</td>\n      <td>0.655513</td>\n      <td>0.862524</td>\n      <td>0.815818</td>\n      <td>0.851132</td>\n    </tr>\n    <tr>\n      <th>4</th>\n      <td>5</td>\n      <td>40</td>\n      <td>0.482191</td>\n      <td>F</td>\n      <td>AA</td>\n      <td>0.018712</td>\n      <td>0.10411</td>\n      <td>0.012151</td>\n      <td>0.092799</td>\n      <td>0.017496</td>\n      <td>...</td>\n      <td>0.514251</td>\n      <td>0.851653</td>\n      <td>0.911592</td>\n      <td>0.858332</td>\n      <td>0.92962</td>\n      <td>0.804251</td>\n      <td>0.748435</td>\n      <td>0.863736</td>\n      <td>0.843227</td>\n      <td>0.855469</td>\n    </tr>\n  </tbody>\n</table>\n<p>5 rows × 1803 columns</p>\n</div>"
     },
     "execution_count": 4,
     "metadata": {},
     "output_type": "execute_result"
    }
   ],
   "source": [
    "# Merge dataframes based on patient db Gap Subject ID\n",
    "\n",
    "data.insert(0, 'dbGaP ID', list(data.index))\n",
    "subjects['dbGaP ID'] = subjects['dbGaP ID'].astype('string')\n",
    "data_merged = pd.merge(subjects, data, on='dbGaP ID', how='left')\n",
    "print('Number of patients:', len(data_merged))\n",
    "print('Number of CpG methylation sites:', len(data_merged.columns) - len(subjects.columns))\n",
    "data_merged.head()"
   ],
   "metadata": {
    "collapsed": false,
    "ExecuteTime": {
     "end_time": "2024-11-21T14:42:34.629464Z",
     "start_time": "2024-11-21T14:42:34.612631Z"
    }
   },
   "id": "1b4a9136cbf19ce"
  },
  {
   "cell_type": "code",
   "execution_count": 22,
   "outputs": [
    {
     "data": {
      "text/plain": "<Figure size 500x300 with 1 Axes>",
      "image/png": "[encoded data removed]"
     },
     "metadata": {},
     "output_type": "display_data"
    }
   ],
   "source": [
    "# Take a look if there is a general trend in the data\n",
    "\n",
    "fig, ax = plt.subplots(figsize=(5, 3))\n",
    "data_merged['methyl_means'] = data_merged.iloc[:, 5:].mean(axis=1)  # take mean over rows\n",
    "plt.scatter(data_merged['methyl_means'], data_merged['Age'], s=10)\n",
    "plt.xlabel('Methylation value [a.u.]')\n",
    "plt.ylabel('Age [years]')\n",
    "plt.show()"
   ],
   "metadata": {
    "collapsed": false,
    "ExecuteTime": {
     "end_time": "2024-11-21T16:33:48.654406Z",
     "start_time": "2024-11-21T16:33:48.560209Z"
    }
   },
   "id": "998cddc7929d7d4f"
  },
  {
   "cell_type": "markdown",
   "source": [
    "##### Task 1\n",
    "Which strategies/methods can be used to test if methylation is predictive of Age in this data set ? List some methods and how they can be used to test this. If possible, give software package names that can be used for the strategies you mention."
   ],
   "metadata": {
    "collapsed": false
   },
   "id": "84f5bff5a1688b91"
  },
  {
   "cell_type": "markdown",
   "source": [
    "| Method                                | Description                                                                                                                                                                                           | Packages                                                                                 |\n",
    "|---------------------------------------|-------------------------------------------------------------------------------------------------------------------------------------------------------------------------------------------------------|------------------------------------------------------------------------------------------|\n",
    "| **Correlation**                       | Using coefficients like Pearson correlation values can be calculated and used to show whether methylation significantly depends on age in a linear manner.                                            | scipy.stats                                                                              |\n",
    "| **Linear Regression**                 | After fitting a single- or multivariate linear model to the data, p-values and R^2 may evaluate the quality of the model and thereby the significance of the correlation between methylation and age. | sklearn.linear_model, statsmodels                                                        |\n",
    "| **Principal component analysis (PCA)** | When the dimensionality of the methylation data is reduced, the main components contributing to predicting age can be unraveled.                                                                      | sklearn.decomposition.PCA, statsmodels, sklearn.feature_selection.mutual_info_regression |\n",
    "| **Random Forest**                     | To account for non-linear relationships in the data a random forest can be trained using methylation values as features and age as target.                                                            |          sklearn.ensemble.RandomForestRegressor                                                                                |\n",
    "| **Support Vector Machine (SVM)** | Incorporates non-linear relationships using kernel functions as well by training a Support Vector Regression (SVR) model using methylation values as input. | sklearn.svm.SVR |\n",
    "| **Neural Network (NN)** | Is able to take non-linear relationships into account as well using a multi-layer perceptron (MLP) or deep learning model. But since it requires a large dataset for training, artificial data should be generated in this case before application. | numpy, TensorFlow, PyTorch, keras |\n"
   ],
   "metadata": {
    "collapsed": false
   },
   "id": "15dacd53e594601d"
  },
  {
   "cell_type": "markdown",
   "source": [
    "##### Task 2: Data processing/preparation tasks\n",
    "\n",
    "2a. If you want to do some normalization and/or filtering on the variability of predictive features now is the time. Normalization may not be necessary for CpG methylation. The methylation values are bimodal and might be too complicated to first transform them and do normalization (we ideally need some data transformation to make them look more Gaussian). Such transformation & normalization is optional, and may not impact the model performance so much. [Add on: don’t worry about normalization but you might have to do filtering to reduce the number of variables (CpGs) due to limitations in computing power of your workstations but also predictors that are not variable are not likely to impact your model]"
   ],
   "metadata": {
    "collapsed": false
   },
   "id": "7d2557ecb24a3ddf"
  },
  {
   "cell_type": "markdown",
   "source": [],
   "metadata": {
    "collapsed": false
   },
   "id": "522a5c8c25bd5234"
  },
  {
   "cell_type": "code",
   "execution_count": null,
   "outputs": [],
   "source": [],
   "metadata": {
    "collapsed": false
   },
   "id": "1960dad9417579fb"
  },
  {
   "cell_type": "code",
   "execution_count": null,
   "outputs": [],
   "source": [],
   "metadata": {
    "collapsed": false
   },
   "id": "9337b14155124171"
  },
  {
   "cell_type": "markdown",
   "source": [
    "2b. Randomly select 10% of the samples as a test set. We do training with cross-validation on the 90% and test performance on the test set.     [Add on: If you can’t figure out how to do this, skip this and rely on CV accuracy only to answer questions]\n"
   ],
   "metadata": {
    "collapsed": false
   },
   "id": "a6d96317197982a6"
  },
  {
   "cell_type": "code",
   "execution_count": null,
   "outputs": [],
   "source": [],
   "metadata": {
    "collapsed": false
   },
   "id": "ad4e85cb050b1149"
  },
  {
   "cell_type": "code",
   "execution_count": null,
   "outputs": [],
   "source": [],
   "metadata": {
    "collapsed": false
   },
   "id": "c8ae301394b165f7"
  },
  {
   "cell_type": "markdown",
   "source": [
    "##### Task 3\n",
    " Is methylation predictive of age (previous research indicates so)?  What are the CV performance and test set performance of your model? Pick two strategies you listed for question 1 and implement them to answer this question. "
   ],
   "metadata": {
    "collapsed": false
   },
   "id": "83574539e660b29d"
  },
  {
   "cell_type": "code",
   "execution_count": null,
   "outputs": [],
   "source": [],
   "metadata": {
    "collapsed": false
   },
   "id": "90803ede7e52eaf4"
  },
  {
   "cell_type": "code",
   "execution_count": null,
   "outputs": [],
   "source": [],
   "metadata": {
    "collapsed": false
   },
   "id": "ae89a9dc847ac45d"
  },
  {
   "cell_type": "markdown",
   "source": [
    "##### Task 4\n",
    " Are all CpGs associated with age? If not, which CpGs are more important for age prediction? Do both methods agree have similar variable importance? Plot importance values as barplots for both methods. [Hint: You need to do some sort of variable importance or variable selection for both methods] "
   ],
   "metadata": {
    "collapsed": false
   },
   "id": "9dfa39b3f1857c02"
  },
  {
   "cell_type": "code",
   "execution_count": null,
   "outputs": [],
   "source": [],
   "metadata": {
    "collapsed": false
   },
   "id": "a4b841085b2429c6"
  },
  {
   "cell_type": "code",
   "execution_count": null,
   "outputs": [],
   "source": [],
   "metadata": {
    "collapsed": false
   },
   "id": "5b4d65cb255807e4"
  },
  {
   "cell_type": "markdown",
   "source": [
    "##### Task 5"
   ],
   "metadata": {
    "collapsed": false
   },
   "id": "38bb15b805fbd9e5"
  },
  {
   "cell_type": "markdown",
   "source": [
    "5a. Use a sensible cutoff to define “the most important“ using variable importance from both methods. Are you picking the top 10, top 20, or top x percentile? Just define “the top most important”, not really any wrong answers here. Combine the importance metrics from both methods for a unified importance metric, use your imagination here.\n"
   ],
   "metadata": {
    "collapsed": false
   },
   "id": "963aeb453557d26f"
  },
  {
   "cell_type": "code",
   "execution_count": null,
   "outputs": [],
   "source": [],
   "metadata": {
    "collapsed": false
   },
   "id": "7db464e055d8ebc1"
  },
  {
   "cell_type": "code",
   "execution_count": null,
   "outputs": [],
   "source": [],
   "metadata": {
    "collapsed": false
   },
   "id": "53cf35d6b444a55a"
  },
  {
   "cell_type": "markdown",
   "source": [
    "5b. Then, make a heatmap using CpG methylation values for the most important CpGs, but only cluster the CpGs. The sample columns should be sorted by age but not clustered. You might be able to see a visual pattern of CpG methylation values that is associated with the age of the samples on the heatmap. Can you observe such a pattern, display the heatmap as described above, and explain the pattern you see in writing? \n"
   ],
   "metadata": {
    "collapsed": false
   },
   "id": "ef04d3530f4b6d75"
  },
  {
   "cell_type": "code",
   "execution_count": null,
   "outputs": [],
   "source": [],
   "metadata": {
    "collapsed": false
   },
   "id": "e542a6f33ee8e6bd"
  },
  {
   "cell_type": "code",
   "execution_count": null,
   "outputs": [],
   "source": [],
   "metadata": {
    "collapsed": false
   },
   "id": "30c93154e22591dc"
  },
  {
   "cell_type": "markdown",
   "source": [
    "##### Task 6\n",
    " Pick the top 3 most important variables and build a simple linear model with them to predict the age, what is the performance of this model on the test set? Is it better or worse than the initial machine learning models with more variables? Show an accuracy metric on the test set as bar plot. "
   ],
   "metadata": {
    "collapsed": false
   },
   "id": "a62d9498e862c68f"
  },
  {
   "cell_type": "code",
   "execution_count": null,
   "outputs": [],
   "source": [],
   "metadata": {
    "collapsed": false
   },
   "id": "69f52c4e06ff09be"
  },
  {
   "cell_type": "code",
   "execution_count": null,
   "outputs": [],
   "source": [],
   "metadata": {
    "collapsed": false
   },
   "id": "cb07e5be3585f144"
  }
 ],
 "metadata": {
  "kernelspec": {
   "display_name": "Python 3",
   "language": "python",
   "name": "python3"
  },
  "language_info": {
   "codemirror_mode": {
    "name": "ipython",
    "version": 2
   },
   "file_extension": ".py",
   "mimetype": "text/x-python",
   "name": "python",
   "nbconvert_exporter": "python",
   "pygments_lexer": "ipython2",
   "version": "2.7.6"
  }
 },
 "nbformat": 4,
 "nbformat_minor": 5
}
