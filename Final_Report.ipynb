{
 "cells": [
  {
   "cell_type": "markdown",
   "id": "31a2da9a7158bfb1",
   "metadata": {},
   "source": [
    "# Computational Genetics: Statistics, Supervised and Unsupervised Learning\n",
    "### Final Report (using Python)\n",
    "\n",
    "Olyssa Sperling (614143)\n",
    "\n",
    "olyssa.sperling@student.hu-berlin.de\n",
    "\n",
    "[https://github.com/olxssa/Computational_Genomics](https://github.com/olxssa/Computational_Genomics)\n",
    "\n",
    "Module: Systems Biology: Computational Analysis and Interpretation of High-throughput Data"
   ]
  },
  {
   "cell_type": "markdown",
   "id": "8c30831465b99105",
   "metadata": {},
   "source": [
    "### Background\n",
    "#### 1) CpG methylation data:\n",
    "CpG methylation data refers to information about the methylation status of cytosine-guanine dinucleotides (CpG sites) in DNA. DNA methylation is an epigenetic modification where a methyl group is added to the 5th carbon of the cytosine ring, primarily at CpG sites. Methylation patterns are crucial for normal development and cellular differentiation. There are about 24 million CpG dinucleotides in the human genome. Their methylation status can be measured with quantitative assays and the value is between 0 and 1. If it is 0, the CpG is not methylated in any of the cells in the sample, and if it is 1, the CpG is methylated in all the cells of the sample. CpG methylation data is presented as a table with rows as CpG sites and columns as samples. \n",
    "\n",
    "#### 2) CpG methylation influenced by age:\n",
    "It was shown that methylation is predictive of the age of the individual (Numata, Ye, Hyde, et al. 2012; Horvath 2013). With age, CpG methylation undergoes a combination of global hypomethylation, localized hypermethylation, and epigenetic drift. These patterns are not just markers of aging but also play active roles in age-related diseases. By studying these changes, researchers can better understand the molecular basis of aging and develop interventions to promote healthy aging.\n",
    "\n",
    "Key aspects are:\n",
    "* **Global Hypomethylation**: As individuals age, there is a general loss of methylation across the genome, particularly in repetitive elements and intergenic regions. Hypomethylation in these regions can lead to genomic instability, activation of transposable elements, and inappropriate gene expression\n",
    "\n",
    "\n",
    "* **Local Hypermethylation**: While global hypomethylation occurs, some specific CpG sites, especially in promoter regions of certain genes, become hypermethylated with age. Hypermethylation often occurs in tumor suppressor genes and pathways involved in cell cycle regulation, contributing to age-related diseases, including cancer.\n",
    "\n",
    "* **Epigenetic drift**: Epigenetic drift refers to the stochastic (random) changes in DNA methylation patterns that accumulate with age, leading to increased inter-individual variability in methylation profiles over time. This drift is influenced by both genetic and environmental factors, such as diet, smoking, and exposure to pollutants.\n",
    "\n",
    "* **Age-Associated Differentially Methylated Positions (aDMPs)**: Certain CpG sites show predictable changes in methylation with age, known as age-associated differentially methylated positions (aDMPs). These aDMPs are often enriched in regulatory regions and genes involved in development, such as those in the HOX gene family.\n",
    "\n",
    "*  **Impact on Health**: \n",
    "    * *Cancer*: Age-related methylation changes can lead to hypermethylation of tumor suppressor genes and hypomethylation of oncogenes.\n",
    "    * *Neurodegeneration*: Methylation changes in genes involved in neuronal function and inflammation contribute to conditions like Alzheimer's disease.\n",
    "    * *Immune System Decline*: Age-related methylation patterns in immune-related genes contribute to immunosenescence (decline of immune function)."
   ]
  },
  {
   "cell_type": "markdown",
   "id": "278d49ba2b82f590",
   "metadata": {},
   "source": [
    "#### The dataset\n",
    "The dataset contains CpG methylation values per CpG and per individual as a table (“metRmOlWithDbgapId.txt”). Each column is an individual and each row is a CpG, values in the table are methylation values. The subject/sample/individual ids are on the first row. “subjects.txt” has information on the individuals/samples/subjects. The most important attribute here is age. The ids (db gap ids) in this table should match the columns in the first table. There are other attributes such as sex and race."
   ]
  },
  {
   "cell_type": "markdown",
   "id": "f0065e9aba858fe9",
   "metadata": {},
   "source": [
    "#### The problem\n",
    "The main question is what is the relationship between age and methylation? We explore this with the following tasks. "
   ]
  },
  {
   "cell_type": "code",
   "execution_count": 1,
   "id": "57552df217c8792f",
   "metadata": {
    "ExecuteTime": {
     "end_time": "2024-11-23T09:15:48.675066Z",
     "start_time": "2024-11-23T09:15:48.673082Z"
    }
   },
   "outputs": [],
   "source": [
    "import pandas as pd\n",
    "import numpy as np\n",
    "import matplotlib.pyplot as plt\n",
    "import seaborn as sns"
   ]
  },
  {
   "cell_type": "markdown",
   "id": "6ff8773b23e9dec9",
   "metadata": {},
   "source": [
    "#### Task 0\n",
    "Read tables and merge them or organize them so that you have an age value for each sample/subject. Your predictive variables are CpG methylation values per sample. Ignore other covariates in “subjects.txt” for simplicity, we only care about age. Age can have minus values if the individual is not born yet. "
   ]
  },
  {
   "cell_type": "code",
   "execution_count": 2,
   "id": "c4ff99e12760d6d7",
   "metadata": {
    "ExecuteTime": {
     "end_time": "2024-11-23T09:15:48.689047Z",
     "start_time": "2024-11-23T09:15:48.675985Z"
    }
   },
   "outputs": [
    {
     "data": {
      "text/plain": "   ID  dbGaP ID        Age sex  Race\n0   1        34  63.000000   M  CAUC\n1   2        35  26.531506   F  CAUC\n2   3        37  51.479452   F    AA\n3   4        39  75.572602   F  CAUC\n4   5        40   0.482191   F    AA",
      "text/html": "<div>\n<style scoped>\n    .dataframe tbody tr th:only-of-type {\n        vertical-align: middle;\n    }\n\n    .dataframe tbody tr th {\n        vertical-align: top;\n    }\n\n    .dataframe thead th {\n        text-align: right;\n    }\n</style>\n<table border=\"1\" class=\"dataframe\">\n  <thead>\n    <tr style=\"text-align: right;\">\n      <th></th>\n      <th>ID</th>\n      <th>dbGaP ID</th>\n      <th>Age</th>\n      <th>sex</th>\n      <th>Race</th>\n    </tr>\n  </thead>\n  <tbody>\n    <tr>\n      <th>0</th>\n      <td>1</td>\n      <td>34</td>\n      <td>63.000000</td>\n      <td>M</td>\n      <td>CAUC</td>\n    </tr>\n    <tr>\n      <th>1</th>\n      <td>2</td>\n      <td>35</td>\n      <td>26.531506</td>\n      <td>F</td>\n      <td>CAUC</td>\n    </tr>\n    <tr>\n      <th>2</th>\n      <td>3</td>\n      <td>37</td>\n      <td>51.479452</td>\n      <td>F</td>\n      <td>AA</td>\n    </tr>\n    <tr>\n      <th>3</th>\n      <td>4</td>\n      <td>39</td>\n      <td>75.572602</td>\n      <td>F</td>\n      <td>CAUC</td>\n    </tr>\n    <tr>\n      <th>4</th>\n      <td>5</td>\n      <td>40</td>\n      <td>0.482191</td>\n      <td>F</td>\n      <td>AA</td>\n    </tr>\n  </tbody>\n</table>\n</div>"
     },
     "execution_count": 2,
     "metadata": {},
     "output_type": "execute_result"
    }
   ],
   "source": [
    "# First look into subject data\n",
    "\n",
    "subjects = pd.read_csv('subjects.txt', sep='\\t')\n",
    "subjects.head()"
   ]
  },
  {
   "cell_type": "code",
   "execution_count": 3,
   "id": "f0f4456e40c43c6d",
   "metadata": {
    "ExecuteTime": {
     "end_time": "2024-11-23T09:15:48.732869Z",
     "start_time": "2024-11-23T09:15:48.687466Z"
    }
   },
   "outputs": [
    {
     "data": {
      "text/plain": "dbGapSubjctId cg26211698 cg03790787 cg04672450 cg14324200 cg04485075  \\\n34              0.018852   0.068036   0.009639   0.204592   0.010062   \n35              0.023741   0.081941   0.013243   0.064252   0.015012   \n37              0.023376   0.103914   0.010931   0.133139   0.012881   \n39              0.037224   0.051119   0.022289   0.059606   0.047412   \n40              0.018712    0.10411   0.012151   0.092799   0.017496   \n\ndbGapSubjctId cg19923810 cg21832150 cg02397514 cg08122545 cg20022511  ...  \\\n34              0.800023   0.462352   0.010359   0.014241   0.024511  ...   \n35              0.757389    0.12447    0.00959   0.010681   0.023458  ...   \n37              0.739141    0.37957   0.010761   0.011507   0.019871  ...   \n39              0.689842   0.157468   0.011589   0.021806   0.018534  ...   \n40               0.71269   0.129949   0.016549   0.021869   0.035068  ...   \n\ndbGapSubjctId cg26059632 cg08555657 cg00152644 cg17761453 cg27626424  \\\n34              0.649459   0.880427   0.953906   0.899846   0.914899   \n35              0.662764   0.846363   0.915651   0.891078   0.922358   \n37              0.676834   0.888116   0.941563   0.891146   0.898969   \n39              0.467848   0.864944   0.925617   0.838163   0.903046   \n40              0.514251   0.851653   0.911592   0.858332    0.92962   \n\ndbGapSubjctId cg09448880 cg06275635 cg07039113 cg03165378 cg16139316  \n34              0.868774   0.834703   0.901589   0.888041   0.831972  \n35              0.834874   0.804161   0.868203   0.861794   0.890119  \n37              0.907648   0.793032   0.891126   0.862654   0.839239  \n39              0.726393   0.655513   0.862524   0.815818   0.851132  \n40              0.804251   0.748435   0.863736   0.843227   0.855469  \n\n[5 rows x 1798 columns]",
      "text/html": "<div>\n<style scoped>\n    .dataframe tbody tr th:only-of-type {\n        vertical-align: middle;\n    }\n\n    .dataframe tbody tr th {\n        vertical-align: top;\n    }\n\n    .dataframe thead th {\n        text-align: right;\n    }\n</style>\n<table border=\"1\" class=\"dataframe\">\n  <thead>\n    <tr style=\"text-align: right;\">\n      <th>dbGapSubjctId</th>\n      <th>cg26211698</th>\n      <th>cg03790787</th>\n      <th>cg04672450</th>\n      <th>cg14324200</th>\n      <th>cg04485075</th>\n      <th>cg19923810</th>\n      <th>cg21832150</th>\n      <th>cg02397514</th>\n      <th>cg08122545</th>\n      <th>cg20022511</th>\n      <th>...</th>\n      <th>cg26059632</th>\n      <th>cg08555657</th>\n      <th>cg00152644</th>\n      <th>cg17761453</th>\n      <th>cg27626424</th>\n      <th>cg09448880</th>\n      <th>cg06275635</th>\n      <th>cg07039113</th>\n      <th>cg03165378</th>\n      <th>cg16139316</th>\n    </tr>\n  </thead>\n  <tbody>\n    <tr>\n      <th>34</th>\n      <td>0.018852</td>\n      <td>0.068036</td>\n      <td>0.009639</td>\n      <td>0.204592</td>\n      <td>0.010062</td>\n      <td>0.800023</td>\n      <td>0.462352</td>\n      <td>0.010359</td>\n      <td>0.014241</td>\n      <td>0.024511</td>\n      <td>...</td>\n      <td>0.649459</td>\n      <td>0.880427</td>\n      <td>0.953906</td>\n      <td>0.899846</td>\n      <td>0.914899</td>\n      <td>0.868774</td>\n      <td>0.834703</td>\n      <td>0.901589</td>\n      <td>0.888041</td>\n      <td>0.831972</td>\n    </tr>\n    <tr>\n      <th>35</th>\n      <td>0.023741</td>\n      <td>0.081941</td>\n      <td>0.013243</td>\n      <td>0.064252</td>\n      <td>0.015012</td>\n      <td>0.757389</td>\n      <td>0.12447</td>\n      <td>0.00959</td>\n      <td>0.010681</td>\n      <td>0.023458</td>\n      <td>...</td>\n      <td>0.662764</td>\n      <td>0.846363</td>\n      <td>0.915651</td>\n      <td>0.891078</td>\n      <td>0.922358</td>\n      <td>0.834874</td>\n      <td>0.804161</td>\n      <td>0.868203</td>\n      <td>0.861794</td>\n      <td>0.890119</td>\n    </tr>\n    <tr>\n      <th>37</th>\n      <td>0.023376</td>\n      <td>0.103914</td>\n      <td>0.010931</td>\n      <td>0.133139</td>\n      <td>0.012881</td>\n      <td>0.739141</td>\n      <td>0.37957</td>\n      <td>0.010761</td>\n      <td>0.011507</td>\n      <td>0.019871</td>\n      <td>...</td>\n      <td>0.676834</td>\n      <td>0.888116</td>\n      <td>0.941563</td>\n      <td>0.891146</td>\n      <td>0.898969</td>\n      <td>0.907648</td>\n      <td>0.793032</td>\n      <td>0.891126</td>\n      <td>0.862654</td>\n      <td>0.839239</td>\n    </tr>\n    <tr>\n      <th>39</th>\n      <td>0.037224</td>\n      <td>0.051119</td>\n      <td>0.022289</td>\n      <td>0.059606</td>\n      <td>0.047412</td>\n      <td>0.689842</td>\n      <td>0.157468</td>\n      <td>0.011589</td>\n      <td>0.021806</td>\n      <td>0.018534</td>\n      <td>...</td>\n      <td>0.467848</td>\n      <td>0.864944</td>\n      <td>0.925617</td>\n      <td>0.838163</td>\n      <td>0.903046</td>\n      <td>0.726393</td>\n      <td>0.655513</td>\n      <td>0.862524</td>\n      <td>0.815818</td>\n      <td>0.851132</td>\n    </tr>\n    <tr>\n      <th>40</th>\n      <td>0.018712</td>\n      <td>0.10411</td>\n      <td>0.012151</td>\n      <td>0.092799</td>\n      <td>0.017496</td>\n      <td>0.71269</td>\n      <td>0.129949</td>\n      <td>0.016549</td>\n      <td>0.021869</td>\n      <td>0.035068</td>\n      <td>...</td>\n      <td>0.514251</td>\n      <td>0.851653</td>\n      <td>0.911592</td>\n      <td>0.858332</td>\n      <td>0.92962</td>\n      <td>0.804251</td>\n      <td>0.748435</td>\n      <td>0.863736</td>\n      <td>0.843227</td>\n      <td>0.855469</td>\n    </tr>\n  </tbody>\n</table>\n<p>5 rows × 1798 columns</p>\n</div>"
     },
     "execution_count": 3,
     "metadata": {},
     "output_type": "execute_result"
    }
   ],
   "source": [
    "# First look into methylation data\n",
    "\n",
    "data = pd.read_csv('metRmOlWithDbgapId.txt', sep='\\t')\n",
    "data = data.T\n",
    "data.columns = data.iloc[0]\n",
    "data = data[1:]\n",
    "data.head()"
   ]
  },
  {
   "cell_type": "code",
   "execution_count": 4,
   "id": "1b4a9136cbf19ce",
   "metadata": {
    "ExecuteTime": {
     "end_time": "2024-11-23T09:15:48.750302Z",
     "start_time": "2024-11-23T09:15:48.725543Z"
    }
   },
   "outputs": [
    {
     "name": "stdout",
     "output_type": "stream",
     "text": [
      "Number of patients: 108\n",
      "Number of CpG methylation sites: 1798\n"
     ]
    },
    {
     "data": {
      "text/plain": "   ID dbGaP ID        Age sex  Race cg26211698 cg03790787 cg04672450  \\\n0   1       34  63.000000   M  CAUC   0.018852   0.068036   0.009639   \n1   2       35  26.531506   F  CAUC   0.023741   0.081941   0.013243   \n2   3       37  51.479452   F    AA   0.023376   0.103914   0.010931   \n3   4       39  75.572602   F  CAUC   0.037224   0.051119   0.022289   \n4   5       40   0.482191   F    AA   0.018712    0.10411   0.012151   \n\n  cg14324200 cg04485075  ... cg26059632 cg08555657 cg00152644 cg17761453  \\\n0   0.204592   0.010062  ...   0.649459   0.880427   0.953906   0.899846   \n1   0.064252   0.015012  ...   0.662764   0.846363   0.915651   0.891078   \n2   0.133139   0.012881  ...   0.676834   0.888116   0.941563   0.891146   \n3   0.059606   0.047412  ...   0.467848   0.864944   0.925617   0.838163   \n4   0.092799   0.017496  ...   0.514251   0.851653   0.911592   0.858332   \n\n  cg27626424 cg09448880 cg06275635 cg07039113 cg03165378 cg16139316  \n0   0.914899   0.868774   0.834703   0.901589   0.888041   0.831972  \n1   0.922358   0.834874   0.804161   0.868203   0.861794   0.890119  \n2   0.898969   0.907648   0.793032   0.891126   0.862654   0.839239  \n3   0.903046   0.726393   0.655513   0.862524   0.815818   0.851132  \n4    0.92962   0.804251   0.748435   0.863736   0.843227   0.855469  \n\n[5 rows x 1803 columns]",
      "text/html": "<div>\n<style scoped>\n    .dataframe tbody tr th:only-of-type {\n        vertical-align: middle;\n    }\n\n    .dataframe tbody tr th {\n        vertical-align: top;\n    }\n\n    .dataframe thead th {\n        text-align: right;\n    }\n</style>\n<table border=\"1\" class=\"dataframe\">\n  <thead>\n    <tr style=\"text-align: right;\">\n      <th></th>\n      <th>ID</th>\n      <th>dbGaP ID</th>\n      <th>Age</th>\n      <th>sex</th>\n      <th>Race</th>\n      <th>cg26211698</th>\n      <th>cg03790787</th>\n      <th>cg04672450</th>\n      <th>cg14324200</th>\n      <th>cg04485075</th>\n      <th>...</th>\n      <th>cg26059632</th>\n      <th>cg08555657</th>\n      <th>cg00152644</th>\n      <th>cg17761453</th>\n      <th>cg27626424</th>\n      <th>cg09448880</th>\n      <th>cg06275635</th>\n      <th>cg07039113</th>\n      <th>cg03165378</th>\n      <th>cg16139316</th>\n    </tr>\n  </thead>\n  <tbody>\n    <tr>\n      <th>0</th>\n      <td>1</td>\n      <td>34</td>\n      <td>63.000000</td>\n      <td>M</td>\n      <td>CAUC</td>\n      <td>0.018852</td>\n      <td>0.068036</td>\n      <td>0.009639</td>\n      <td>0.204592</td>\n      <td>0.010062</td>\n      <td>...</td>\n      <td>0.649459</td>\n      <td>0.880427</td>\n      <td>0.953906</td>\n      <td>0.899846</td>\n      <td>0.914899</td>\n      <td>0.868774</td>\n      <td>0.834703</td>\n      <td>0.901589</td>\n      <td>0.888041</td>\n      <td>0.831972</td>\n    </tr>\n    <tr>\n      <th>1</th>\n      <td>2</td>\n      <td>35</td>\n      <td>26.531506</td>\n      <td>F</td>\n      <td>CAUC</td>\n      <td>0.023741</td>\n      <td>0.081941</td>\n      <td>0.013243</td>\n      <td>0.064252</td>\n      <td>0.015012</td>\n      <td>...</td>\n      <td>0.662764</td>\n      <td>0.846363</td>\n      <td>0.915651</td>\n      <td>0.891078</td>\n      <td>0.922358</td>\n      <td>0.834874</td>\n      <td>0.804161</td>\n      <td>0.868203</td>\n      <td>0.861794</td>\n      <td>0.890119</td>\n    </tr>\n    <tr>\n      <th>2</th>\n      <td>3</td>\n      <td>37</td>\n      <td>51.479452</td>\n      <td>F</td>\n      <td>AA</td>\n      <td>0.023376</td>\n      <td>0.103914</td>\n      <td>0.010931</td>\n      <td>0.133139</td>\n      <td>0.012881</td>\n      <td>...</td>\n      <td>0.676834</td>\n      <td>0.888116</td>\n      <td>0.941563</td>\n      <td>0.891146</td>\n      <td>0.898969</td>\n      <td>0.907648</td>\n      <td>0.793032</td>\n      <td>0.891126</td>\n      <td>0.862654</td>\n      <td>0.839239</td>\n    </tr>\n    <tr>\n      <th>3</th>\n      <td>4</td>\n      <td>39</td>\n      <td>75.572602</td>\n      <td>F</td>\n      <td>CAUC</td>\n      <td>0.037224</td>\n      <td>0.051119</td>\n      <td>0.022289</td>\n      <td>0.059606</td>\n      <td>0.047412</td>\n      <td>...</td>\n      <td>0.467848</td>\n      <td>0.864944</td>\n      <td>0.925617</td>\n      <td>0.838163</td>\n      <td>0.903046</td>\n      <td>0.726393</td>\n      <td>0.655513</td>\n      <td>0.862524</td>\n      <td>0.815818</td>\n      <td>0.851132</td>\n    </tr>\n    <tr>\n      <th>4</th>\n      <td>5</td>\n      <td>40</td>\n      <td>0.482191</td>\n      <td>F</td>\n      <td>AA</td>\n      <td>0.018712</td>\n      <td>0.10411</td>\n      <td>0.012151</td>\n      <td>0.092799</td>\n      <td>0.017496</td>\n      <td>...</td>\n      <td>0.514251</td>\n      <td>0.851653</td>\n      <td>0.911592</td>\n      <td>0.858332</td>\n      <td>0.92962</td>\n      <td>0.804251</td>\n      <td>0.748435</td>\n      <td>0.863736</td>\n      <td>0.843227</td>\n      <td>0.855469</td>\n    </tr>\n  </tbody>\n</table>\n<p>5 rows × 1803 columns</p>\n</div>"
     },
     "execution_count": 4,
     "metadata": {},
     "output_type": "execute_result"
    }
   ],
   "source": [
    "# Merge dataframes based on patient db Gap Subject ID\n",
    "\n",
    "data.insert(0, 'dbGaP ID', list(data.index))\n",
    "subjects['dbGaP ID'] = subjects['dbGaP ID'].astype('string')\n",
    "data_merged = pd.merge(subjects, data, on='dbGaP ID', how='left')\n",
    "print('Number of patients:', len(data_merged))\n",
    "print('Number of CpG methylation sites:', len(data_merged.columns) - len(subjects.columns))\n",
    "data_merged.head()"
   ]
  },
  {
   "cell_type": "code",
   "execution_count": 5,
   "outputs": [
    {
     "data": {
      "text/plain": "<Figure size 500x300 with 1 Axes>",
      "image/png": "[encoded data removed]"
     },
     "metadata": {},
     "output_type": "display_data"
    }
   ],
   "source": [
    "# Plot histogram of methylation values\n",
    "\n",
    "methylation_values = data_merged.iloc[:, 5:].values.flatten()\n",
    "\n",
    "fig, ax = plt.subplots(figsize=(5, 3))\n",
    "plt.hist(methylation_values, bins=30, edgecolor=\"white\")\n",
    "plt.title(\"Raw methylation values\")\n",
    "plt.xlabel(\"Methylation values\")\n",
    "plt.ylabel(\"Frequency\")\n",
    "plt.show()"
   ],
   "metadata": {
    "collapsed": false,
    "ExecuteTime": {
     "end_time": "2024-11-23T09:15:48.913382Z",
     "start_time": "2024-11-23T09:15:48.745890Z"
    }
   },
   "id": "efda0fad51474210"
  },
  {
   "cell_type": "code",
   "execution_count": 6,
   "id": "998cddc7929d7d4f",
   "metadata": {
    "ExecuteTime": {
     "end_time": "2024-11-23T09:15:49.067396Z",
     "start_time": "2024-11-23T09:15:48.970521Z"
    }
   },
   "outputs": [
    {
     "data": {
      "text/plain": "<Figure size 500x300 with 1 Axes>",
      "image/png": "[encoded data removed]"
     },
     "metadata": {},
     "output_type": "display_data"
    }
   ],
   "source": [
    "# Take a look if there is a general trend in the data \n",
    "# By taking the mean of methylation values over the rows\n",
    "\n",
    "fig, ax = plt.subplots(figsize=(5, 3))\n",
    "data_merged['methyl_means'] = data_merged.iloc[:, 5:].mean(axis=1)  # take mean over rows\n",
    "plt.scatter(data_merged['methyl_means'], data_merged['Age'], s=10)\n",
    "plt.xlabel('Methylation values')\n",
    "plt.ylabel('Age [years]')\n",
    "plt.show()"
   ]
  },
  {
   "cell_type": "markdown",
   "id": "84f5bff5a1688b91",
   "metadata": {},
   "source": [
    "#### Task 1\n",
    "Which strategies/methods can be used to test if methylation is predictive of Age in this data set ? List some methods and how they can be used to test this. If possible, give software package names that can be used for the strategies you mention."
   ]
  },
  {
   "cell_type": "markdown",
   "id": "15dacd53e594601d",
   "metadata": {},
   "source": [
    "| Method                                | Description                                                                                                                                                                                           | Packages                                                                                 |\n",
    "|---------------------------------------|-------------------------------------------------------------------------------------------------------------------------------------------------------------------------------------------------------|------------------------------------------------------------------------------------------|\n",
    "| **Correlation**                       | Using coefficients like Pearson correlation values can be calculated and used to show whether methylation significantly depends on age in a linear manner.                                            | scipy.stats                                                                              |\n",
    "| **Linear Regression**                 | After fitting a single- or multivariate linear model to the data, p-values and R^2 may evaluate the quality of the model and thereby the significance of the correlation between methylation and age. | sklearn.linear_model, statsmodels                                                        |\n",
    "| **Principal component analysis (PCA)** | When the dimensionality of the methylation data is reduced, the main components contributing to predicting age can be unraveled.                                                                      | sklearn.decomposition.PCA, statsmodels, sklearn.feature_selection.mutual_info_regression |\n",
    "| **Random Forest**                     | To account for non-linear relationships in the data a random forest can be trained using methylation values as features and age as target.                                                            |          sklearn.ensemble.RandomForestRegressor                                                                                |\n",
    "| **Support Vector Machine (SVM)** | Incorporates non-linear relationships using kernel functions as well by training a Support Vector Regression (SVR) model using methylation values as input. | sklearn.svm.SVR |\n",
    "| **Neural Network (NN)** | Is able to take non-linear relationships into account as well using a multi-layer perceptron (MLP) or deep learning model. But since it requires a large dataset for training, artificial data should be generated in this case before application. | numpy, TensorFlow, PyTorch, keras |\n"
   ]
  },
  {
   "cell_type": "markdown",
   "id": "7d2557ecb24a3ddf",
   "metadata": {},
   "source": [
    "#### Task 2: Data processing/preparation tasks\n",
    "\n",
    "##### Task 2a\n",
    "If you want to do some normalization and/or filtering on the variability of predictive features now is the time. Normalization may not be necessary for CpG methylation. The methylation values are bimodal and might be too complicated to first transform them and do normalization (we ideally need some data transformation to make them look more Gaussian). Such transformation & normalization is optional, and may not impact the model performance so much. [Add on: don’t worry about normalization but you might have to do filtering to reduce the number of variables (CpGs) due to limitations in computing power of your workstations but also predictors that are not variable are not likely to impact your model]"
   ]
  },
  {
   "cell_type": "code",
   "execution_count": 7,
   "outputs": [
    {
     "data": {
      "text/plain": "   ID dbGaP ID        Age sex  Race cg26211698 cg03790787 cg04672450  \\\n0   1       34  63.000000   M  CAUC   0.018852   0.068036   0.009639   \n1   2       35  26.531506   F  CAUC   0.023741   0.081941   0.013243   \n2   3       37  51.479452   F    AA   0.023376   0.103914   0.010931   \n3   4       39  75.572602   F  CAUC   0.037224   0.051119   0.022289   \n4   5       40   0.482191   F    AA   0.018712    0.10411   0.012151   \n\n  cg14324200 cg04485075  ... cg08555657 cg00152644 cg17761453 cg27626424  \\\n0   0.204592   0.010062  ...   0.880427   0.953906   0.899846   0.914899   \n1   0.064252   0.015012  ...   0.846363   0.915651   0.891078   0.922358   \n2   0.133139   0.012881  ...   0.888116   0.941563   0.891146   0.898969   \n3   0.059606   0.047412  ...   0.864944   0.925617   0.838163   0.903046   \n4   0.092799   0.017496  ...   0.851653   0.911592   0.858332    0.92962   \n\n  cg09448880 cg06275635 cg07039113 cg03165378 cg16139316 methyl_means  \n0   0.868774   0.834703   0.901589   0.888041   0.831972     0.291738  \n1   0.834874   0.804161   0.868203   0.861794   0.890119     0.284323  \n2   0.907648   0.793032   0.891126   0.862654   0.839239     0.290804  \n3   0.726393   0.655513   0.862524   0.815818   0.851132     0.283568  \n4   0.804251   0.748435   0.863736   0.843227   0.855469     0.269217  \n\n[5 rows x 1804 columns]",
      "text/html": "<div>\n<style scoped>\n    .dataframe tbody tr th:only-of-type {\n        vertical-align: middle;\n    }\n\n    .dataframe tbody tr th {\n        vertical-align: top;\n    }\n\n    .dataframe thead th {\n        text-align: right;\n    }\n</style>\n<table border=\"1\" class=\"dataframe\">\n  <thead>\n    <tr style=\"text-align: right;\">\n      <th></th>\n      <th>ID</th>\n      <th>dbGaP ID</th>\n      <th>Age</th>\n      <th>sex</th>\n      <th>Race</th>\n      <th>cg26211698</th>\n      <th>cg03790787</th>\n      <th>cg04672450</th>\n      <th>cg14324200</th>\n      <th>cg04485075</th>\n      <th>...</th>\n      <th>cg08555657</th>\n      <th>cg00152644</th>\n      <th>cg17761453</th>\n      <th>cg27626424</th>\n      <th>cg09448880</th>\n      <th>cg06275635</th>\n      <th>cg07039113</th>\n      <th>cg03165378</th>\n      <th>cg16139316</th>\n      <th>methyl_means</th>\n    </tr>\n  </thead>\n  <tbody>\n    <tr>\n      <th>0</th>\n      <td>1</td>\n      <td>34</td>\n      <td>63.000000</td>\n      <td>M</td>\n      <td>CAUC</td>\n      <td>0.018852</td>\n      <td>0.068036</td>\n      <td>0.009639</td>\n      <td>0.204592</td>\n      <td>0.010062</td>\n      <td>...</td>\n      <td>0.880427</td>\n      <td>0.953906</td>\n      <td>0.899846</td>\n      <td>0.914899</td>\n      <td>0.868774</td>\n      <td>0.834703</td>\n      <td>0.901589</td>\n      <td>0.888041</td>\n      <td>0.831972</td>\n      <td>0.291738</td>\n    </tr>\n    <tr>\n      <th>1</th>\n      <td>2</td>\n      <td>35</td>\n      <td>26.531506</td>\n      <td>F</td>\n      <td>CAUC</td>\n      <td>0.023741</td>\n      <td>0.081941</td>\n      <td>0.013243</td>\n      <td>0.064252</td>\n      <td>0.015012</td>\n      <td>...</td>\n      <td>0.846363</td>\n      <td>0.915651</td>\n      <td>0.891078</td>\n      <td>0.922358</td>\n      <td>0.834874</td>\n      <td>0.804161</td>\n      <td>0.868203</td>\n      <td>0.861794</td>\n      <td>0.890119</td>\n      <td>0.284323</td>\n    </tr>\n    <tr>\n      <th>2</th>\n      <td>3</td>\n      <td>37</td>\n      <td>51.479452</td>\n      <td>F</td>\n      <td>AA</td>\n      <td>0.023376</td>\n      <td>0.103914</td>\n      <td>0.010931</td>\n      <td>0.133139</td>\n      <td>0.012881</td>\n      <td>...</td>\n      <td>0.888116</td>\n      <td>0.941563</td>\n      <td>0.891146</td>\n      <td>0.898969</td>\n      <td>0.907648</td>\n      <td>0.793032</td>\n      <td>0.891126</td>\n      <td>0.862654</td>\n      <td>0.839239</td>\n      <td>0.290804</td>\n    </tr>\n    <tr>\n      <th>3</th>\n      <td>4</td>\n      <td>39</td>\n      <td>75.572602</td>\n      <td>F</td>\n      <td>CAUC</td>\n      <td>0.037224</td>\n      <td>0.051119</td>\n      <td>0.022289</td>\n      <td>0.059606</td>\n      <td>0.047412</td>\n      <td>...</td>\n      <td>0.864944</td>\n      <td>0.925617</td>\n      <td>0.838163</td>\n      <td>0.903046</td>\n      <td>0.726393</td>\n      <td>0.655513</td>\n      <td>0.862524</td>\n      <td>0.815818</td>\n      <td>0.851132</td>\n      <td>0.283568</td>\n    </tr>\n    <tr>\n      <th>4</th>\n      <td>5</td>\n      <td>40</td>\n      <td>0.482191</td>\n      <td>F</td>\n      <td>AA</td>\n      <td>0.018712</td>\n      <td>0.10411</td>\n      <td>0.012151</td>\n      <td>0.092799</td>\n      <td>0.017496</td>\n      <td>...</td>\n      <td>0.851653</td>\n      <td>0.911592</td>\n      <td>0.858332</td>\n      <td>0.92962</td>\n      <td>0.804251</td>\n      <td>0.748435</td>\n      <td>0.863736</td>\n      <td>0.843227</td>\n      <td>0.855469</td>\n      <td>0.269217</td>\n    </tr>\n  </tbody>\n</table>\n<p>5 rows × 1804 columns</p>\n</div>"
     },
     "execution_count": 7,
     "metadata": {},
     "output_type": "execute_result"
    }
   ],
   "source": [
    "# Remove predictor variables with np.NaNs \n",
    "\n",
    "data_merged.head()"
   ],
   "metadata": {
    "collapsed": false,
    "ExecuteTime": {
     "end_time": "2024-11-23T09:15:49.076565Z",
     "start_time": "2024-11-23T09:15:49.062281Z"
    }
   },
   "id": "680e1524325acf61"
  },
  {
   "cell_type": "code",
   "execution_count": 76,
   "outputs": [
    {
     "name": "stdout",
     "output_type": "stream",
     "text": [
      "Count of zeros in methylation data: 92\n"
     ]
    }
   ],
   "source": [
    "# Count how many zeros are present in data\n",
    "\n",
    "print('Count of zeros in methylation data:', data_merged.iloc[:, 5:].isnull().sum().sum())"
   ],
   "metadata": {
    "collapsed": false,
    "ExecuteTime": {
     "end_time": "2024-11-23T09:35:15.641415Z",
     "start_time": "2024-11-23T09:35:15.636257Z"
    }
   },
   "id": "2120d64af8e8badd"
  },
  {
   "cell_type": "markdown",
   "source": [
    "Since the size of the data is very limited we will not be removing predictor values containing zeros, but adding a small pseudo-count to ensure safe calculations later:"
   ],
   "metadata": {
    "collapsed": false
   },
   "id": "258aa8405587cbc5"
  },
  {
   "cell_type": "code",
   "execution_count": 77,
   "outputs": [],
   "source": [
    "# Add pseudo-counts to all values\n",
    "\n",
    "data_merged.iloc[:, 5:] += 0.01"
   ],
   "metadata": {
    "collapsed": false,
    "ExecuteTime": {
     "end_time": "2024-11-23T09:35:17.831147Z",
     "start_time": "2024-11-23T09:35:17.767068Z"
    }
   },
   "id": "1a3ebae358b24a64"
  },
  {
   "cell_type": "markdown",
   "source": [
    "In order to decrease computing time predictor variables with low variation across samples are removed:"
   ],
   "metadata": {
    "collapsed": false
   },
   "id": "3c7ca06c02d51086"
  },
  {
   "cell_type": "code",
   "execution_count": 86,
   "outputs": [
    {
     "name": "stdout",
     "output_type": "stream",
     "text": [
      "Number of predictor variables before filtering: 1799\n",
      "Number of predictor variables after filtering: 444\n"
     ]
    }
   ],
   "source": [
    "# Remove predictor variables with a low variation across samples\n",
    "\n",
    "# Ensure all columns are numeric\n",
    "data_merged_numeric = data_merged.iloc[:, 5:].apply(pd.to_numeric, errors='coerce')\n",
    "\n",
    "# Convert the dataframe to a NumPy array\n",
    "data_matrix = data_merged_numeric.to_numpy()\n",
    "\n",
    "# Calculate standard deviations for each column\n",
    "column_sds = np.std(data_matrix, axis=0)\n",
    "\n",
    "# Retain columns with SD > 0.05\n",
    "filtered_columns = column_sds > 0.05\n",
    "\n",
    "# Keep the first 5 columns and the filtered columns\n",
    "data_merged_filtered = data_merged.iloc[:, np.r_[0:4, np.where(filtered_columns)[0]+1]]\n",
    "\n",
    "# Get the dimensions of the filtered dataset\n",
    "print('Number of predictor variables before filtering:', len(data_merged.iloc[:, 5:].columns))\n",
    "print('Number of predictor variables after filtering:', len(data_merged_filtered.iloc[:, 5:].columns))"
   ],
   "metadata": {
    "collapsed": false,
    "ExecuteTime": {
     "end_time": "2024-11-23T09:41:31.264923Z",
     "start_time": "2024-11-23T09:41:31.157214Z"
    }
   },
   "id": "7f80e0f3c00baf80"
  },
  {
   "cell_type": "code",
   "execution_count": 79,
   "id": "9337b14155124171",
   "metadata": {
    "ExecuteTime": {
     "end_time": "2024-11-23T09:35:27.996220Z",
     "start_time": "2024-11-23T09:35:27.901316Z"
    }
   },
   "outputs": [
    {
     "data": {
      "text/plain": "<Figure size 500x300 with 1 Axes>",
      "image/png": "[encoded data removed]"
     },
     "metadata": {},
     "output_type": "display_data"
    }
   ],
   "source": [
    "# Plot histogram of filtered methylation values\n",
    "\n",
    "methylation_values_filtered = data_merged_filtered.iloc[:, 5:].values.flatten().astype(float)\n",
    "\n",
    "fig, ax = plt.subplots(figsize=(5, 3))\n",
    "plt.hist(methylation_values_filtered, bins=30, edgecolor=\"white\")\n",
    "plt.title(\"Filtered methylation values\")\n",
    "plt.xlabel(\"Methylation values\")\n",
    "plt.ylabel(\"Frequency\")\n",
    "plt.show()"
   ]
  },
  {
   "cell_type": "markdown",
   "id": "a6d96317197982a6",
   "metadata": {},
   "source": [
    "##### Task 2b\n",
    "Randomly select 10% of the samples as a test set. We do training with cross-validation on the 90% and test performance on the test set.     [Add on: If you can’t figure out how to do this, skip this and rely on CV accuracy only to answer questions]\n"
   ]
  },
  {
   "cell_type": "code",
   "execution_count": 10,
   "id": "ad4e85cb050b1149",
   "metadata": {
    "ExecuteTime": {
     "end_time": "2024-11-23T09:15:49.421968Z",
     "start_time": "2024-11-23T09:15:49.317194Z"
    }
   },
   "outputs": [],
   "source": [
    "# Splitting data into 90 % training and 10 % test\n",
    "\n",
    "from sklearn.model_selection import train_test_split\n",
    "\n",
    "random_seed = 51\n",
    "\n",
    "training, testing = train_test_split(data_merged_filtered, \n",
    "                                     test_size=0.1, \n",
    "                                     random_state=random_seed)"
   ]
  },
  {
   "cell_type": "code",
   "execution_count": 11,
   "outputs": [
    {
     "name": "stdout",
     "output_type": "stream",
     "text": [
      "Cross-validation results:\n",
      "\n",
      "R-squared scores across folds: [0.90893514 0.91637122 0.81288823 0.82986391 0.884526  ]\n",
      "Mean R-squared: 0.871\n",
      "Standard Deviation of R-squared: 0.042\n",
      "Mean Squared Error across folds: [ 60.6729371   60.73710536 105.2878007  145.7203985   60.19595188]\n",
      "Mean MSE: 86.523\n"
     ]
    }
   ],
   "source": [
    "# Training of a random forest model with cross-validation\n",
    "\n",
    "from sklearn.model_selection import cross_val_score, KFold\n",
    "from sklearn.ensemble import RandomForestRegressor\n",
    "from sklearn.metrics import make_scorer, mean_squared_error, r2_score\n",
    "\n",
    "random_seed = 51\n",
    "\n",
    "# Define the feature set (X) and target variable (y) of training set\n",
    "X_train = training.iloc[:, 5:]  # Features\n",
    "y_train = training['Age']  # Target variable (continuous)\n",
    "\n",
    "# Initialize the model\n",
    "rf_model = RandomForestRegressor(n_estimators=100, random_state=random_seed)\n",
    "\n",
    "# Define cross-validation strategy\n",
    "cv = KFold(n_splits=5, shuffle=True, random_state=random_seed)\n",
    "\n",
    "print(\"Cross-validation results:\")\n",
    "\n",
    "# Calculate R-squared scores using cross-validation\n",
    "r2_scores = cross_val_score(rf_model, X_train, y_train, cv=cv, scoring='r2')\n",
    "print(f\"\\nR-squared scores across folds: {r2_scores}\")\n",
    "print(f\"Mean R-squared: {r2_scores.mean():.3f}\")\n",
    "print(f\"Standard Deviation of R-squared: {r2_scores.std():.3f}\")\n",
    "\n",
    "# Calculate Mean Squared Error (MSE)\n",
    "mse_scores = cross_val_score(rf_model, X_train, y_train, cv=cv, scoring=make_scorer(mean_squared_error))\n",
    "print(f\"Mean Squared Error across folds: {mse_scores}\")\n",
    "print(f\"Mean MSE: {mse_scores.mean():.3f}\")"
   ],
   "metadata": {
    "collapsed": false,
    "ExecuteTime": {
     "end_time": "2024-11-23T09:15:51.916762Z",
     "start_time": "2024-11-23T09:15:49.424808Z"
    }
   },
   "id": "bc52bb09778663eb"
  },
  {
   "cell_type": "code",
   "execution_count": 12,
   "outputs": [
    {
     "data": {
      "text/plain": "RandomForestRegressor(random_state=51)",
      "text/html": "<style>#sk-container-id-1 {color: black;}#sk-container-id-1 pre{padding: 0;}#sk-container-id-1 div.sk-toggleable {background-color: white;}#sk-container-id-1 label.sk-toggleable__label {cursor: pointer;display: block;width: 100%;margin-bottom: 0;padding: 0.3em;box-sizing: border-box;text-align: center;}#sk-container-id-1 label.sk-toggleable__label-arrow:before {content: \"▸\";float: left;margin-right: 0.25em;color: #696969;}#sk-container-id-1 label.sk-toggleable__label-arrow:hover:before {color: black;}#sk-container-id-1 div.sk-estimator:hover label.sk-toggleable__label-arrow:before {color: black;}#sk-container-id-1 div.sk-toggleable__content {max-height: 0;max-width: 0;overflow: hidden;text-align: left;background-color: #f0f8ff;}#sk-container-id-1 div.sk-toggleable__content pre {margin: 0.2em;color: black;border-radius: 0.25em;background-color: #f0f8ff;}#sk-container-id-1 input.sk-toggleable__control:checked~div.sk-toggleable__content {max-height: 200px;max-width: 100%;overflow: auto;}#sk-container-id-1 input.sk-toggleable__control:checked~label.sk-toggleable__label-arrow:before {content: \"▾\";}#sk-container-id-1 div.sk-estimator input.sk-toggleable__control:checked~label.sk-toggleable__label {background-color: #d4ebff;}#sk-container-id-1 div.sk-label input.sk-toggleable__control:checked~label.sk-toggleable__label {background-color: #d4ebff;}#sk-container-id-1 input.sk-hidden--visually {border: 0;clip: rect(1px 1px 1px 1px);clip: rect(1px, 1px, 1px, 1px);height: 1px;margin: -1px;overflow: hidden;padding: 0;position: absolute;width: 1px;}#sk-container-id-1 div.sk-estimator {font-family: monospace;background-color: #f0f8ff;border: 1px dotted black;border-radius: 0.25em;box-sizing: border-box;margin-bottom: 0.5em;}#sk-container-id-1 div.sk-estimator:hover {background-color: #d4ebff;}#sk-container-id-1 div.sk-parallel-item::after {content: \"\";width: 100%;border-bottom: 1px solid gray;flex-grow: 1;}#sk-container-id-1 div.sk-label:hover label.sk-toggleable__label {background-color: #d4ebff;}#sk-container-id-1 div.sk-serial::before {content: \"\";position: absolute;border-left: 1px solid gray;box-sizing: border-box;top: 0;bottom: 0;left: 50%;z-index: 0;}#sk-container-id-1 div.sk-serial {display: flex;flex-direction: column;align-items: center;background-color: white;padding-right: 0.2em;padding-left: 0.2em;position: relative;}#sk-container-id-1 div.sk-item {position: relative;z-index: 1;}#sk-container-id-1 div.sk-parallel {display: flex;align-items: stretch;justify-content: center;background-color: white;position: relative;}#sk-container-id-1 div.sk-item::before, #sk-container-id-1 div.sk-parallel-item::before {content: \"\";position: absolute;border-left: 1px solid gray;box-sizing: border-box;top: 0;bottom: 0;left: 50%;z-index: -1;}#sk-container-id-1 div.sk-parallel-item {display: flex;flex-direction: column;z-index: 1;position: relative;background-color: white;}#sk-container-id-1 div.sk-parallel-item:first-child::after {align-self: flex-end;width: 50%;}#sk-container-id-1 div.sk-parallel-item:last-child::after {align-self: flex-start;width: 50%;}#sk-container-id-1 div.sk-parallel-item:only-child::after {width: 0;}#sk-container-id-1 div.sk-dashed-wrapped {border: 1px dashed gray;margin: 0 0.4em 0.5em 0.4em;box-sizing: border-box;padding-bottom: 0.4em;background-color: white;}#sk-container-id-1 div.sk-label label {font-family: monospace;font-weight: bold;display: inline-block;line-height: 1.2em;}#sk-container-id-1 div.sk-label-container {text-align: center;}#sk-container-id-1 div.sk-container {/* jupyter's `normalize.less` sets `[hidden] { display: none; }` but bootstrap.min.css set `[hidden] { display: none !important; }` so we also need the `!important` here to be able to override the default hidden behavior on the sphinx rendered scikit-learn.org. See: https://github.com/scikit-learn/scikit-learn/issues/21755 */display: inline-block !important;position: relative;}#sk-container-id-1 div.sk-text-repr-fallback {display: none;}</style><div id=\"sk-container-id-1\" class=\"sk-top-container\"><div class=\"sk-text-repr-fallback\"><pre>RandomForestRegressor(random_state=51)</pre><b>In a Jupyter environment, please rerun this cell to show the HTML representation or trust the notebook. <br />On GitHub, the HTML representation is unable to render, please try loading this page with nbviewer.org.</b></div><div class=\"sk-container\" hidden><div class=\"sk-item\"><div class=\"sk-estimator sk-toggleable\"><input class=\"sk-toggleable__control sk-hidden--visually\" id=\"sk-estimator-id-1\" type=\"checkbox\" checked><label for=\"sk-estimator-id-1\" class=\"sk-toggleable__label sk-toggleable__label-arrow\">RandomForestRegressor</label><div class=\"sk-toggleable__content\"><pre>RandomForestRegressor(random_state=51)</pre></div></div></div></div></div>"
     },
     "execution_count": 12,
     "metadata": {},
     "output_type": "execute_result"
    }
   ],
   "source": [
    "# Train the model on the entire training set\n",
    "\n",
    "rf_model.fit(X_train, y_train)"
   ],
   "metadata": {
    "collapsed": false,
    "ExecuteTime": {
     "end_time": "2024-11-23T09:15:52.218637Z",
     "start_time": "2024-11-23T09:15:51.925018Z"
    }
   },
   "id": "952f04b4e5e294d8"
  },
  {
   "cell_type": "code",
   "execution_count": 13,
   "outputs": [
    {
     "name": "stdout",
     "output_type": "stream",
     "text": [
      "Model performance tested on the testing set:\n",
      "\n",
      "R-squared: 0.933\n",
      "Mean Squared Error (MSE): 49.896\n"
     ]
    }
   ],
   "source": [
    "# Testing the model on the testing set\n",
    "\n",
    "# Define the feature set (X) and target variable (y) of testing set\n",
    "X_test = testing.iloc[:, 5:]  # Features\n",
    "y_test = testing['Age']  # Target variable (continuous)\n",
    "\n",
    "# Predict on the test data\n",
    "y_pred = rf_model.predict(X_test)\n",
    "\n",
    "# Calculate R-squared and Mean Squared Error (MSE) on the test set\n",
    "r2_test = r2_score(y_test, y_pred)\n",
    "mse_test = mean_squared_error(y_test, y_pred)\n",
    "\n",
    "# Output test set performance\n",
    "print(\"Model performance tested on the testing set:\")\n",
    "print(f\"\\nR-squared: {r2_test:.3f}\")\n",
    "print(f\"Mean Squared Error (MSE): {mse_test:.3f}\")"
   ],
   "metadata": {
    "collapsed": false,
    "ExecuteTime": {
     "end_time": "2024-11-23T09:15:52.229613Z",
     "start_time": "2024-11-23T09:15:52.223608Z"
    }
   },
   "id": "9974170bf131efe5"
  },
  {
   "cell_type": "markdown",
   "id": "83574539e660b29d",
   "metadata": {},
   "source": [
    "#### Task 3\n",
    " Is methylation predictive of age (previous research indicates so)?  What are the CV performance and test set performance of your model? Pick two strategies you listed for question 1 and implement them to answer this question. "
   ]
  },
  {
   "cell_type": "code",
   "execution_count": 13,
   "id": "90803ede7e52eaf4",
   "metadata": {
    "ExecuteTime": {
     "end_time": "2024-11-23T09:15:52.229720Z",
     "start_time": "2024-11-23T09:15:52.227294Z"
    }
   },
   "outputs": [],
   "source": []
  },
  {
   "cell_type": "code",
   "execution_count": 13,
   "id": "ae89a9dc847ac45d",
   "metadata": {
    "ExecuteTime": {
     "end_time": "2024-11-23T09:15:52.231532Z",
     "start_time": "2024-11-23T09:15:52.229580Z"
    }
   },
   "outputs": [],
   "source": []
  },
  {
   "cell_type": "markdown",
   "id": "9dfa39b3f1857c02",
   "metadata": {},
   "source": [
    "#### Task 4\n",
    " Are all CpGs associated with age? If not, which CpGs are more important for age prediction? Do both methods agree have similar variable importance? Plot importance values as barplots for both methods. [Hint: You need to do some sort of variable importance or variable selection for both methods] "
   ]
  },
  {
   "cell_type": "code",
   "execution_count": 13,
   "id": "a4b841085b2429c6",
   "metadata": {
    "ExecuteTime": {
     "end_time": "2024-11-23T09:15:52.235858Z",
     "start_time": "2024-11-23T09:15:52.231725Z"
    }
   },
   "outputs": [],
   "source": []
  },
  {
   "cell_type": "code",
   "execution_count": 13,
   "id": "5b4d65cb255807e4",
   "metadata": {
    "ExecuteTime": {
     "end_time": "2024-11-23T09:15:52.236875Z",
     "start_time": "2024-11-23T09:15:52.233975Z"
    }
   },
   "outputs": [],
   "source": []
  },
  {
   "cell_type": "markdown",
   "id": "38bb15b805fbd9e5",
   "metadata": {},
   "source": [
    "#### Task 5\n",
    "\n",
    "##### Task 5a\n",
    "Use a sensible cutoff to define “the most important“ using variable importance from both methods. Are you picking the top 10, top 20, or top x percentile? Just define “the top most important”, not really any wrong answers here. Combine the importance metrics from both methods for a unified importance metric, use your imagination here."
   ]
  },
  {
   "cell_type": "code",
   "execution_count": 13,
   "id": "7db464e055d8ebc1",
   "metadata": {
    "ExecuteTime": {
     "end_time": "2024-11-23T09:15:52.249313Z",
     "start_time": "2024-11-23T09:15:52.236424Z"
    }
   },
   "outputs": [],
   "source": []
  },
  {
   "cell_type": "code",
   "execution_count": 13,
   "id": "53cf35d6b444a55a",
   "metadata": {
    "ExecuteTime": {
     "end_time": "2024-11-23T09:15:52.249458Z",
     "start_time": "2024-11-23T09:15:52.239020Z"
    }
   },
   "outputs": [],
   "source": []
  },
  {
   "cell_type": "markdown",
   "id": "ef04d3530f4b6d75",
   "metadata": {},
   "source": [
    "##### Task 5b\n",
    "Then, make a heatmap using CpG methylation values for the most important CpGs, but only cluster the CpGs. The sample columns should be sorted by age but not clustered. You might be able to see a visual pattern of CpG methylation values that is associated with the age of the samples on the heatmap. Can you observe such a pattern, display the heatmap as described above, and explain the pattern you see in writing? \n"
   ]
  },
  {
   "cell_type": "code",
   "execution_count": 13,
   "id": "e542a6f33ee8e6bd",
   "metadata": {
    "ExecuteTime": {
     "end_time": "2024-11-23T09:15:52.249786Z",
     "start_time": "2024-11-23T09:15:52.241035Z"
    }
   },
   "outputs": [],
   "source": []
  },
  {
   "cell_type": "code",
   "execution_count": 13,
   "id": "30c93154e22591dc",
   "metadata": {
    "ExecuteTime": {
     "end_time": "2024-11-23T09:15:52.249927Z",
     "start_time": "2024-11-23T09:15:52.242930Z"
    }
   },
   "outputs": [],
   "source": []
  },
  {
   "cell_type": "markdown",
   "id": "a62d9498e862c68f",
   "metadata": {},
   "source": [
    "#### Task 6\n",
    " Pick the top 3 most important variables and build a simple linear model with them to predict the age, what is the performance of this model on the test set? Is it better or worse than the initial machine learning models with more variables? Show an accuracy metric on the test set as bar plot. "
   ]
  },
  {
   "cell_type": "code",
   "execution_count": 13,
   "id": "69f52c4e06ff09be",
   "metadata": {
    "ExecuteTime": {
     "end_time": "2024-11-23T09:15:52.250078Z",
     "start_time": "2024-11-23T09:15:52.245099Z"
    }
   },
   "outputs": [],
   "source": []
  },
  {
   "cell_type": "code",
   "execution_count": 13,
   "id": "cb07e5be3585f144",
   "metadata": {
    "ExecuteTime": {
     "end_time": "2024-11-23T09:15:52.250134Z",
     "start_time": "2024-11-23T09:15:52.247290Z"
    }
   },
   "outputs": [],
   "source": []
  }
 ],
 "metadata": {
  "kernelspec": {
   "display_name": "Python 3 (ipykernel)",
   "language": "python",
   "name": "python3"
  },
  "language_info": {
   "codemirror_mode": {
    "name": "ipython",
    "version": 3
   },
   "file_extension": ".py",
   "mimetype": "text/x-python",
   "name": "python",
   "nbconvert_exporter": "python",
   "pygments_lexer": "ipython3",
   "version": "3.9.12"
  }
 },
 "nbformat": 4,
 "nbformat_minor": 5
}
