{
 "cells": [
  {
   "cell_type": "markdown",
   "source": [
    "# Computational Genetics: Statistics, Supervised and Unsupervised Learning\n",
    "### Final Report (using Python)\n",
    "Olyssa Sperling (614143)\n",
    "olyssa.sperling@student.hu-berlin.de\n",
    "Module: Systems Biology: Computational Analysis and Interpretation of High-throughput Data"
   ],
   "metadata": {
    "collapsed": false
   },
   "id": "31a2da9a7158bfb1"
  },
  {
   "cell_type": "markdown",
   "source": [
    "#### Background\n",
    "##### 1) CpG methylation data:\n",
    "CpG methylation data refers to information about the methylation status of cytosine-guanine dinucleotides (CpG sites) in DNA. DNA methylation is an epigenetic modification where a methyl group is added to the 5th carbon of the cytosine ring, primarily at CpG sites. Methylation patterns are crucial for normal development and cellular differentiation. CpG methylation data is often presented as a table with rows as CpG sites and columns as samples.\n",
    "\n",
    "#####\n",
    "##### 2) CpG methylation influenced by age:\n",
    "With age, CpG methylation undergoes a combination of global hypomethylation, localized hypermethylation, and epigenetic drift. These patterns are not just markers of aging but also play active roles in age-related diseases. By studying these changes, researchers can better understand the molecular basis of aging and develop interventions to promote healthy aging.\n",
    "\n",
    "Key aspects are:\n",
    "* **Global Hypomethylation**: As individuals age, there is a general loss of methylation across the genome, particularly in repetitive elements and intergenic regions. Hypomethylation in these regions can lead to genomic instability, activation of transposable elements, and inappropriate gene expression\n",
    "\n",
    "\n",
    "* **Local Hypermethylation**: While global hypomethylation occurs, some specific CpG sites, especially in promoter regions of certain genes, become hypermethylated with age. Hypermethylation often occurs in tumor suppressor genes and pathways involved in cell cycle regulation, contributing to age-related diseases, including cancer.\n",
    "\n",
    "* **Epigenetic drift**: Epigenetic drift refers to the stochastic (random) changes in DNA methylation patterns that accumulate with age, leading to increased inter-individual variability in methylation profiles over time. This drift is influenced by both genetic and environmental factors, such as diet, smoking, and exposure to pollutants.\n",
    "\n",
    "* **Age-Associated Differentially Methylated Positions (aDMPs)**: Certain CpG sites show predictable changes in methylation with age, known as age-associated differentially methylated positions (aDMPs). These aDMPs are often enriched in regulatory regions and genes involved in development, such as those in the HOX gene family.\n",
    "\n",
    "*  **Impact on Health**: \n",
    "    * *Cancer*: Age-related methylation changes can lead to hypermethylation of tumor suppressor genes and hypomethylation of oncogenes.\n",
    "    * *Neurodegeneration*: Methylation changes in genes involved in neuronal function and inflammation contribute to conditions like Alzheimer's disease.\n",
    "    * *Immune System Decline*: Age-related methylation patterns in immune-related genes contribute to immunosenescence (decline of immune function)."
   ],
   "metadata": {
    "collapsed": false
   },
   "id": "8c30831465b99105"
  },
  {
   "cell_type": "markdown",
   "source": [
    "#### The dataset\n",
    "The dataset contains CpG methylation values per CpG and per individual as a table (“metRmOlWithDbgapId.txt”). Each column is an individual and each row is a CpG, values in the table are methylation values. The subject/sample/individual ids are on the first row. “subjects.txt” has information on the individuals/samples/subjects. The most important attribute here is age. The ids (db gap ids) in this table should match the columns in the first table. There are other attributes such as sex and race."
   ],
   "metadata": {
    "collapsed": false
   },
   "id": "278d49ba2b82f590"
  },
  {
   "cell_type": "markdown",
   "source": [
    "#### The Problem\n",
    "The main question is what is the relationship between age and methylation? We explore this with the following tasks. "
   ],
   "metadata": {
    "collapsed": false
   },
   "id": "f0065e9aba858fe9"
  },
  {
   "cell_type": "markdown",
   "source": [
    "##### A) Theory"
   ],
   "metadata": {
    "collapsed": false
   },
   "id": "7789d5defb98df3b"
  },
  {
   "cell_type": "markdown",
   "source": [
    "0. Read tables and merge them or organize them so that you have an age value for each sample/subject. Your predictive variables are CpG methylation values per sample. Ignore other covariates in “subjects.txt” for simplicity, we only care about age. Age can have minus values if the individual is not born yet. "
   ],
   "metadata": {
    "collapsed": false
   },
   "id": "6ff8773b23e9dec9"
  },
  {
   "cell_type": "markdown",
   "source": [
    "1. Which strategies/methods can be used to test if methylation is predictive of Age in this data set ? List some methods and how they can be used to test this. If possible, give software package names that can be used for the strategies you mention."
   ],
   "metadata": {
    "collapsed": false
   },
   "id": "84f5bff5a1688b91"
  },
  {
   "cell_type": "markdown",
   "source": [
    "##### B) Practical"
   ],
   "metadata": {
    "collapsed": false
   },
   "id": "4284cac39d10fc4f"
  },
  {
   "cell_type": "markdown",
   "source": [
    "2. Data processing/preparation tasks\n",
    "\n",
    "2a. If you want to do some normalization and/or filtering on the variability of predictive features now is the time. Normalization may not be necessary for CpG methylation. The methylation values are bimodal and might be too complicated to first transform them and do normalization (we ideally need some data transformation to make them look more Gaussian). Such transformation & normalization is optional, and may not impact the model performance so much. [Add on: don’t worry about normalization but you might have to do filtering to reduce the number of variables (CpGs) due to limitations in computing power of your workstations but also predictors that are not variable are not likely to impact your model]"
   ],
   "metadata": {
    "collapsed": false
   },
   "id": "7d2557ecb24a3ddf"
  },
  {
   "cell_type": "markdown",
   "source": [],
   "metadata": {
    "collapsed": false
   },
   "id": "522a5c8c25bd5234"
  },
  {
   "cell_type": "code",
   "execution_count": null,
   "outputs": [],
   "source": [],
   "metadata": {
    "collapsed": false
   },
   "id": "1960dad9417579fb"
  },
  {
   "cell_type": "code",
   "execution_count": null,
   "outputs": [],
   "source": [],
   "metadata": {
    "collapsed": false
   },
   "id": "9337b14155124171"
  },
  {
   "cell_type": "markdown",
   "source": [
    "2b. Randomly select 10% of the samples as a test set. We do training with cross-validation on the 90% and test performance on the test set.     [Add on: If you can’t figure out how to do this, skip this and rely on CV accuracy only to answer questions]\n"
   ],
   "metadata": {
    "collapsed": false
   },
   "id": "a6d96317197982a6"
  },
  {
   "cell_type": "code",
   "execution_count": null,
   "outputs": [],
   "source": [],
   "metadata": {
    "collapsed": false
   },
   "id": "ad4e85cb050b1149"
  },
  {
   "cell_type": "code",
   "execution_count": null,
   "outputs": [],
   "source": [],
   "metadata": {
    "collapsed": false
   },
   "id": "c8ae301394b165f7"
  },
  {
   "cell_type": "markdown",
   "source": [
    "3. Is methylation predictive of age (previous research indicates so)?  What are the CV performance and test set performance of your model? Pick two strategies you listed for question 1 and implement them to answer this question. "
   ],
   "metadata": {
    "collapsed": false
   },
   "id": "83574539e660b29d"
  },
  {
   "cell_type": "code",
   "execution_count": null,
   "outputs": [],
   "source": [],
   "metadata": {
    "collapsed": false
   },
   "id": "90803ede7e52eaf4"
  },
  {
   "cell_type": "code",
   "execution_count": null,
   "outputs": [],
   "source": [],
   "metadata": {
    "collapsed": false
   },
   "id": "ae89a9dc847ac45d"
  },
  {
   "cell_type": "markdown",
   "source": [
    "4. Are all CpGs associated with age? If not, which CpGs are more important for age prediction? Do both methods agree have similar variable importance? Plot importance values as barplots for both methods. [Hint: You need to do some sort of variable importance or variable selection for both methods] "
   ],
   "metadata": {
    "collapsed": false
   },
   "id": "9dfa39b3f1857c02"
  },
  {
   "cell_type": "code",
   "execution_count": null,
   "outputs": [],
   "source": [],
   "metadata": {
    "collapsed": false
   },
   "id": "a4b841085b2429c6"
  },
  {
   "cell_type": "code",
   "execution_count": null,
   "outputs": [],
   "source": [],
   "metadata": {
    "collapsed": false
   },
   "id": "5b4d65cb255807e4"
  },
  {
   "cell_type": "markdown",
   "source": [
    "5. ?"
   ],
   "metadata": {
    "collapsed": false
   },
   "id": "38bb15b805fbd9e5"
  },
  {
   "cell_type": "markdown",
   "source": [
    "5a. Use a sensible cutoff to define “the most important“ using variable importance from both methods. Are you picking the top 10, top 20, or top x percentile? Just define “the top most important”, not really any wrong answers here. Combine the importance metrics from both methods for a unified importance metric, use your imagination here.\n"
   ],
   "metadata": {
    "collapsed": false
   },
   "id": "963aeb453557d26f"
  },
  {
   "cell_type": "code",
   "execution_count": null,
   "outputs": [],
   "source": [],
   "metadata": {
    "collapsed": false
   },
   "id": "7db464e055d8ebc1"
  },
  {
   "cell_type": "code",
   "execution_count": null,
   "outputs": [],
   "source": [],
   "metadata": {
    "collapsed": false
   },
   "id": "53cf35d6b444a55a"
  },
  {
   "cell_type": "markdown",
   "source": [
    "5b. Then, make a heatmap using CpG methylation values for the most important CpGs, but only cluster the CpGs. The sample columns should be sorted by age but not clustered. You might be able to see a visual pattern of CpG methylation values that is associated with the age of the samples on the heatmap. Can you observe such a pattern, display the heatmap as described above, and explain the pattern you see in writing? \n"
   ],
   "metadata": {
    "collapsed": false
   },
   "id": "ef04d3530f4b6d75"
  },
  {
   "cell_type": "code",
   "execution_count": null,
   "outputs": [],
   "source": [],
   "metadata": {
    "collapsed": false
   },
   "id": "e542a6f33ee8e6bd"
  },
  {
   "cell_type": "code",
   "execution_count": null,
   "outputs": [],
   "source": [],
   "metadata": {
    "collapsed": false
   },
   "id": "30c93154e22591dc"
  },
  {
   "cell_type": "markdown",
   "source": [
    "6. Pick the top 3 most important variables and build a simple linear model with them to predict the age, what is the performance of this model on the test set? Is it better or worse than the initial machine learning models with more variables? Show an accuracy metric on the test set as bar plot. "
   ],
   "metadata": {
    "collapsed": false
   },
   "id": "a62d9498e862c68f"
  },
  {
   "cell_type": "code",
   "execution_count": null,
   "outputs": [],
   "source": [],
   "metadata": {
    "collapsed": false
   },
   "id": "69f52c4e06ff09be"
  },
  {
   "cell_type": "code",
   "execution_count": null,
   "outputs": [],
   "source": [],
   "metadata": {
    "collapsed": false
   },
   "id": "cb07e5be3585f144"
  }
 ],
 "metadata": {
  "kernelspec": {
   "display_name": "Python 3",
   "language": "python",
   "name": "python3"
  },
  "language_info": {
   "codemirror_mode": {
    "name": "ipython",
    "version": 2
   },
   "file_extension": ".py",
   "mimetype": "text/x-python",
   "name": "python",
   "nbconvert_exporter": "python",
   "pygments_lexer": "ipython2",
   "version": "2.7.6"
  }
 },
 "nbformat": 4,
 "nbformat_minor": 5
}
